{
 "cells": [
  {
   "cell_type": "markdown",
   "metadata": {},
   "source": [
    "### Objective: is to fit a time series model for the meantemp variable in the given data. \n",
    "3 things to do:\n",
    "change the path\n",
    "\n",
    "change the code for the outofsample and check it\n"
   ]
  },
  {
   "cell_type": "code",
   "execution_count": 1,
   "metadata": {},
   "outputs": [],
   "source": [
    "import numpy as np\n",
    "import pandas as pd\n",
    "import matplotlib.pyplot as plt\n",
    "%matplotlib inline"
   ]
  },
  {
   "cell_type": "code",
   "execution_count": 2,
   "metadata": {},
   "outputs": [],
   "source": [
    "df=pd.read_csv('D:/Acer/drive e/Imarticus/python/project/Time series/archive/DailyDelhiClimateTrain.csv')"
   ]
  },
  {
   "cell_type": "code",
   "execution_count": 3,
   "metadata": {},
   "outputs": [
    {
     "name": "stdout",
     "output_type": "stream",
     "text": [
      "<class 'pandas.core.frame.DataFrame'>\n",
      "RangeIndex: 1462 entries, 0 to 1461\n",
      "Data columns (total 5 columns):\n",
      " #   Column        Non-Null Count  Dtype  \n",
      "---  ------        --------------  -----  \n",
      " 0   date          1462 non-null   object \n",
      " 1   meantemp      1462 non-null   float64\n",
      " 2   humidity      1462 non-null   float64\n",
      " 3   wind_speed    1462 non-null   float64\n",
      " 4   meanpressure  1462 non-null   float64\n",
      "dtypes: float64(4), object(1)\n",
      "memory usage: 57.2+ KB\n"
     ]
    }
   ],
   "source": [
    "df.info()"
   ]
  },
  {
   "cell_type": "markdown",
   "metadata": {},
   "source": [
    "We can see that there are 5 variables. There is no missing data "
   ]
  },
  {
   "cell_type": "code",
   "execution_count": 4,
   "metadata": {},
   "outputs": [],
   "source": [
    "df.drop(['humidity','wind_speed','meanpressure'],1,inplace=True) \n",
    "# i have dropped these variables as we will just be working on the meantemp variable that is a univariate time series"
   ]
  },
  {
   "cell_type": "code",
   "execution_count": 5,
   "metadata": {},
   "outputs": [
    {
     "data": {
      "text/html": [
       "<div>\n",
       "<style scoped>\n",
       "    .dataframe tbody tr th:only-of-type {\n",
       "        vertical-align: middle;\n",
       "    }\n",
       "\n",
       "    .dataframe tbody tr th {\n",
       "        vertical-align: top;\n",
       "    }\n",
       "\n",
       "    .dataframe thead th {\n",
       "        text-align: right;\n",
       "    }\n",
       "</style>\n",
       "<table border=\"1\" class=\"dataframe\">\n",
       "  <thead>\n",
       "    <tr style=\"text-align: right;\">\n",
       "      <th></th>\n",
       "      <th>meantemp</th>\n",
       "    </tr>\n",
       "  </thead>\n",
       "  <tbody>\n",
       "    <tr>\n",
       "      <th>count</th>\n",
       "      <td>1462.000000</td>\n",
       "    </tr>\n",
       "    <tr>\n",
       "      <th>mean</th>\n",
       "      <td>25.495521</td>\n",
       "    </tr>\n",
       "    <tr>\n",
       "      <th>std</th>\n",
       "      <td>7.348103</td>\n",
       "    </tr>\n",
       "    <tr>\n",
       "      <th>min</th>\n",
       "      <td>6.000000</td>\n",
       "    </tr>\n",
       "    <tr>\n",
       "      <th>25%</th>\n",
       "      <td>18.857143</td>\n",
       "    </tr>\n",
       "    <tr>\n",
       "      <th>50%</th>\n",
       "      <td>27.714286</td>\n",
       "    </tr>\n",
       "    <tr>\n",
       "      <th>75%</th>\n",
       "      <td>31.305804</td>\n",
       "    </tr>\n",
       "    <tr>\n",
       "      <th>max</th>\n",
       "      <td>38.714286</td>\n",
       "    </tr>\n",
       "  </tbody>\n",
       "</table>\n",
       "</div>"
      ],
      "text/plain": [
       "          meantemp\n",
       "count  1462.000000\n",
       "mean     25.495521\n",
       "std       7.348103\n",
       "min       6.000000\n",
       "25%      18.857143\n",
       "50%      27.714286\n",
       "75%      31.305804\n",
       "max      38.714286"
      ]
     },
     "execution_count": 5,
     "metadata": {},
     "output_type": "execute_result"
    }
   ],
   "source": [
    "df.describe()"
   ]
  },
  {
   "cell_type": "code",
   "execution_count": 6,
   "metadata": {},
   "outputs": [
    {
     "data": {
      "text/html": [
       "<div>\n",
       "<style scoped>\n",
       "    .dataframe tbody tr th:only-of-type {\n",
       "        vertical-align: middle;\n",
       "    }\n",
       "\n",
       "    .dataframe tbody tr th {\n",
       "        vertical-align: top;\n",
       "    }\n",
       "\n",
       "    .dataframe thead th {\n",
       "        text-align: right;\n",
       "    }\n",
       "</style>\n",
       "<table border=\"1\" class=\"dataframe\">\n",
       "  <thead>\n",
       "    <tr style=\"text-align: right;\">\n",
       "      <th></th>\n",
       "      <th>date</th>\n",
       "      <th>meantemp</th>\n",
       "    </tr>\n",
       "  </thead>\n",
       "  <tbody>\n",
       "    <tr>\n",
       "      <th>0</th>\n",
       "      <td>2013-01-01</td>\n",
       "      <td>10.000000</td>\n",
       "    </tr>\n",
       "    <tr>\n",
       "      <th>1</th>\n",
       "      <td>2013-01-02</td>\n",
       "      <td>7.400000</td>\n",
       "    </tr>\n",
       "    <tr>\n",
       "      <th>2</th>\n",
       "      <td>2013-01-03</td>\n",
       "      <td>7.166667</td>\n",
       "    </tr>\n",
       "    <tr>\n",
       "      <th>3</th>\n",
       "      <td>2013-01-04</td>\n",
       "      <td>8.666667</td>\n",
       "    </tr>\n",
       "    <tr>\n",
       "      <th>4</th>\n",
       "      <td>2013-01-05</td>\n",
       "      <td>6.000000</td>\n",
       "    </tr>\n",
       "  </tbody>\n",
       "</table>\n",
       "</div>"
      ],
      "text/plain": [
       "         date   meantemp\n",
       "0  2013-01-01  10.000000\n",
       "1  2013-01-02   7.400000\n",
       "2  2013-01-03   7.166667\n",
       "3  2013-01-04   8.666667\n",
       "4  2013-01-05   6.000000"
      ]
     },
     "execution_count": 6,
     "metadata": {},
     "output_type": "execute_result"
    }
   ],
   "source": [
    "df.head()"
   ]
  },
  {
   "cell_type": "code",
   "execution_count": 7,
   "metadata": {},
   "outputs": [
    {
     "data": {
      "text/html": [
       "<div>\n",
       "<style scoped>\n",
       "    .dataframe tbody tr th:only-of-type {\n",
       "        vertical-align: middle;\n",
       "    }\n",
       "\n",
       "    .dataframe tbody tr th {\n",
       "        vertical-align: top;\n",
       "    }\n",
       "\n",
       "    .dataframe thead th {\n",
       "        text-align: right;\n",
       "    }\n",
       "</style>\n",
       "<table border=\"1\" class=\"dataframe\">\n",
       "  <thead>\n",
       "    <tr style=\"text-align: right;\">\n",
       "      <th></th>\n",
       "      <th>date</th>\n",
       "      <th>meantemp</th>\n",
       "    </tr>\n",
       "  </thead>\n",
       "  <tbody>\n",
       "    <tr>\n",
       "      <th>1457</th>\n",
       "      <td>2016-12-28</td>\n",
       "      <td>17.217391</td>\n",
       "    </tr>\n",
       "    <tr>\n",
       "      <th>1458</th>\n",
       "      <td>2016-12-29</td>\n",
       "      <td>15.238095</td>\n",
       "    </tr>\n",
       "    <tr>\n",
       "      <th>1459</th>\n",
       "      <td>2016-12-30</td>\n",
       "      <td>14.095238</td>\n",
       "    </tr>\n",
       "    <tr>\n",
       "      <th>1460</th>\n",
       "      <td>2016-12-31</td>\n",
       "      <td>15.052632</td>\n",
       "    </tr>\n",
       "    <tr>\n",
       "      <th>1461</th>\n",
       "      <td>2017-01-01</td>\n",
       "      <td>10.000000</td>\n",
       "    </tr>\n",
       "  </tbody>\n",
       "</table>\n",
       "</div>"
      ],
      "text/plain": [
       "            date   meantemp\n",
       "1457  2016-12-28  17.217391\n",
       "1458  2016-12-29  15.238095\n",
       "1459  2016-12-30  14.095238\n",
       "1460  2016-12-31  15.052632\n",
       "1461  2017-01-01  10.000000"
      ]
     },
     "execution_count": 7,
     "metadata": {},
     "output_type": "execute_result"
    }
   ],
   "source": [
    "df.tail()"
   ]
  },
  {
   "cell_type": "markdown",
   "metadata": {},
   "source": [
    "We can see that we have mean temperature starting from 01-01-2013 to 01-01-2017."
   ]
  },
  {
   "cell_type": "code",
   "execution_count": 8,
   "metadata": {},
   "outputs": [
    {
     "data": {
      "text/plain": [
       "str"
      ]
     },
     "execution_count": 8,
     "metadata": {},
     "output_type": "execute_result"
    }
   ],
   "source": [
    "type(df.date[0]) "
   ]
  },
  {
   "cell_type": "code",
   "execution_count": 9,
   "metadata": {},
   "outputs": [],
   "source": [
    "#Convert String format into Datetime\n",
    "df['date']=pd.to_datetime(df['date'])"
   ]
  },
  {
   "cell_type": "code",
   "execution_count": 11,
   "metadata": {},
   "outputs": [
    {
     "data": {
      "text/plain": [
       "pandas._libs.tslibs.timestamps.Timestamp"
      ]
     },
     "execution_count": 11,
     "metadata": {},
     "output_type": "execute_result"
    }
   ],
   "source": [
    "type(df.date[0]) # Format changed `"
   ]
  },
  {
   "cell_type": "code",
   "execution_count": 12,
   "metadata": {},
   "outputs": [],
   "source": [
    "df.set_index('date',inplace=True)"
   ]
  },
  {
   "cell_type": "code",
   "execution_count": 13,
   "metadata": {},
   "outputs": [
    {
     "data": {
      "text/plain": [
       "<matplotlib.axes._subplots.AxesSubplot at 0x1f969c4e190>"
      ]
     },
     "execution_count": 13,
     "metadata": {},
     "output_type": "execute_result"
    },
    {
     "data": {
      "image/png": "[encoded data removed]",
      "text/plain": [
       "<Figure size 432x288 with 1 Axes>"
      ]
     },
     "metadata": {
      "needs_background": "light"
     },
     "output_type": "display_data"
    }
   ],
   "source": [
    "df.plot()"
   ]
  },
  {
   "cell_type": "code",
   "execution_count": 14,
   "metadata": {},
   "outputs": [],
   "source": [
    "df2 = df.copy()"
   ]
  },
  {
   "cell_type": "code",
   "execution_count": 15,
   "metadata": {},
   "outputs": [
    {
     "data": {
      "text/html": [
       "<div>\n",
       "<style scoped>\n",
       "    .dataframe tbody tr th:only-of-type {\n",
       "        vertical-align: middle;\n",
       "    }\n",
       "\n",
       "    .dataframe tbody tr th {\n",
       "        vertical-align: top;\n",
       "    }\n",
       "\n",
       "    .dataframe thead th {\n",
       "        text-align: right;\n",
       "    }\n",
       "</style>\n",
       "<table border=\"1\" class=\"dataframe\">\n",
       "  <thead>\n",
       "    <tr style=\"text-align: right;\">\n",
       "      <th></th>\n",
       "      <th>meantemp</th>\n",
       "    </tr>\n",
       "    <tr>\n",
       "      <th>date</th>\n",
       "      <th></th>\n",
       "    </tr>\n",
       "  </thead>\n",
       "  <tbody>\n",
       "    <tr>\n",
       "      <th>2013-01-01</th>\n",
       "      <td>10.000000</td>\n",
       "    </tr>\n",
       "    <tr>\n",
       "      <th>2013-01-02</th>\n",
       "      <td>7.400000</td>\n",
       "    </tr>\n",
       "    <tr>\n",
       "      <th>2013-01-03</th>\n",
       "      <td>7.166667</td>\n",
       "    </tr>\n",
       "    <tr>\n",
       "      <th>2013-01-04</th>\n",
       "      <td>8.666667</td>\n",
       "    </tr>\n",
       "    <tr>\n",
       "      <th>2013-01-05</th>\n",
       "      <td>6.000000</td>\n",
       "    </tr>\n",
       "  </tbody>\n",
       "</table>\n",
       "</div>"
      ],
      "text/plain": [
       "             meantemp\n",
       "date                 \n",
       "2013-01-01  10.000000\n",
       "2013-01-02   7.400000\n",
       "2013-01-03   7.166667\n",
       "2013-01-04   8.666667\n",
       "2013-01-05   6.000000"
      ]
     },
     "execution_count": 15,
     "metadata": {},
     "output_type": "execute_result"
    }
   ],
   "source": [
    "df2.head()"
   ]
  },
  {
   "cell_type": "code",
   "execution_count": 16,
   "metadata": {},
   "outputs": [],
   "source": [
    "df2 = df2.resample('1M').mean() # We changed the data from daily to monthly by taking its average\n"
   ]
  },
  {
   "cell_type": "code",
   "execution_count": 17,
   "metadata": {},
   "outputs": [
    {
     "data": {
      "text/html": [
       "<div>\n",
       "<style scoped>\n",
       "    .dataframe tbody tr th:only-of-type {\n",
       "        vertical-align: middle;\n",
       "    }\n",
       "\n",
       "    .dataframe tbody tr th {\n",
       "        vertical-align: top;\n",
       "    }\n",
       "\n",
       "    .dataframe thead th {\n",
       "        text-align: right;\n",
       "    }\n",
       "</style>\n",
       "<table border=\"1\" class=\"dataframe\">\n",
       "  <thead>\n",
       "    <tr style=\"text-align: right;\">\n",
       "      <th></th>\n",
       "      <th>meantemp</th>\n",
       "    </tr>\n",
       "    <tr>\n",
       "      <th>date</th>\n",
       "      <th></th>\n",
       "    </tr>\n",
       "  </thead>\n",
       "  <tbody>\n",
       "    <tr>\n",
       "      <th>2013-01-31</th>\n",
       "      <td>12.074770</td>\n",
       "    </tr>\n",
       "    <tr>\n",
       "      <th>2013-02-28</th>\n",
       "      <td>16.867560</td>\n",
       "    </tr>\n",
       "    <tr>\n",
       "      <th>2013-03-31</th>\n",
       "      <td>22.814209</td>\n",
       "    </tr>\n",
       "    <tr>\n",
       "      <th>2013-04-30</th>\n",
       "      <td>28.895119</td>\n",
       "    </tr>\n",
       "    <tr>\n",
       "      <th>2013-05-31</th>\n",
       "      <td>33.776767</td>\n",
       "    </tr>\n",
       "  </tbody>\n",
       "</table>\n",
       "</div>"
      ],
      "text/plain": [
       "             meantemp\n",
       "date                 \n",
       "2013-01-31  12.074770\n",
       "2013-02-28  16.867560\n",
       "2013-03-31  22.814209\n",
       "2013-04-30  28.895119\n",
       "2013-05-31  33.776767"
      ]
     },
     "execution_count": 17,
     "metadata": {},
     "output_type": "execute_result"
    }
   ],
   "source": [
    "df2.head()"
   ]
  },
  {
   "cell_type": "code",
   "execution_count": 18,
   "metadata": {},
   "outputs": [
    {
     "data": {
      "text/plain": [
       "<matplotlib.axes._subplots.AxesSubplot at 0x1f96a42b910>"
      ]
     },
     "execution_count": 18,
     "metadata": {},
     "output_type": "execute_result"
    },
    {
     "data": {
      "image/png": "[encoded data removed]",
      "text/plain": [
       "<Figure size 432x288 with 1 Axes>"
      ]
     },
     "metadata": {
      "needs_background": "light"
     },
     "output_type": "display_data"
    }
   ],
   "source": [
    "df2.plot()"
   ]
  },
  {
   "cell_type": "markdown",
   "metadata": {},
   "source": [
    "We see that our data is seasonal. And it makes sense since we have taken monthly meantemp."
   ]
  },
  {
   "cell_type": "code",
   "execution_count": 19,
   "metadata": {},
   "outputs": [],
   "source": [
    "### Testing For Stationarity - We need the data to be stationary before fitting a time series model.\n",
    "## We use dickey fuller test for the same. \n",
    "# H0: The series has unit root which implies non-stationarity\n",
    "# H1: The series is stationary\n",
    "\n",
    "from statsmodels.tsa.stattools import adfuller"
   ]
  },
  {
   "cell_type": "code",
   "execution_count": 20,
   "metadata": {},
   "outputs": [],
   "source": [
    "Test_stationarity = adfuller(df2['meantemp'])"
   ]
  },
  {
   "cell_type": "code",
   "execution_count": 21,
   "metadata": {},
   "outputs": [
    {
     "name": "stdout",
     "output_type": "stream",
     "text": [
      "ADF Statistic: -1.0462204206798957 p-value: 0.7360356050589142 lags: 10 Observations used: 38\n",
      "We have insufficient to reject the test. Hence the series is non-stationary\n"
     ]
    }
   ],
   "source": [
    "print(f'ADF Statistic: {Test_stationarity[0]}',f'p-value: {Test_stationarity[1]}',f'lags: {Test_stationarity[2]}',f'Observations used: {Test_stationarity[3]}')\n",
    "if (Test_stationarity[1] < .05) :\n",
    "     print(\"We have sufficient evidence to reject the test. Hence the series is stationary\")\n",
    "else:\n",
    "     print(\"We have insufficient to reject the test. Hence the series is non-stationary\")\n",
    "    "
   ]
  },
  {
   "cell_type": "markdown",
   "metadata": {},
   "source": [
    "Since we saw that the series is not stationary. We need to make it stationary. So we go for differencing."
   ]
  },
  {
   "cell_type": "markdown",
   "metadata": {},
   "source": [
    "### Differencing "
   ]
  },
  {
   "cell_type": "markdown",
   "metadata": {},
   "source": [
    "We are seasonal differencing it. Since we have temperature data."
   ]
  },
  {
   "cell_type": "code",
   "execution_count": 22,
   "metadata": {},
   "outputs": [
    {
     "data": {
      "text/plain": [
       "date\n",
       "2013-01-31          NaN\n",
       "2013-02-28          NaN\n",
       "2013-03-31          NaN\n",
       "2013-04-30          NaN\n",
       "2013-05-31          NaN\n",
       "2013-06-30          NaN\n",
       "2013-07-31          NaN\n",
       "2013-08-31          NaN\n",
       "2013-09-30          NaN\n",
       "2013-10-31          NaN\n",
       "2013-11-30          NaN\n",
       "2013-12-31          NaN\n",
       "2014-01-31    12.074770\n",
       "2014-02-28    16.867560\n",
       "2014-03-31    22.814209\n",
       "2014-04-30    28.895119\n",
       "2014-05-31    33.776767\n",
       "2014-06-30    32.480873\n",
       "2014-07-31    30.663594\n",
       "2014-08-31    29.547773\n",
       "Freq: M, Name: meantemp, dtype: float64"
      ]
     },
     "execution_count": 22,
     "metadata": {},
     "output_type": "execute_result"
    }
   ],
   "source": [
    "df2['meantemp'].shift(12).head(20) # It simply shifts first 12 values down"
   ]
  },
  {
   "cell_type": "code",
   "execution_count": 23,
   "metadata": {},
   "outputs": [],
   "source": [
    "df2['meantemp_diffone'] = df2['meantemp'] - df2['meantemp'].shift(12)"
   ]
  },
  {
   "cell_type": "code",
   "execution_count": 24,
   "metadata": {},
   "outputs": [
    {
     "data": {
      "text/html": [
       "<div>\n",
       "<style scoped>\n",
       "    .dataframe tbody tr th:only-of-type {\n",
       "        vertical-align: middle;\n",
       "    }\n",
       "\n",
       "    .dataframe tbody tr th {\n",
       "        vertical-align: top;\n",
       "    }\n",
       "\n",
       "    .dataframe thead th {\n",
       "        text-align: right;\n",
       "    }\n",
       "</style>\n",
       "<table border=\"1\" class=\"dataframe\">\n",
       "  <thead>\n",
       "    <tr style=\"text-align: right;\">\n",
       "      <th></th>\n",
       "      <th>meantemp</th>\n",
       "      <th>meantemp_diffone</th>\n",
       "    </tr>\n",
       "    <tr>\n",
       "      <th>date</th>\n",
       "      <th></th>\n",
       "      <th></th>\n",
       "    </tr>\n",
       "  </thead>\n",
       "  <tbody>\n",
       "    <tr>\n",
       "      <th>2013-01-31</th>\n",
       "      <td>12.074770</td>\n",
       "      <td>NaN</td>\n",
       "    </tr>\n",
       "    <tr>\n",
       "      <th>2013-02-28</th>\n",
       "      <td>16.867560</td>\n",
       "      <td>NaN</td>\n",
       "    </tr>\n",
       "    <tr>\n",
       "      <th>2013-03-31</th>\n",
       "      <td>22.814209</td>\n",
       "      <td>NaN</td>\n",
       "    </tr>\n",
       "    <tr>\n",
       "      <th>2013-04-30</th>\n",
       "      <td>28.895119</td>\n",
       "      <td>NaN</td>\n",
       "    </tr>\n",
       "    <tr>\n",
       "      <th>2013-05-31</th>\n",
       "      <td>33.776767</td>\n",
       "      <td>NaN</td>\n",
       "    </tr>\n",
       "    <tr>\n",
       "      <th>2013-06-30</th>\n",
       "      <td>32.480873</td>\n",
       "      <td>NaN</td>\n",
       "    </tr>\n",
       "    <tr>\n",
       "      <th>2013-07-31</th>\n",
       "      <td>30.663594</td>\n",
       "      <td>NaN</td>\n",
       "    </tr>\n",
       "    <tr>\n",
       "      <th>2013-08-31</th>\n",
       "      <td>29.547773</td>\n",
       "      <td>NaN</td>\n",
       "    </tr>\n",
       "    <tr>\n",
       "      <th>2013-09-30</th>\n",
       "      <td>29.840595</td>\n",
       "      <td>NaN</td>\n",
       "    </tr>\n",
       "    <tr>\n",
       "      <th>2013-10-31</th>\n",
       "      <td>26.129186</td>\n",
       "      <td>NaN</td>\n",
       "    </tr>\n",
       "    <tr>\n",
       "      <th>2013-11-30</th>\n",
       "      <td>18.811706</td>\n",
       "      <td>NaN</td>\n",
       "    </tr>\n",
       "    <tr>\n",
       "      <th>2013-12-31</th>\n",
       "      <td>15.179339</td>\n",
       "      <td>NaN</td>\n",
       "    </tr>\n",
       "    <tr>\n",
       "      <th>2014-01-31</th>\n",
       "      <td>13.431836</td>\n",
       "      <td>1.357066</td>\n",
       "    </tr>\n",
       "    <tr>\n",
       "      <th>2014-02-28</th>\n",
       "      <td>15.746811</td>\n",
       "      <td>-1.120748</td>\n",
       "    </tr>\n",
       "    <tr>\n",
       "      <th>2014-03-31</th>\n",
       "      <td>21.593318</td>\n",
       "      <td>-1.220891</td>\n",
       "    </tr>\n",
       "    <tr>\n",
       "      <th>2014-04-30</th>\n",
       "      <td>28.058333</td>\n",
       "      <td>-0.836786</td>\n",
       "    </tr>\n",
       "    <tr>\n",
       "      <th>2014-05-31</th>\n",
       "      <td>31.405530</td>\n",
       "      <td>-2.371237</td>\n",
       "    </tr>\n",
       "    <tr>\n",
       "      <th>2014-06-30</th>\n",
       "      <td>34.770833</td>\n",
       "      <td>2.289960</td>\n",
       "    </tr>\n",
       "    <tr>\n",
       "      <th>2014-07-31</th>\n",
       "      <td>32.034163</td>\n",
       "      <td>1.370569</td>\n",
       "    </tr>\n",
       "    <tr>\n",
       "      <th>2014-08-31</th>\n",
       "      <td>31.411968</td>\n",
       "      <td>1.864195</td>\n",
       "    </tr>\n",
       "  </tbody>\n",
       "</table>\n",
       "</div>"
      ],
      "text/plain": [
       "             meantemp  meantemp_diffone\n",
       "date                                   \n",
       "2013-01-31  12.074770               NaN\n",
       "2013-02-28  16.867560               NaN\n",
       "2013-03-31  22.814209               NaN\n",
       "2013-04-30  28.895119               NaN\n",
       "2013-05-31  33.776767               NaN\n",
       "2013-06-30  32.480873               NaN\n",
       "2013-07-31  30.663594               NaN\n",
       "2013-08-31  29.547773               NaN\n",
       "2013-09-30  29.840595               NaN\n",
       "2013-10-31  26.129186               NaN\n",
       "2013-11-30  18.811706               NaN\n",
       "2013-12-31  15.179339               NaN\n",
       "2014-01-31  13.431836          1.357066\n",
       "2014-02-28  15.746811         -1.120748\n",
       "2014-03-31  21.593318         -1.220891\n",
       "2014-04-30  28.058333         -0.836786\n",
       "2014-05-31  31.405530         -2.371237\n",
       "2014-06-30  34.770833          2.289960\n",
       "2014-07-31  32.034163          1.370569\n",
       "2014-08-31  31.411968          1.864195"
      ]
     },
     "execution_count": 24,
     "metadata": {},
     "output_type": "execute_result"
    }
   ],
   "source": [
    "df2.head(20)"
   ]
  },
  {
   "cell_type": "code",
   "execution_count": 25,
   "metadata": {},
   "outputs": [],
   "source": [
    "df2 = df2.iloc[12:]"
   ]
  },
  {
   "cell_type": "code",
   "execution_count": 26,
   "metadata": {},
   "outputs": [
    {
     "data": {
      "text/html": [
       "<div>\n",
       "<style scoped>\n",
       "    .dataframe tbody tr th:only-of-type {\n",
       "        vertical-align: middle;\n",
       "    }\n",
       "\n",
       "    .dataframe tbody tr th {\n",
       "        vertical-align: top;\n",
       "    }\n",
       "\n",
       "    .dataframe thead th {\n",
       "        text-align: right;\n",
       "    }\n",
       "</style>\n",
       "<table border=\"1\" class=\"dataframe\">\n",
       "  <thead>\n",
       "    <tr style=\"text-align: right;\">\n",
       "      <th></th>\n",
       "      <th>meantemp</th>\n",
       "      <th>meantemp_diffone</th>\n",
       "    </tr>\n",
       "    <tr>\n",
       "      <th>date</th>\n",
       "      <th></th>\n",
       "      <th></th>\n",
       "    </tr>\n",
       "  </thead>\n",
       "  <tbody>\n",
       "    <tr>\n",
       "      <th>2014-01-31</th>\n",
       "      <td>13.431836</td>\n",
       "      <td>1.357066</td>\n",
       "    </tr>\n",
       "    <tr>\n",
       "      <th>2014-02-28</th>\n",
       "      <td>15.746811</td>\n",
       "      <td>-1.120748</td>\n",
       "    </tr>\n",
       "    <tr>\n",
       "      <th>2014-03-31</th>\n",
       "      <td>21.593318</td>\n",
       "      <td>-1.220891</td>\n",
       "    </tr>\n",
       "    <tr>\n",
       "      <th>2014-04-30</th>\n",
       "      <td>28.058333</td>\n",
       "      <td>-0.836786</td>\n",
       "    </tr>\n",
       "    <tr>\n",
       "      <th>2014-05-31</th>\n",
       "      <td>31.405530</td>\n",
       "      <td>-2.371237</td>\n",
       "    </tr>\n",
       "    <tr>\n",
       "      <th>2014-06-30</th>\n",
       "      <td>34.770833</td>\n",
       "      <td>2.289960</td>\n",
       "    </tr>\n",
       "    <tr>\n",
       "      <th>2014-07-31</th>\n",
       "      <td>32.034163</td>\n",
       "      <td>1.370569</td>\n",
       "    </tr>\n",
       "    <tr>\n",
       "      <th>2014-08-31</th>\n",
       "      <td>31.411968</td>\n",
       "      <td>1.864195</td>\n",
       "    </tr>\n",
       "    <tr>\n",
       "      <th>2014-09-30</th>\n",
       "      <td>29.762500</td>\n",
       "      <td>-0.078095</td>\n",
       "    </tr>\n",
       "    <tr>\n",
       "      <th>2014-10-31</th>\n",
       "      <td>26.496544</td>\n",
       "      <td>0.367358</td>\n",
       "    </tr>\n",
       "    <tr>\n",
       "      <th>2014-11-30</th>\n",
       "      <td>20.104167</td>\n",
       "      <td>1.292460</td>\n",
       "    </tr>\n",
       "    <tr>\n",
       "      <th>2014-12-31</th>\n",
       "      <td>14.823733</td>\n",
       "      <td>-0.355607</td>\n",
       "    </tr>\n",
       "    <tr>\n",
       "      <th>2015-01-31</th>\n",
       "      <td>12.708525</td>\n",
       "      <td>-0.723310</td>\n",
       "    </tr>\n",
       "    <tr>\n",
       "      <th>2015-02-28</th>\n",
       "      <td>18.791454</td>\n",
       "      <td>3.044643</td>\n",
       "    </tr>\n",
       "    <tr>\n",
       "      <th>2015-03-31</th>\n",
       "      <td>21.547811</td>\n",
       "      <td>-0.045507</td>\n",
       "    </tr>\n",
       "    <tr>\n",
       "      <th>2015-04-30</th>\n",
       "      <td>28.002976</td>\n",
       "      <td>-0.055357</td>\n",
       "    </tr>\n",
       "    <tr>\n",
       "      <th>2015-05-31</th>\n",
       "      <td>33.352535</td>\n",
       "      <td>1.947005</td>\n",
       "    </tr>\n",
       "    <tr>\n",
       "      <th>2015-06-30</th>\n",
       "      <td>32.737500</td>\n",
       "      <td>-2.033333</td>\n",
       "    </tr>\n",
       "    <tr>\n",
       "      <th>2015-07-31</th>\n",
       "      <td>30.409562</td>\n",
       "      <td>-1.624601</td>\n",
       "    </tr>\n",
       "    <tr>\n",
       "      <th>2015-08-31</th>\n",
       "      <td>30.330789</td>\n",
       "      <td>-1.081179</td>\n",
       "    </tr>\n",
       "    <tr>\n",
       "      <th>2015-09-30</th>\n",
       "      <td>30.650000</td>\n",
       "      <td>0.887500</td>\n",
       "    </tr>\n",
       "    <tr>\n",
       "      <th>2015-10-31</th>\n",
       "      <td>26.865207</td>\n",
       "      <td>0.368664</td>\n",
       "    </tr>\n",
       "    <tr>\n",
       "      <th>2015-11-30</th>\n",
       "      <td>20.754167</td>\n",
       "      <td>0.650000</td>\n",
       "    </tr>\n",
       "    <tr>\n",
       "      <th>2015-12-31</th>\n",
       "      <td>14.989631</td>\n",
       "      <td>0.165899</td>\n",
       "    </tr>\n",
       "    <tr>\n",
       "      <th>2016-01-31</th>\n",
       "      <td>15.139363</td>\n",
       "      <td>2.430837</td>\n",
       "    </tr>\n",
       "    <tr>\n",
       "      <th>2016-02-29</th>\n",
       "      <td>19.025676</td>\n",
       "      <td>0.234222</td>\n",
       "    </tr>\n",
       "    <tr>\n",
       "      <th>2016-03-31</th>\n",
       "      <td>25.701075</td>\n",
       "      <td>4.153264</td>\n",
       "    </tr>\n",
       "    <tr>\n",
       "      <th>2016-04-30</th>\n",
       "      <td>32.550029</td>\n",
       "      <td>4.547053</td>\n",
       "    </tr>\n",
       "    <tr>\n",
       "      <th>2016-05-31</th>\n",
       "      <td>34.728726</td>\n",
       "      <td>1.376191</td>\n",
       "    </tr>\n",
       "    <tr>\n",
       "      <th>2016-06-30</th>\n",
       "      <td>34.946836</td>\n",
       "      <td>2.209336</td>\n",
       "    </tr>\n",
       "    <tr>\n",
       "      <th>2016-07-31</th>\n",
       "      <td>30.875806</td>\n",
       "      <td>0.466244</td>\n",
       "    </tr>\n",
       "    <tr>\n",
       "      <th>2016-08-31</th>\n",
       "      <td>31.116578</td>\n",
       "      <td>0.785788</td>\n",
       "    </tr>\n",
       "    <tr>\n",
       "      <th>2016-09-30</th>\n",
       "      <td>31.479768</td>\n",
       "      <td>0.829768</td>\n",
       "    </tr>\n",
       "    <tr>\n",
       "      <th>2016-10-31</th>\n",
       "      <td>28.961680</td>\n",
       "      <td>2.096473</td>\n",
       "    </tr>\n",
       "    <tr>\n",
       "      <th>2016-11-30</th>\n",
       "      <td>22.957378</td>\n",
       "      <td>2.203212</td>\n",
       "    </tr>\n",
       "    <tr>\n",
       "      <th>2016-12-31</th>\n",
       "      <td>17.672565</td>\n",
       "      <td>2.682933</td>\n",
       "    </tr>\n",
       "    <tr>\n",
       "      <th>2017-01-31</th>\n",
       "      <td>10.000000</td>\n",
       "      <td>-5.139363</td>\n",
       "    </tr>\n",
       "  </tbody>\n",
       "</table>\n",
       "</div>"
      ],
      "text/plain": [
       "             meantemp  meantemp_diffone\n",
       "date                                   \n",
       "2014-01-31  13.431836          1.357066\n",
       "2014-02-28  15.746811         -1.120748\n",
       "2014-03-31  21.593318         -1.220891\n",
       "2014-04-30  28.058333         -0.836786\n",
       "2014-05-31  31.405530         -2.371237\n",
       "2014-06-30  34.770833          2.289960\n",
       "2014-07-31  32.034163          1.370569\n",
       "2014-08-31  31.411968          1.864195\n",
       "2014-09-30  29.762500         -0.078095\n",
       "2014-10-31  26.496544          0.367358\n",
       "2014-11-30  20.104167          1.292460\n",
       "2014-12-31  14.823733         -0.355607\n",
       "2015-01-31  12.708525         -0.723310\n",
       "2015-02-28  18.791454          3.044643\n",
       "2015-03-31  21.547811         -0.045507\n",
       "2015-04-30  28.002976         -0.055357\n",
       "2015-05-31  33.352535          1.947005\n",
       "2015-06-30  32.737500         -2.033333\n",
       "2015-07-31  30.409562         -1.624601\n",
       "2015-08-31  30.330789         -1.081179\n",
       "2015-09-30  30.650000          0.887500\n",
       "2015-10-31  26.865207          0.368664\n",
       "2015-11-30  20.754167          0.650000\n",
       "2015-12-31  14.989631          0.165899\n",
       "2016-01-31  15.139363          2.430837\n",
       "2016-02-29  19.025676          0.234222\n",
       "2016-03-31  25.701075          4.153264\n",
       "2016-04-30  32.550029          4.547053\n",
       "2016-05-31  34.728726          1.376191\n",
       "2016-06-30  34.946836          2.209336\n",
       "2016-07-31  30.875806          0.466244\n",
       "2016-08-31  31.116578          0.785788\n",
       "2016-09-30  31.479768          0.829768\n",
       "2016-10-31  28.961680          2.096473\n",
       "2016-11-30  22.957378          2.203212\n",
       "2016-12-31  17.672565          2.682933\n",
       "2017-01-31  10.000000         -5.139363"
      ]
     },
     "execution_count": 26,
     "metadata": {},
     "output_type": "execute_result"
    }
   ],
   "source": [
    "df2"
   ]
  },
  {
   "cell_type": "code",
   "execution_count": 27,
   "metadata": {},
   "outputs": [],
   "source": [
    "Test_stationarity_2 = adfuller(df2['meantemp_diffone'])"
   ]
  },
  {
   "cell_type": "code",
   "execution_count": 28,
   "metadata": {},
   "outputs": [
    {
     "data": {
      "text/plain": [
       "(-4.214425127250887,\n",
       " 0.0006228172601323936,\n",
       " 0,\n",
       " 36,\n",
       " {'1%': -3.626651907578875,\n",
       "  '5%': -2.9459512825788754,\n",
       "  '10%': -2.6116707716049383},\n",
       " 113.21800643086704)"
      ]
     },
     "execution_count": 28,
     "metadata": {},
     "output_type": "execute_result"
    }
   ],
   "source": [
    "Test_stationarity_2"
   ]
  },
  {
   "cell_type": "code",
   "execution_count": 29,
   "metadata": {},
   "outputs": [
    {
     "name": "stdout",
     "output_type": "stream",
     "text": [
      "ADF Statistic: -4.214425127250887 p-value: 0.0006228172601323936 lags: 0 Observations used: 36\n",
      "We have sufficient evidence to reject the test. Hence the series is stationary\n"
     ]
    }
   ],
   "source": [
    "Test_stationarity_2\n",
    "print(f'ADF Statistic: {Test_stationarity_2[0]}',f'p-value: {Test_stationarity_2[1]}',f'lags: {Test_stationarity_2[2]}',f'Observations used: {Test_stationarity_2[3]}')\n",
    "if (Test_stationarity_2[1] < .05) :\n",
    "     print(\"We have sufficient evidence to reject the test. Hence the series is stationary\")\n",
    "else:\n",
    "     print(\"We have insufficient to reject the test. Hence the series is non-stationary\")\n"
   ]
  },
  {
   "cell_type": "markdown",
   "metadata": {},
   "source": [
    "One observation here is that I see a lag of zero. Need to clarify this one."
   ]
  },
  {
   "cell_type": "code",
   "execution_count": 30,
   "metadata": {},
   "outputs": [
    {
     "data": {
      "text/plain": [
       "<matplotlib.axes._subplots.AxesSubplot at 0x1f96a4d5f10>"
      ]
     },
     "execution_count": 30,
     "metadata": {},
     "output_type": "execute_result"
    },
    {
     "data": {
      "image/png": "[encoded data removed]",
      "text/plain": [
       "<Figure size 432x288 with 1 Axes>"
      ]
     },
     "metadata": {
      "needs_background": "light"
     },
     "output_type": "display_data"
    }
   ],
   "source": [
    "df2['meantemp_diffone'].plot() "
   ]
  },
  {
   "cell_type": "markdown",
   "metadata": {},
   "source": [
    "## AR model"
   ]
  },
  {
   "cell_type": "code",
   "execution_count": 31,
   "metadata": {},
   "outputs": [],
   "source": [
    "from statsmodels.graphics.tsaplots import plot_acf,plot_pacf"
   ]
  },
  {
   "cell_type": "code",
   "execution_count": 32,
   "metadata": {},
   "outputs": [
    {
     "name": "stderr",
     "output_type": "stream",
     "text": [
      "C:\\ProgramData\\Anaconda3\\lib\\site-packages\\statsmodels\\regression\\linear_model.py:1406: RuntimeWarning: invalid value encountered in sqrt\n",
      "  return rho, np.sqrt(sigmasq)\n"
     ]
    },
    {
     "data": {
      "image/png": "[encoded data removed]",
      "text/plain": [
       "<Figure size 864x576 with 2 Axes>"
      ]
     },
     "metadata": {
      "needs_background": "light"
     },
     "output_type": "display_data"
    }
   ],
   "source": [
    "fig = plt.figure(figsize=(12,8))\n",
    "ax1 = fig.add_subplot(211)\n",
    "fig = plot_acf(df2['meantemp_diffone'],lags=36,ax=ax1)\n",
    "ax2 = fig.add_subplot(212)\n",
    "fig = plot_pacf(df2['meantemp_diffone'],lags=36,ax=ax2)"
   ]
  },
  {
   "cell_type": "markdown",
   "metadata": {},
   "source": [
    "Looking at the above plot it seems like a pure MA series since PACF is almost zero at lag 1."
   ]
  },
  {
   "cell_type": "code",
   "execution_count": 38,
   "metadata": {},
   "outputs": [],
   "source": [
    "import statsmodels.api as stm"
   ]
  },
  {
   "cell_type": "code",
   "execution_count": 51,
   "metadata": {},
   "outputs": [],
   "source": [
    "sarima_m_s1=stm.tsa.statespace.SARIMAX(df2['meantemp'],order=(0,0,0),seasonal_order=(0,1,1,12))\n",
    "sarima_results_s1=sarima_m_s1.fit()"
   ]
  },
  {
   "cell_type": "code",
   "execution_count": 52,
   "metadata": {},
   "outputs": [
    {
     "data": {
      "text/html": [
       "<table class=\"simpletable\">\n",
       "<caption>SARIMAX Results</caption>\n",
       "<tr>\n",
       "  <th>Dep. Variable:</th>          <td>meantemp</td>        <th>  No. Observations:  </th>   <td>37</td>   \n",
       "</tr>\n",
       "<tr>\n",
       "  <th>Model:</th>           <td>SARIMAX(0, 1, [1], 12)</td> <th>  Log Likelihood     </th> <td>-54.539</td>\n",
       "</tr>\n",
       "<tr>\n",
       "  <th>Date:</th>               <td>Tue, 16 Feb 2021</td>    <th>  AIC                </th> <td>113.079</td>\n",
       "</tr>\n",
       "<tr>\n",
       "  <th>Time:</th>                   <td>02:48:55</td>        <th>  BIC                </th> <td>115.517</td>\n",
       "</tr>\n",
       "<tr>\n",
       "  <th>Sample:</th>                <td>01-31-2014</td>       <th>  HQIC               </th> <td>113.755</td>\n",
       "</tr>\n",
       "<tr>\n",
       "  <th></th>                      <td>- 01-31-2017</td>      <th>                     </th>    <td> </td>   \n",
       "</tr>\n",
       "<tr>\n",
       "  <th>Covariance Type:</th>           <td>opg</td>          <th>                     </th>    <td> </td>   \n",
       "</tr>\n",
       "</table>\n",
       "<table class=\"simpletable\">\n",
       "<tr>\n",
       "      <td></td>        <th>coef</th>     <th>std err</th>      <th>z</th>      <th>P>|z|</th>  <th>[0.025</th>    <th>0.975]</th>  \n",
       "</tr>\n",
       "<tr>\n",
       "  <th>ma.S.L12</th> <td>   -0.2326</td> <td>    0.503</td> <td>   -0.462</td> <td> 0.644</td> <td>   -1.218</td> <td>    0.753</td>\n",
       "</tr>\n",
       "<tr>\n",
       "  <th>sigma2</th>   <td>    4.4756</td> <td>    1.689</td> <td>    2.649</td> <td> 0.008</td> <td>    1.164</td> <td>    7.787</td>\n",
       "</tr>\n",
       "</table>\n",
       "<table class=\"simpletable\">\n",
       "<tr>\n",
       "  <th>Ljung-Box (Q):</th>          <td>34.08</td> <th>  Jarque-Bera (JB):  </th> <td>1.97</td> \n",
       "</tr>\n",
       "<tr>\n",
       "  <th>Prob(Q):</th>                <td>0.08</td>  <th>  Prob(JB):          </th> <td>0.37</td> \n",
       "</tr>\n",
       "<tr>\n",
       "  <th>Heteroskedasticity (H):</th> <td>2.12</td>  <th>  Skew:              </th> <td>-0.55</td>\n",
       "</tr>\n",
       "<tr>\n",
       "  <th>Prob(H) (two-sided):</th>    <td>0.31</td>  <th>  Kurtosis:          </th> <td>3.84</td> \n",
       "</tr>\n",
       "</table><br/><br/>Warnings:<br/>[1] Covariance matrix calculated using the outer product of gradients (complex-step)."
      ],
      "text/plain": [
       "<class 'statsmodels.iolib.summary.Summary'>\n",
       "\"\"\"\n",
       "                                 SARIMAX Results                                  \n",
       "==================================================================================\n",
       "Dep. Variable:                   meantemp   No. Observations:                   37\n",
       "Model:             SARIMAX(0, 1, [1], 12)   Log Likelihood                 -54.539\n",
       "Date:                    Tue, 16 Feb 2021   AIC                            113.079\n",
       "Time:                            02:48:55   BIC                            115.517\n",
       "Sample:                        01-31-2014   HQIC                           113.755\n",
       "                             - 01-31-2017                                         \n",
       "Covariance Type:                      opg                                         \n",
       "==============================================================================\n",
       "                 coef    std err          z      P>|z|      [0.025      0.975]\n",
       "------------------------------------------------------------------------------\n",
       "ma.S.L12      -0.2326      0.503     -0.462      0.644      -1.218       0.753\n",
       "sigma2         4.4756      1.689      2.649      0.008       1.164       7.787\n",
       "===================================================================================\n",
       "Ljung-Box (Q):                       34.08   Jarque-Bera (JB):                 1.97\n",
       "Prob(Q):                              0.08   Prob(JB):                         0.37\n",
       "Heteroskedasticity (H):               2.12   Skew:                            -0.55\n",
       "Prob(H) (two-sided):                  0.31   Kurtosis:                         3.84\n",
       "===================================================================================\n",
       "\n",
       "Warnings:\n",
       "[1] Covariance matrix calculated using the outer product of gradients (complex-step).\n",
       "\"\"\""
      ]
     },
     "execution_count": 52,
     "metadata": {},
     "output_type": "execute_result"
    }
   ],
   "source": [
    "sarima_results_s1.summary()"
   ]
  },
  {
   "cell_type": "code",
   "execution_count": 53,
   "metadata": {},
   "outputs": [],
   "source": [
    "sarima_m_s2=stm.tsa.statespace.SARIMAX(df2['meantemp'],order=(0,0,0),seasonal_order=(0,1,2,12))\n",
    "sarima_results_s2=sarima_m_s2.fit()"
   ]
  },
  {
   "cell_type": "code",
   "execution_count": 54,
   "metadata": {},
   "outputs": [
    {
     "data": {
      "text/html": [
       "<table class=\"simpletable\">\n",
       "<caption>SARIMAX Results</caption>\n",
       "<tr>\n",
       "  <th>Dep. Variable:</th>           <td>meantemp</td>          <th>  No. Observations:  </th>   <td>37</td>   \n",
       "</tr>\n",
       "<tr>\n",
       "  <th>Model:</th>           <td>SARIMAX(0, 1, [1, 2], 12)</td> <th>  Log Likelihood     </th> <td>-54.519</td>\n",
       "</tr>\n",
       "<tr>\n",
       "  <th>Date:</th>                <td>Tue, 16 Feb 2021</td>      <th>  AIC                </th> <td>115.039</td>\n",
       "</tr>\n",
       "<tr>\n",
       "  <th>Time:</th>                    <td>02:51:04</td>          <th>  BIC                </th> <td>118.696</td>\n",
       "</tr>\n",
       "<tr>\n",
       "  <th>Sample:</th>                 <td>01-31-2014</td>         <th>  HQIC               </th> <td>116.053</td>\n",
       "</tr>\n",
       "<tr>\n",
       "  <th></th>                       <td>- 01-31-2017</td>        <th>                     </th>    <td> </td>   \n",
       "</tr>\n",
       "<tr>\n",
       "  <th>Covariance Type:</th>            <td>opg</td>            <th>                     </th>    <td> </td>   \n",
       "</tr>\n",
       "</table>\n",
       "<table class=\"simpletable\">\n",
       "<tr>\n",
       "      <td></td>        <th>coef</th>     <th>std err</th>      <th>z</th>      <th>P>|z|</th>  <th>[0.025</th>    <th>0.975]</th>  \n",
       "</tr>\n",
       "<tr>\n",
       "  <th>ma.S.L12</th> <td>   -0.2049</td> <td>  410.701</td> <td>   -0.000</td> <td> 1.000</td> <td> -805.163</td> <td>  804.753</td>\n",
       "</tr>\n",
       "<tr>\n",
       "  <th>ma.S.L24</th> <td>    0.1041</td> <td> 2609.612</td> <td> 3.99e-05</td> <td> 1.000</td> <td>-5114.641</td> <td> 5114.849</td>\n",
       "</tr>\n",
       "<tr>\n",
       "  <th>sigma2</th>   <td>    4.4678</td> <td> 1591.488</td> <td>    0.003</td> <td> 0.998</td> <td>-3114.791</td> <td> 3123.727</td>\n",
       "</tr>\n",
       "</table>\n",
       "<table class=\"simpletable\">\n",
       "<tr>\n",
       "  <th>Ljung-Box (Q):</th>          <td>34.12</td> <th>  Jarque-Bera (JB):  </th> <td>1.95</td> \n",
       "</tr>\n",
       "<tr>\n",
       "  <th>Prob(Q):</th>                <td>0.08</td>  <th>  Prob(JB):          </th> <td>0.38</td> \n",
       "</tr>\n",
       "<tr>\n",
       "  <th>Heteroskedasticity (H):</th> <td>2.11</td>  <th>  Skew:              </th> <td>-0.54</td>\n",
       "</tr>\n",
       "<tr>\n",
       "  <th>Prob(H) (two-sided):</th>    <td>0.31</td>  <th>  Kurtosis:          </th> <td>3.83</td> \n",
       "</tr>\n",
       "</table><br/><br/>Warnings:<br/>[1] Covariance matrix calculated using the outer product of gradients (complex-step)."
      ],
      "text/plain": [
       "<class 'statsmodels.iolib.summary.Summary'>\n",
       "\"\"\"\n",
       "                                   SARIMAX Results                                   \n",
       "=====================================================================================\n",
       "Dep. Variable:                      meantemp   No. Observations:                   37\n",
       "Model:             SARIMAX(0, 1, [1, 2], 12)   Log Likelihood                 -54.519\n",
       "Date:                       Tue, 16 Feb 2021   AIC                            115.039\n",
       "Time:                               02:51:04   BIC                            118.696\n",
       "Sample:                           01-31-2014   HQIC                           116.053\n",
       "                                - 01-31-2017                                         \n",
       "Covariance Type:                         opg                                         \n",
       "==============================================================================\n",
       "                 coef    std err          z      P>|z|      [0.025      0.975]\n",
       "------------------------------------------------------------------------------\n",
       "ma.S.L12      -0.2049    410.701     -0.000      1.000    -805.163     804.753\n",
       "ma.S.L24       0.1041   2609.612   3.99e-05      1.000   -5114.641    5114.849\n",
       "sigma2         4.4678   1591.488      0.003      0.998   -3114.791    3123.727\n",
       "===================================================================================\n",
       "Ljung-Box (Q):                       34.12   Jarque-Bera (JB):                 1.95\n",
       "Prob(Q):                              0.08   Prob(JB):                         0.38\n",
       "Heteroskedasticity (H):               2.11   Skew:                            -0.54\n",
       "Prob(H) (two-sided):                  0.31   Kurtosis:                         3.83\n",
       "===================================================================================\n",
       "\n",
       "Warnings:\n",
       "[1] Covariance matrix calculated using the outer product of gradients (complex-step).\n",
       "\"\"\""
      ]
     },
     "execution_count": 54,
     "metadata": {},
     "output_type": "execute_result"
    }
   ],
   "source": [
    "sarima_results_s2.summary()"
   ]
  },
  {
   "cell_type": "code",
   "execution_count": 39,
   "metadata": {},
   "outputs": [],
   "source": [
    "sarima_m=stm.tsa.statespace.SARIMAX(df2['meantemp'],order=(1, 1, 1),seasonal_order=(1,1,1,12))\n",
    "sarima_results=sarima_m.fit()"
   ]
  },
  {
   "cell_type": "code",
   "execution_count": 40,
   "metadata": {},
   "outputs": [
    {
     "data": {
      "text/html": [
       "<table class=\"simpletable\">\n",
       "<caption>SARIMAX Results</caption>\n",
       "<tr>\n",
       "  <th>Dep. Variable:</th>              <td>meantemp</td>            <th>  No. Observations:  </th>   <td>37</td>   \n",
       "</tr>\n",
       "<tr>\n",
       "  <th>Model:</th>           <td>SARIMAX(1, 1, 1)x(1, 1, 1, 12)</td> <th>  Log Likelihood     </th> <td>-50.788</td>\n",
       "</tr>\n",
       "<tr>\n",
       "  <th>Date:</th>                   <td>Mon, 15 Feb 2021</td>        <th>  AIC                </th> <td>111.575</td>\n",
       "</tr>\n",
       "<tr>\n",
       "  <th>Time:</th>                       <td>21:00:31</td>            <th>  BIC                </th> <td>117.466</td>\n",
       "</tr>\n",
       "<tr>\n",
       "  <th>Sample:</th>                    <td>01-31-2014</td>           <th>  HQIC               </th> <td>113.138</td>\n",
       "</tr>\n",
       "<tr>\n",
       "  <th></th>                          <td>- 01-31-2017</td>          <th>                     </th>    <td> </td>   \n",
       "</tr>\n",
       "<tr>\n",
       "  <th>Covariance Type:</th>               <td>opg</td>              <th>                     </th>    <td> </td>   \n",
       "</tr>\n",
       "</table>\n",
       "<table class=\"simpletable\">\n",
       "<tr>\n",
       "      <td></td>        <th>coef</th>     <th>std err</th>      <th>z</th>      <th>P>|z|</th>  <th>[0.025</th>    <th>0.975]</th>  \n",
       "</tr>\n",
       "<tr>\n",
       "  <th>ar.L1</th>    <td>    0.3377</td> <td>    0.562</td> <td>    0.601</td> <td> 0.548</td> <td>   -0.763</td> <td>    1.438</td>\n",
       "</tr>\n",
       "<tr>\n",
       "  <th>ma.L1</th>    <td>   -0.9986</td> <td>   49.252</td> <td>   -0.020</td> <td> 0.984</td> <td>  -97.531</td> <td>   95.534</td>\n",
       "</tr>\n",
       "<tr>\n",
       "  <th>ar.S.L12</th> <td>   -0.7504</td> <td>   24.106</td> <td>   -0.031</td> <td> 0.975</td> <td>  -47.998</td> <td>   46.497</td>\n",
       "</tr>\n",
       "<tr>\n",
       "  <th>ma.S.L12</th> <td>    0.3218</td> <td>   36.366</td> <td>    0.009</td> <td> 0.993</td> <td>  -70.954</td> <td>   71.598</td>\n",
       "</tr>\n",
       "<tr>\n",
       "  <th>sigma2</th>   <td>    2.9507</td> <td>  148.774</td> <td>    0.020</td> <td> 0.984</td> <td> -288.640</td> <td>  294.541</td>\n",
       "</tr>\n",
       "</table>\n",
       "<table class=\"simpletable\">\n",
       "<tr>\n",
       "  <th>Ljung-Box (Q):</th>          <td>49.69</td> <th>  Jarque-Bera (JB):  </th> <td>13.15</td>\n",
       "</tr>\n",
       "<tr>\n",
       "  <th>Prob(Q):</th>                <td>0.00</td>  <th>  Prob(JB):          </th> <td>0.00</td> \n",
       "</tr>\n",
       "<tr>\n",
       "  <th>Heteroskedasticity (H):</th> <td>2.03</td>  <th>  Skew:              </th> <td>-1.24</td>\n",
       "</tr>\n",
       "<tr>\n",
       "  <th>Prob(H) (two-sided):</th>    <td>0.34</td>  <th>  Kurtosis:          </th> <td>5.64</td> \n",
       "</tr>\n",
       "</table><br/><br/>Warnings:<br/>[1] Covariance matrix calculated using the outer product of gradients (complex-step)."
      ],
      "text/plain": [
       "<class 'statsmodels.iolib.summary.Summary'>\n",
       "\"\"\"\n",
       "                                     SARIMAX Results                                      \n",
       "==========================================================================================\n",
       "Dep. Variable:                           meantemp   No. Observations:                   37\n",
       "Model:             SARIMAX(1, 1, 1)x(1, 1, 1, 12)   Log Likelihood                 -50.788\n",
       "Date:                            Mon, 15 Feb 2021   AIC                            111.575\n",
       "Time:                                    21:00:31   BIC                            117.466\n",
       "Sample:                                01-31-2014   HQIC                           113.138\n",
       "                                     - 01-31-2017                                         \n",
       "Covariance Type:                              opg                                         \n",
       "==============================================================================\n",
       "                 coef    std err          z      P>|z|      [0.025      0.975]\n",
       "------------------------------------------------------------------------------\n",
       "ar.L1          0.3377      0.562      0.601      0.548      -0.763       1.438\n",
       "ma.L1         -0.9986     49.252     -0.020      0.984     -97.531      95.534\n",
       "ar.S.L12      -0.7504     24.106     -0.031      0.975     -47.998      46.497\n",
       "ma.S.L12       0.3218     36.366      0.009      0.993     -70.954      71.598\n",
       "sigma2         2.9507    148.774      0.020      0.984    -288.640     294.541\n",
       "===================================================================================\n",
       "Ljung-Box (Q):                       49.69   Jarque-Bera (JB):                13.15\n",
       "Prob(Q):                              0.00   Prob(JB):                         0.00\n",
       "Heteroskedasticity (H):               2.03   Skew:                            -1.24\n",
       "Prob(H) (two-sided):                  0.34   Kurtosis:                         5.64\n",
       "===================================================================================\n",
       "\n",
       "Warnings:\n",
       "[1] Covariance matrix calculated using the outer product of gradients (complex-step).\n",
       "\"\"\""
      ]
     },
     "execution_count": 40,
     "metadata": {},
     "output_type": "execute_result"
    }
   ],
   "source": [
    "sarima_results.summary()"
   ]
  },
  {
   "cell_type": "code",
   "execution_count": 68,
   "metadata": {},
   "outputs": [],
   "source": [
    "sarima_m2=stm.tsa.statespace.SARIMAX(df2['meantemp'],order=(0, 1, 1),seasonal_order=(0,1,1,12))\n",
    "sarima_results2=sarima_m2.fit()"
   ]
  },
  {
   "cell_type": "code",
   "execution_count": 69,
   "metadata": {},
   "outputs": [
    {
     "data": {
      "text/html": [
       "<table class=\"simpletable\">\n",
       "<caption>SARIMAX Results</caption>\n",
       "<tr>\n",
       "  <th>Dep. Variable:</th>              <td>meantemp</td>            <th>  No. Observations:  </th>   <td>37</td>   \n",
       "</tr>\n",
       "<tr>\n",
       "  <th>Model:</th>           <td>SARIMAX(0, 1, 1)x(0, 1, 1, 12)</td> <th>  Log Likelihood     </th> <td>-52.023</td>\n",
       "</tr>\n",
       "<tr>\n",
       "  <th>Date:</th>                   <td>Tue, 16 Feb 2021</td>        <th>  AIC                </th> <td>110.047</td>\n",
       "</tr>\n",
       "<tr>\n",
       "  <th>Time:</th>                       <td>03:25:45</td>            <th>  BIC                </th> <td>113.581</td>\n",
       "</tr>\n",
       "<tr>\n",
       "  <th>Sample:</th>                    <td>01-31-2014</td>           <th>  HQIC               </th> <td>110.984</td>\n",
       "</tr>\n",
       "<tr>\n",
       "  <th></th>                          <td>- 01-31-2017</td>          <th>                     </th>    <td> </td>   \n",
       "</tr>\n",
       "<tr>\n",
       "  <th>Covariance Type:</th>               <td>opg</td>              <th>                     </th>    <td> </td>   \n",
       "</tr>\n",
       "</table>\n",
       "<table class=\"simpletable\">\n",
       "<tr>\n",
       "      <td></td>        <th>coef</th>     <th>std err</th>      <th>z</th>      <th>P>|z|</th>  <th>[0.025</th>    <th>0.975]</th>  \n",
       "</tr>\n",
       "<tr>\n",
       "  <th>ma.L1</th>    <td>   -0.7908</td> <td>    0.314</td> <td>   -2.518</td> <td> 0.012</td> <td>   -1.406</td> <td>   -0.175</td>\n",
       "</tr>\n",
       "<tr>\n",
       "  <th>ma.S.L12</th> <td>   -0.3674</td> <td>    1.264</td> <td>   -0.291</td> <td> 0.771</td> <td>   -2.844</td> <td>    2.109</td>\n",
       "</tr>\n",
       "<tr>\n",
       "  <th>sigma2</th>   <td>    3.9906</td> <td>    2.908</td> <td>    1.372</td> <td> 0.170</td> <td>   -1.709</td> <td>    9.690</td>\n",
       "</tr>\n",
       "</table>\n",
       "<table class=\"simpletable\">\n",
       "<tr>\n",
       "  <th>Ljung-Box (Q):</th>          <td>42.13</td> <th>  Jarque-Bera (JB):  </th> <td>9.18</td> \n",
       "</tr>\n",
       "<tr>\n",
       "  <th>Prob(Q):</th>                <td>0.01</td>  <th>  Prob(JB):          </th> <td>0.01</td> \n",
       "</tr>\n",
       "<tr>\n",
       "  <th>Heteroskedasticity (H):</th> <td>2.12</td>  <th>  Skew:              </th> <td>-1.06</td>\n",
       "</tr>\n",
       "<tr>\n",
       "  <th>Prob(H) (two-sided):</th>    <td>0.31</td>  <th>  Kurtosis:          </th> <td>5.17</td> \n",
       "</tr>\n",
       "</table><br/><br/>Warnings:<br/>[1] Covariance matrix calculated using the outer product of gradients (complex-step)."
      ],
      "text/plain": [
       "<class 'statsmodels.iolib.summary.Summary'>\n",
       "\"\"\"\n",
       "                                     SARIMAX Results                                      \n",
       "==========================================================================================\n",
       "Dep. Variable:                           meantemp   No. Observations:                   37\n",
       "Model:             SARIMAX(0, 1, 1)x(0, 1, 1, 12)   Log Likelihood                 -52.023\n",
       "Date:                            Tue, 16 Feb 2021   AIC                            110.047\n",
       "Time:                                    03:25:45   BIC                            113.581\n",
       "Sample:                                01-31-2014   HQIC                           110.984\n",
       "                                     - 01-31-2017                                         \n",
       "Covariance Type:                              opg                                         \n",
       "==============================================================================\n",
       "                 coef    std err          z      P>|z|      [0.025      0.975]\n",
       "------------------------------------------------------------------------------\n",
       "ma.L1         -0.7908      0.314     -2.518      0.012      -1.406      -0.175\n",
       "ma.S.L12      -0.3674      1.264     -0.291      0.771      -2.844       2.109\n",
       "sigma2         3.9906      2.908      1.372      0.170      -1.709       9.690\n",
       "===================================================================================\n",
       "Ljung-Box (Q):                       42.13   Jarque-Bera (JB):                 9.18\n",
       "Prob(Q):                              0.01   Prob(JB):                         0.01\n",
       "Heteroskedasticity (H):               2.12   Skew:                            -1.06\n",
       "Prob(H) (two-sided):                  0.31   Kurtosis:                         5.17\n",
       "===================================================================================\n",
       "\n",
       "Warnings:\n",
       "[1] Covariance matrix calculated using the outer product of gradients (complex-step).\n",
       "\"\"\""
      ]
     },
     "execution_count": 69,
     "metadata": {},
     "output_type": "execute_result"
    }
   ],
   "source": [
    "sarima_results2.summary()"
   ]
  },
  {
   "cell_type": "code",
   "execution_count": 39,
   "metadata": {},
   "outputs": [],
   "source": [
    "sarima_m3=stm.tsa.statespace.SARIMAX(df2['meantemp'],order=(0, 1, 2),seasonal_order=(0,1,2,12))\n",
    "sarima_results3=sarima_m3.fit()"
   ]
  },
  {
   "cell_type": "code",
   "execution_count": 40,
   "metadata": {},
   "outputs": [
    {
     "data": {
      "text/html": [
       "<table class=\"simpletable\">\n",
       "<caption>SARIMAX Results</caption>\n",
       "<tr>\n",
       "  <th>Dep. Variable:</th>              <td>meantemp</td>            <th>  No. Observations:  </th>   <td>37</td>   \n",
       "</tr>\n",
       "<tr>\n",
       "  <th>Model:</th>           <td>SARIMAX(0, 1, 2)x(0, 1, 2, 12)</td> <th>  Log Likelihood     </th> <td>-50.905</td>\n",
       "</tr>\n",
       "<tr>\n",
       "  <th>Date:</th>                   <td>Mon, 15 Feb 2021</td>        <th>  AIC                </th> <td>111.809</td>\n",
       "</tr>\n",
       "<tr>\n",
       "  <th>Time:</th>                       <td>06:30:28</td>            <th>  BIC                </th> <td>117.699</td>\n",
       "</tr>\n",
       "<tr>\n",
       "  <th>Sample:</th>                    <td>01-31-2014</td>           <th>  HQIC               </th> <td>113.372</td>\n",
       "</tr>\n",
       "<tr>\n",
       "  <th></th>                          <td>- 01-31-2017</td>          <th>                     </th>    <td> </td>   \n",
       "</tr>\n",
       "<tr>\n",
       "  <th>Covariance Type:</th>               <td>opg</td>              <th>                     </th>    <td> </td>   \n",
       "</tr>\n",
       "</table>\n",
       "<table class=\"simpletable\">\n",
       "<tr>\n",
       "      <td></td>        <th>coef</th>     <th>std err</th>      <th>z</th>      <th>P>|z|</th>  <th>[0.025</th>    <th>0.975]</th>  \n",
       "</tr>\n",
       "<tr>\n",
       "  <th>ma.L1</th>    <td>   -0.6893</td> <td>   22.739</td> <td>   -0.030</td> <td> 0.976</td> <td>  -45.257</td> <td>   43.879</td>\n",
       "</tr>\n",
       "<tr>\n",
       "  <th>ma.L2</th>    <td>   -0.3072</td> <td>    7.423</td> <td>   -0.041</td> <td> 0.967</td> <td>  -14.856</td> <td>   14.242</td>\n",
       "</tr>\n",
       "<tr>\n",
       "  <th>ma.S.L12</th> <td>   -0.6597</td> <td>  366.143</td> <td>   -0.002</td> <td> 0.999</td> <td> -718.287</td> <td>  716.967</td>\n",
       "</tr>\n",
       "<tr>\n",
       "  <th>ma.S.L24</th> <td>    0.9895</td> <td> 1118.666</td> <td>    0.001</td> <td> 0.999</td> <td>-2191.556</td> <td> 2193.535</td>\n",
       "</tr>\n",
       "<tr>\n",
       "  <th>sigma2</th>   <td>    1.7627</td> <td> 1975.050</td> <td>    0.001</td> <td> 0.999</td> <td>-3869.264</td> <td> 3872.789</td>\n",
       "</tr>\n",
       "</table>\n",
       "<table class=\"simpletable\">\n",
       "<tr>\n",
       "  <th>Ljung-Box (Q):</th>          <td>46.12</td> <th>  Jarque-Bera (JB):  </th> <td>11.50</td>\n",
       "</tr>\n",
       "<tr>\n",
       "  <th>Prob(Q):</th>                <td>0.00</td>  <th>  Prob(JB):          </th> <td>0.00</td> \n",
       "</tr>\n",
       "<tr>\n",
       "  <th>Heteroskedasticity (H):</th> <td>2.11</td>  <th>  Skew:              </th> <td>-1.17</td>\n",
       "</tr>\n",
       "<tr>\n",
       "  <th>Prob(H) (two-sided):</th>    <td>0.31</td>  <th>  Kurtosis:          </th> <td>5.44</td> \n",
       "</tr>\n",
       "</table><br/><br/>Warnings:<br/>[1] Covariance matrix calculated using the outer product of gradients (complex-step)."
      ],
      "text/plain": [
       "<class 'statsmodels.iolib.summary.Summary'>\n",
       "\"\"\"\n",
       "                                     SARIMAX Results                                      \n",
       "==========================================================================================\n",
       "Dep. Variable:                           meantemp   No. Observations:                   37\n",
       "Model:             SARIMAX(0, 1, 2)x(0, 1, 2, 12)   Log Likelihood                 -50.905\n",
       "Date:                            Mon, 15 Feb 2021   AIC                            111.809\n",
       "Time:                                    06:30:28   BIC                            117.699\n",
       "Sample:                                01-31-2014   HQIC                           113.372\n",
       "                                     - 01-31-2017                                         \n",
       "Covariance Type:                              opg                                         \n",
       "==============================================================================\n",
       "                 coef    std err          z      P>|z|      [0.025      0.975]\n",
       "------------------------------------------------------------------------------\n",
       "ma.L1         -0.6893     22.739     -0.030      0.976     -45.257      43.879\n",
       "ma.L2         -0.3072      7.423     -0.041      0.967     -14.856      14.242\n",
       "ma.S.L12      -0.6597    366.143     -0.002      0.999    -718.287     716.967\n",
       "ma.S.L24       0.9895   1118.666      0.001      0.999   -2191.556    2193.535\n",
       "sigma2         1.7627   1975.050      0.001      0.999   -3869.264    3872.789\n",
       "===================================================================================\n",
       "Ljung-Box (Q):                       46.12   Jarque-Bera (JB):                11.50\n",
       "Prob(Q):                              0.00   Prob(JB):                         0.00\n",
       "Heteroskedasticity (H):               2.11   Skew:                            -1.17\n",
       "Prob(H) (two-sided):                  0.31   Kurtosis:                         5.44\n",
       "===================================================================================\n",
       "\n",
       "Warnings:\n",
       "[1] Covariance matrix calculated using the outer product of gradients (complex-step).\n",
       "\"\"\""
      ]
     },
     "execution_count": 40,
     "metadata": {},
     "output_type": "execute_result"
    }
   ],
   "source": [
    "sarima_results3.summary()"
   ]
  },
  {
   "cell_type": "code",
   "execution_count": 41,
   "metadata": {},
   "outputs": [],
   "source": [
    "sarima_m4=stm.tsa.statespace.SARIMAX(df2['meantemp'],order=(0, 1, 1),seasonal_order=(0,1,2,12))\n",
    "sarima_results4=sarima_m4.fit()"
   ]
  },
  {
   "cell_type": "code",
   "execution_count": 42,
   "metadata": {},
   "outputs": [
    {
     "data": {
      "text/html": [
       "<table class=\"simpletable\">\n",
       "<caption>SARIMAX Results</caption>\n",
       "<tr>\n",
       "  <th>Dep. Variable:</th>                <td>meantemp</td>               <th>  No. Observations:  </th>   <td>37</td>   \n",
       "</tr>\n",
       "<tr>\n",
       "  <th>Model:</th>           <td>SARIMAX(0, 1, 1)x(0, 1, [1, 2], 12)</td> <th>  Log Likelihood     </th> <td>-51.384</td>\n",
       "</tr>\n",
       "<tr>\n",
       "  <th>Date:</th>                     <td>Mon, 15 Feb 2021</td>           <th>  AIC                </th> <td>110.769</td>\n",
       "</tr>\n",
       "<tr>\n",
       "  <th>Time:</th>                         <td>06:31:44</td>               <th>  BIC                </th> <td>115.481</td>\n",
       "</tr>\n",
       "<tr>\n",
       "  <th>Sample:</th>                      <td>01-31-2014</td>              <th>  HQIC               </th> <td>112.019</td>\n",
       "</tr>\n",
       "<tr>\n",
       "  <th></th>                            <td>- 01-31-2017</td>             <th>                     </th>    <td> </td>   \n",
       "</tr>\n",
       "<tr>\n",
       "  <th>Covariance Type:</th>                 <td>opg</td>                 <th>                     </th>    <td> </td>   \n",
       "</tr>\n",
       "</table>\n",
       "<table class=\"simpletable\">\n",
       "<tr>\n",
       "      <td></td>        <th>coef</th>     <th>std err</th>      <th>z</th>      <th>P>|z|</th>  <th>[0.025</th>    <th>0.975]</th>  \n",
       "</tr>\n",
       "<tr>\n",
       "  <th>ma.L1</th>    <td>   -0.6607</td> <td>    0.315</td> <td>   -2.096</td> <td> 0.036</td> <td>   -1.278</td> <td>   -0.043</td>\n",
       "</tr>\n",
       "<tr>\n",
       "  <th>ma.S.L12</th> <td>   -0.4765</td> <td>  287.045</td> <td>   -0.002</td> <td> 0.999</td> <td> -563.073</td> <td>  562.120</td>\n",
       "</tr>\n",
       "<tr>\n",
       "  <th>ma.S.L24</th> <td>    0.9916</td> <td> 1211.229</td> <td>    0.001</td> <td> 0.999</td> <td>-2372.973</td> <td> 2374.956</td>\n",
       "</tr>\n",
       "<tr>\n",
       "  <th>sigma2</th>   <td>    2.0762</td> <td> 2514.293</td> <td>    0.001</td> <td> 0.999</td> <td>-4925.848</td> <td> 4930.001</td>\n",
       "</tr>\n",
       "</table>\n",
       "<table class=\"simpletable\">\n",
       "<tr>\n",
       "  <th>Ljung-Box (Q):</th>          <td>46.48</td> <th>  Jarque-Bera (JB):  </th> <td>7.16</td> \n",
       "</tr>\n",
       "<tr>\n",
       "  <th>Prob(Q):</th>                <td>0.00</td>  <th>  Prob(JB):          </th> <td>0.03</td> \n",
       "</tr>\n",
       "<tr>\n",
       "  <th>Heteroskedasticity (H):</th> <td>2.10</td>  <th>  Skew:              </th> <td>-1.04</td>\n",
       "</tr>\n",
       "<tr>\n",
       "  <th>Prob(H) (two-sided):</th>    <td>0.31</td>  <th>  Kurtosis:          </th> <td>4.68</td> \n",
       "</tr>\n",
       "</table><br/><br/>Warnings:<br/>[1] Covariance matrix calculated using the outer product of gradients (complex-step)."
      ],
      "text/plain": [
       "<class 'statsmodels.iolib.summary.Summary'>\n",
       "\"\"\"\n",
       "                                        SARIMAX Results                                        \n",
       "===============================================================================================\n",
       "Dep. Variable:                                meantemp   No. Observations:                   37\n",
       "Model:             SARIMAX(0, 1, 1)x(0, 1, [1, 2], 12)   Log Likelihood                 -51.384\n",
       "Date:                                 Mon, 15 Feb 2021   AIC                            110.769\n",
       "Time:                                         06:31:44   BIC                            115.481\n",
       "Sample:                                     01-31-2014   HQIC                           112.019\n",
       "                                          - 01-31-2017                                         \n",
       "Covariance Type:                                   opg                                         \n",
       "==============================================================================\n",
       "                 coef    std err          z      P>|z|      [0.025      0.975]\n",
       "------------------------------------------------------------------------------\n",
       "ma.L1         -0.6607      0.315     -2.096      0.036      -1.278      -0.043\n",
       "ma.S.L12      -0.4765    287.045     -0.002      0.999    -563.073     562.120\n",
       "ma.S.L24       0.9916   1211.229      0.001      0.999   -2372.973    2374.956\n",
       "sigma2         2.0762   2514.293      0.001      0.999   -4925.848    4930.001\n",
       "===================================================================================\n",
       "Ljung-Box (Q):                       46.48   Jarque-Bera (JB):                 7.16\n",
       "Prob(Q):                              0.00   Prob(JB):                         0.03\n",
       "Heteroskedasticity (H):               2.10   Skew:                            -1.04\n",
       "Prob(H) (two-sided):                  0.31   Kurtosis:                         4.68\n",
       "===================================================================================\n",
       "\n",
       "Warnings:\n",
       "[1] Covariance matrix calculated using the outer product of gradients (complex-step).\n",
       "\"\"\""
      ]
     },
     "execution_count": 42,
     "metadata": {},
     "output_type": "execute_result"
    }
   ],
   "source": [
    "sarima_results4.summary()"
   ]
  },
  {
   "cell_type": "markdown",
   "metadata": {},
   "source": [
    "Looking at the above model summaries. The SARIMAX model with order (0,1,1) and seasonal order (0,1,1,12) has the lowest AIC, so is the best fit in this scenario. Here order means order that stands for ARIMA and seosonal order is for seasonal ARIMA where differencing is done by shifting to 12 points down."
   ]
  },
  {
   "cell_type": "code",
   "execution_count": 70,
   "metadata": {},
   "outputs": [
    {
     "data": {
      "text/plain": [
       "<matplotlib.axes._subplots.AxesSubplot at 0x1f96cb4a940>"
      ]
     },
     "execution_count": 70,
     "metadata": {},
     "output_type": "execute_result"
    },
    {
     "data": {
      "image/png": "[encoded data removed]",
      "text/plain": [
       "<Figure size 864x576 with 1 Axes>"
      ]
     },
     "metadata": {
      "needs_background": "light"
     },
     "output_type": "display_data"
    }
   ],
   "source": [
    "df2['predicted']=sarima_results2.predict(start=32,end=36,dynamic=True)\n",
    "df2[['meantemp','predicted']].plot(figsize=(12,8))"
   ]
  },
  {
   "cell_type": "code",
   "execution_count": 71,
   "metadata": {},
   "outputs": [
    {
     "data": {
      "text/plain": [
       "Timestamp('2017-01-31 00:00:00', freq='M')"
      ]
     },
     "execution_count": 71,
     "metadata": {},
     "output_type": "execute_result"
    }
   ],
   "source": [
    "df2.index[-1]"
   ]
  },
  {
   "cell_type": "code",
   "execution_count": 72,
   "metadata": {},
   "outputs": [
    {
     "data": {
      "text/html": [
       "<div>\n",
       "<style scoped>\n",
       "    .dataframe tbody tr th:only-of-type {\n",
       "        vertical-align: middle;\n",
       "    }\n",
       "\n",
       "    .dataframe tbody tr th {\n",
       "        vertical-align: top;\n",
       "    }\n",
       "\n",
       "    .dataframe thead th {\n",
       "        text-align: right;\n",
       "    }\n",
       "</style>\n",
       "<table border=\"1\" class=\"dataframe\">\n",
       "  <thead>\n",
       "    <tr style=\"text-align: right;\">\n",
       "      <th></th>\n",
       "      <th>meantemp</th>\n",
       "      <th>meantemp_diffone</th>\n",
       "      <th>predicted</th>\n",
       "    </tr>\n",
       "    <tr>\n",
       "      <th>date</th>\n",
       "      <th></th>\n",
       "      <th></th>\n",
       "      <th></th>\n",
       "    </tr>\n",
       "  </thead>\n",
       "  <tbody>\n",
       "    <tr>\n",
       "      <th>2016-09-30</th>\n",
       "      <td>31.479768</td>\n",
       "      <td>0.829768</td>\n",
       "      <td>31.720546</td>\n",
       "    </tr>\n",
       "    <tr>\n",
       "      <th>2016-10-31</th>\n",
       "      <td>28.961680</td>\n",
       "      <td>2.096473</td>\n",
       "      <td>28.103689</td>\n",
       "    </tr>\n",
       "    <tr>\n",
       "      <th>2016-11-30</th>\n",
       "      <td>22.957378</td>\n",
       "      <td>2.203212</td>\n",
       "      <td>21.901588</td>\n",
       "    </tr>\n",
       "    <tr>\n",
       "      <th>2016-12-31</th>\n",
       "      <td>17.672565</td>\n",
       "      <td>2.682933</td>\n",
       "      <td>16.293741</td>\n",
       "    </tr>\n",
       "    <tr>\n",
       "      <th>2017-01-31</th>\n",
       "      <td>10.000000</td>\n",
       "      <td>-5.139363</td>\n",
       "      <td>15.828264</td>\n",
       "    </tr>\n",
       "  </tbody>\n",
       "</table>\n",
       "</div>"
      ],
      "text/plain": [
       "             meantemp  meantemp_diffone  predicted\n",
       "date                                              \n",
       "2016-09-30  31.479768          0.829768  31.720546\n",
       "2016-10-31  28.961680          2.096473  28.103689\n",
       "2016-11-30  22.957378          2.203212  21.901588\n",
       "2016-12-31  17.672565          2.682933  16.293741\n",
       "2017-01-31  10.000000         -5.139363  15.828264"
      ]
     },
     "execution_count": 72,
     "metadata": {},
     "output_type": "execute_result"
    }
   ],
   "source": [
    "df2.tail()"
   ]
  },
  {
   "cell_type": "code",
   "execution_count": 73,
   "metadata": {},
   "outputs": [],
   "source": [
    "from pandas.tseries.offsets import DateOffset\n",
    "dates_outofsample = []\n",
    "for i in range(0,24):\n",
    "    x = DateOffset(months=i)\n",
    "    dates_outofsample.append(df2.index[-1] + x)"
   ]
  },
  {
   "cell_type": "code",
   "execution_count": 74,
   "metadata": {},
   "outputs": [
    {
     "data": {
      "text/plain": [
       "[Timestamp('2017-01-31 00:00:00'),\n",
       " Timestamp('2017-02-28 00:00:00'),\n",
       " Timestamp('2017-03-31 00:00:00'),\n",
       " Timestamp('2017-04-30 00:00:00'),\n",
       " Timestamp('2017-05-31 00:00:00'),\n",
       " Timestamp('2017-06-30 00:00:00'),\n",
       " Timestamp('2017-07-31 00:00:00'),\n",
       " Timestamp('2017-08-31 00:00:00'),\n",
       " Timestamp('2017-09-30 00:00:00'),\n",
       " Timestamp('2017-10-31 00:00:00'),\n",
       " Timestamp('2017-11-30 00:00:00'),\n",
       " Timestamp('2017-12-31 00:00:00'),\n",
       " Timestamp('2018-01-31 00:00:00'),\n",
       " Timestamp('2018-02-28 00:00:00'),\n",
       " Timestamp('2018-03-31 00:00:00'),\n",
       " Timestamp('2018-04-30 00:00:00'),\n",
       " Timestamp('2018-05-31 00:00:00'),\n",
       " Timestamp('2018-06-30 00:00:00'),\n",
       " Timestamp('2018-07-31 00:00:00'),\n",
       " Timestamp('2018-08-31 00:00:00'),\n",
       " Timestamp('2018-09-30 00:00:00'),\n",
       " Timestamp('2018-10-31 00:00:00'),\n",
       " Timestamp('2018-11-30 00:00:00'),\n",
       " Timestamp('2018-12-31 00:00:00')]"
      ]
     },
     "execution_count": 74,
     "metadata": {},
     "output_type": "execute_result"
    }
   ],
   "source": [
    "dates_outofsample"
   ]
  },
  {
   "cell_type": "code",
   "execution_count": 75,
   "metadata": {},
   "outputs": [],
   "source": [
    "new_df=pd.DataFrame(index=dates_outofsample[1:],columns=df2.columns)"
   ]
  },
  {
   "cell_type": "code",
   "execution_count": 76,
   "metadata": {},
   "outputs": [
    {
     "data": {
      "text/html": [
       "<div>\n",
       "<style scoped>\n",
       "    .dataframe tbody tr th:only-of-type {\n",
       "        vertical-align: middle;\n",
       "    }\n",
       "\n",
       "    .dataframe tbody tr th {\n",
       "        vertical-align: top;\n",
       "    }\n",
       "\n",
       "    .dataframe thead th {\n",
       "        text-align: right;\n",
       "    }\n",
       "</style>\n",
       "<table border=\"1\" class=\"dataframe\">\n",
       "  <thead>\n",
       "    <tr style=\"text-align: right;\">\n",
       "      <th></th>\n",
       "      <th>meantemp</th>\n",
       "      <th>meantemp_diffone</th>\n",
       "      <th>predicted</th>\n",
       "    </tr>\n",
       "  </thead>\n",
       "  <tbody>\n",
       "    <tr>\n",
       "      <th>2017-02-28</th>\n",
       "      <td>NaN</td>\n",
       "      <td>NaN</td>\n",
       "      <td>NaN</td>\n",
       "    </tr>\n",
       "    <tr>\n",
       "      <th>2017-03-31</th>\n",
       "      <td>NaN</td>\n",
       "      <td>NaN</td>\n",
       "      <td>NaN</td>\n",
       "    </tr>\n",
       "    <tr>\n",
       "      <th>2017-04-30</th>\n",
       "      <td>NaN</td>\n",
       "      <td>NaN</td>\n",
       "      <td>NaN</td>\n",
       "    </tr>\n",
       "    <tr>\n",
       "      <th>2017-05-31</th>\n",
       "      <td>NaN</td>\n",
       "      <td>NaN</td>\n",
       "      <td>NaN</td>\n",
       "    </tr>\n",
       "    <tr>\n",
       "      <th>2017-06-30</th>\n",
       "      <td>NaN</td>\n",
       "      <td>NaN</td>\n",
       "      <td>NaN</td>\n",
       "    </tr>\n",
       "    <tr>\n",
       "      <th>2017-07-31</th>\n",
       "      <td>NaN</td>\n",
       "      <td>NaN</td>\n",
       "      <td>NaN</td>\n",
       "    </tr>\n",
       "    <tr>\n",
       "      <th>2017-08-31</th>\n",
       "      <td>NaN</td>\n",
       "      <td>NaN</td>\n",
       "      <td>NaN</td>\n",
       "    </tr>\n",
       "    <tr>\n",
       "      <th>2017-09-30</th>\n",
       "      <td>NaN</td>\n",
       "      <td>NaN</td>\n",
       "      <td>NaN</td>\n",
       "    </tr>\n",
       "    <tr>\n",
       "      <th>2017-10-31</th>\n",
       "      <td>NaN</td>\n",
       "      <td>NaN</td>\n",
       "      <td>NaN</td>\n",
       "    </tr>\n",
       "    <tr>\n",
       "      <th>2017-11-30</th>\n",
       "      <td>NaN</td>\n",
       "      <td>NaN</td>\n",
       "      <td>NaN</td>\n",
       "    </tr>\n",
       "    <tr>\n",
       "      <th>2017-12-31</th>\n",
       "      <td>NaN</td>\n",
       "      <td>NaN</td>\n",
       "      <td>NaN</td>\n",
       "    </tr>\n",
       "    <tr>\n",
       "      <th>2018-01-31</th>\n",
       "      <td>NaN</td>\n",
       "      <td>NaN</td>\n",
       "      <td>NaN</td>\n",
       "    </tr>\n",
       "    <tr>\n",
       "      <th>2018-02-28</th>\n",
       "      <td>NaN</td>\n",
       "      <td>NaN</td>\n",
       "      <td>NaN</td>\n",
       "    </tr>\n",
       "    <tr>\n",
       "      <th>2018-03-31</th>\n",
       "      <td>NaN</td>\n",
       "      <td>NaN</td>\n",
       "      <td>NaN</td>\n",
       "    </tr>\n",
       "    <tr>\n",
       "      <th>2018-04-30</th>\n",
       "      <td>NaN</td>\n",
       "      <td>NaN</td>\n",
       "      <td>NaN</td>\n",
       "    </tr>\n",
       "    <tr>\n",
       "      <th>2018-05-31</th>\n",
       "      <td>NaN</td>\n",
       "      <td>NaN</td>\n",
       "      <td>NaN</td>\n",
       "    </tr>\n",
       "    <tr>\n",
       "      <th>2018-06-30</th>\n",
       "      <td>NaN</td>\n",
       "      <td>NaN</td>\n",
       "      <td>NaN</td>\n",
       "    </tr>\n",
       "    <tr>\n",
       "      <th>2018-07-31</th>\n",
       "      <td>NaN</td>\n",
       "      <td>NaN</td>\n",
       "      <td>NaN</td>\n",
       "    </tr>\n",
       "    <tr>\n",
       "      <th>2018-08-31</th>\n",
       "      <td>NaN</td>\n",
       "      <td>NaN</td>\n",
       "      <td>NaN</td>\n",
       "    </tr>\n",
       "    <tr>\n",
       "      <th>2018-09-30</th>\n",
       "      <td>NaN</td>\n",
       "      <td>NaN</td>\n",
       "      <td>NaN</td>\n",
       "    </tr>\n",
       "    <tr>\n",
       "      <th>2018-10-31</th>\n",
       "      <td>NaN</td>\n",
       "      <td>NaN</td>\n",
       "      <td>NaN</td>\n",
       "    </tr>\n",
       "    <tr>\n",
       "      <th>2018-11-30</th>\n",
       "      <td>NaN</td>\n",
       "      <td>NaN</td>\n",
       "      <td>NaN</td>\n",
       "    </tr>\n",
       "    <tr>\n",
       "      <th>2018-12-31</th>\n",
       "      <td>NaN</td>\n",
       "      <td>NaN</td>\n",
       "      <td>NaN</td>\n",
       "    </tr>\n",
       "  </tbody>\n",
       "</table>\n",
       "</div>"
      ],
      "text/plain": [
       "           meantemp meantemp_diffone predicted\n",
       "2017-02-28      NaN              NaN       NaN\n",
       "2017-03-31      NaN              NaN       NaN\n",
       "2017-04-30      NaN              NaN       NaN\n",
       "2017-05-31      NaN              NaN       NaN\n",
       "2017-06-30      NaN              NaN       NaN\n",
       "2017-07-31      NaN              NaN       NaN\n",
       "2017-08-31      NaN              NaN       NaN\n",
       "2017-09-30      NaN              NaN       NaN\n",
       "2017-10-31      NaN              NaN       NaN\n",
       "2017-11-30      NaN              NaN       NaN\n",
       "2017-12-31      NaN              NaN       NaN\n",
       "2018-01-31      NaN              NaN       NaN\n",
       "2018-02-28      NaN              NaN       NaN\n",
       "2018-03-31      NaN              NaN       NaN\n",
       "2018-04-30      NaN              NaN       NaN\n",
       "2018-05-31      NaN              NaN       NaN\n",
       "2018-06-30      NaN              NaN       NaN\n",
       "2018-07-31      NaN              NaN       NaN\n",
       "2018-08-31      NaN              NaN       NaN\n",
       "2018-09-30      NaN              NaN       NaN\n",
       "2018-10-31      NaN              NaN       NaN\n",
       "2018-11-30      NaN              NaN       NaN\n",
       "2018-12-31      NaN              NaN       NaN"
      ]
     },
     "execution_count": 76,
     "metadata": {},
     "output_type": "execute_result"
    }
   ],
   "source": [
    "new_df"
   ]
  },
  {
   "cell_type": "code",
   "execution_count": 77,
   "metadata": {},
   "outputs": [],
   "source": [
    "new_df=pd.concat([df2,new_df])"
   ]
  },
  {
   "cell_type": "code",
   "execution_count": 78,
   "metadata": {},
   "outputs": [
    {
     "data": {
      "text/html": [
       "<div>\n",
       "<style scoped>\n",
       "    .dataframe tbody tr th:only-of-type {\n",
       "        vertical-align: middle;\n",
       "    }\n",
       "\n",
       "    .dataframe tbody tr th {\n",
       "        vertical-align: top;\n",
       "    }\n",
       "\n",
       "    .dataframe thead th {\n",
       "        text-align: right;\n",
       "    }\n",
       "</style>\n",
       "<table border=\"1\" class=\"dataframe\">\n",
       "  <thead>\n",
       "    <tr style=\"text-align: right;\">\n",
       "      <th></th>\n",
       "      <th>meantemp</th>\n",
       "      <th>meantemp_diffone</th>\n",
       "      <th>predicted</th>\n",
       "    </tr>\n",
       "  </thead>\n",
       "  <tbody>\n",
       "    <tr>\n",
       "      <th>2014-01-31</th>\n",
       "      <td>13.431836</td>\n",
       "      <td>1.357066</td>\n",
       "      <td>NaN</td>\n",
       "    </tr>\n",
       "    <tr>\n",
       "      <th>2014-02-28</th>\n",
       "      <td>15.746811</td>\n",
       "      <td>-1.120748</td>\n",
       "      <td>NaN</td>\n",
       "    </tr>\n",
       "    <tr>\n",
       "      <th>2014-03-31</th>\n",
       "      <td>21.593318</td>\n",
       "      <td>-1.220891</td>\n",
       "      <td>NaN</td>\n",
       "    </tr>\n",
       "    <tr>\n",
       "      <th>2014-04-30</th>\n",
       "      <td>28.058333</td>\n",
       "      <td>-0.836786</td>\n",
       "      <td>NaN</td>\n",
       "    </tr>\n",
       "    <tr>\n",
       "      <th>2014-05-31</th>\n",
       "      <td>31.405530</td>\n",
       "      <td>-2.371237</td>\n",
       "      <td>NaN</td>\n",
       "    </tr>\n",
       "    <tr>\n",
       "      <th>2014-06-30</th>\n",
       "      <td>34.770833</td>\n",
       "      <td>2.289960</td>\n",
       "      <td>NaN</td>\n",
       "    </tr>\n",
       "    <tr>\n",
       "      <th>2014-07-31</th>\n",
       "      <td>32.034163</td>\n",
       "      <td>1.370569</td>\n",
       "      <td>NaN</td>\n",
       "    </tr>\n",
       "    <tr>\n",
       "      <th>2014-08-31</th>\n",
       "      <td>31.411968</td>\n",
       "      <td>1.864195</td>\n",
       "      <td>NaN</td>\n",
       "    </tr>\n",
       "    <tr>\n",
       "      <th>2014-09-30</th>\n",
       "      <td>29.762500</td>\n",
       "      <td>-0.078095</td>\n",
       "      <td>NaN</td>\n",
       "    </tr>\n",
       "    <tr>\n",
       "      <th>2014-10-31</th>\n",
       "      <td>26.496544</td>\n",
       "      <td>0.367358</td>\n",
       "      <td>NaN</td>\n",
       "    </tr>\n",
       "    <tr>\n",
       "      <th>2014-11-30</th>\n",
       "      <td>20.104167</td>\n",
       "      <td>1.292460</td>\n",
       "      <td>NaN</td>\n",
       "    </tr>\n",
       "    <tr>\n",
       "      <th>2014-12-31</th>\n",
       "      <td>14.823733</td>\n",
       "      <td>-0.355607</td>\n",
       "      <td>NaN</td>\n",
       "    </tr>\n",
       "    <tr>\n",
       "      <th>2015-01-31</th>\n",
       "      <td>12.708525</td>\n",
       "      <td>-0.723310</td>\n",
       "      <td>NaN</td>\n",
       "    </tr>\n",
       "    <tr>\n",
       "      <th>2015-02-28</th>\n",
       "      <td>18.791454</td>\n",
       "      <td>3.044643</td>\n",
       "      <td>NaN</td>\n",
       "    </tr>\n",
       "    <tr>\n",
       "      <th>2015-03-31</th>\n",
       "      <td>21.547811</td>\n",
       "      <td>-0.045507</td>\n",
       "      <td>NaN</td>\n",
       "    </tr>\n",
       "    <tr>\n",
       "      <th>2015-04-30</th>\n",
       "      <td>28.002976</td>\n",
       "      <td>-0.055357</td>\n",
       "      <td>NaN</td>\n",
       "    </tr>\n",
       "    <tr>\n",
       "      <th>2015-05-31</th>\n",
       "      <td>33.352535</td>\n",
       "      <td>1.947005</td>\n",
       "      <td>NaN</td>\n",
       "    </tr>\n",
       "    <tr>\n",
       "      <th>2015-06-30</th>\n",
       "      <td>32.737500</td>\n",
       "      <td>-2.033333</td>\n",
       "      <td>NaN</td>\n",
       "    </tr>\n",
       "    <tr>\n",
       "      <th>2015-07-31</th>\n",
       "      <td>30.409562</td>\n",
       "      <td>-1.624601</td>\n",
       "      <td>NaN</td>\n",
       "    </tr>\n",
       "    <tr>\n",
       "      <th>2015-08-31</th>\n",
       "      <td>30.330789</td>\n",
       "      <td>-1.081179</td>\n",
       "      <td>NaN</td>\n",
       "    </tr>\n",
       "    <tr>\n",
       "      <th>2015-09-30</th>\n",
       "      <td>30.650000</td>\n",
       "      <td>0.887500</td>\n",
       "      <td>NaN</td>\n",
       "    </tr>\n",
       "    <tr>\n",
       "      <th>2015-10-31</th>\n",
       "      <td>26.865207</td>\n",
       "      <td>0.368664</td>\n",
       "      <td>NaN</td>\n",
       "    </tr>\n",
       "    <tr>\n",
       "      <th>2015-11-30</th>\n",
       "      <td>20.754167</td>\n",
       "      <td>0.650000</td>\n",
       "      <td>NaN</td>\n",
       "    </tr>\n",
       "    <tr>\n",
       "      <th>2015-12-31</th>\n",
       "      <td>14.989631</td>\n",
       "      <td>0.165899</td>\n",
       "      <td>NaN</td>\n",
       "    </tr>\n",
       "    <tr>\n",
       "      <th>2016-01-31</th>\n",
       "      <td>15.139363</td>\n",
       "      <td>2.430837</td>\n",
       "      <td>NaN</td>\n",
       "    </tr>\n",
       "    <tr>\n",
       "      <th>2016-02-29</th>\n",
       "      <td>19.025676</td>\n",
       "      <td>0.234222</td>\n",
       "      <td>NaN</td>\n",
       "    </tr>\n",
       "    <tr>\n",
       "      <th>2016-03-31</th>\n",
       "      <td>25.701075</td>\n",
       "      <td>4.153264</td>\n",
       "      <td>NaN</td>\n",
       "    </tr>\n",
       "    <tr>\n",
       "      <th>2016-04-30</th>\n",
       "      <td>32.550029</td>\n",
       "      <td>4.547053</td>\n",
       "      <td>NaN</td>\n",
       "    </tr>\n",
       "    <tr>\n",
       "      <th>2016-05-31</th>\n",
       "      <td>34.728726</td>\n",
       "      <td>1.376191</td>\n",
       "      <td>NaN</td>\n",
       "    </tr>\n",
       "    <tr>\n",
       "      <th>2016-06-30</th>\n",
       "      <td>34.946836</td>\n",
       "      <td>2.209336</td>\n",
       "      <td>NaN</td>\n",
       "    </tr>\n",
       "    <tr>\n",
       "      <th>2016-07-31</th>\n",
       "      <td>30.875806</td>\n",
       "      <td>0.466244</td>\n",
       "      <td>NaN</td>\n",
       "    </tr>\n",
       "    <tr>\n",
       "      <th>2016-08-31</th>\n",
       "      <td>31.116578</td>\n",
       "      <td>0.785788</td>\n",
       "      <td>NaN</td>\n",
       "    </tr>\n",
       "    <tr>\n",
       "      <th>2016-09-30</th>\n",
       "      <td>31.479768</td>\n",
       "      <td>0.829768</td>\n",
       "      <td>31.720546</td>\n",
       "    </tr>\n",
       "    <tr>\n",
       "      <th>2016-10-31</th>\n",
       "      <td>28.961680</td>\n",
       "      <td>2.096473</td>\n",
       "      <td>28.103689</td>\n",
       "    </tr>\n",
       "    <tr>\n",
       "      <th>2016-11-30</th>\n",
       "      <td>22.957378</td>\n",
       "      <td>2.203212</td>\n",
       "      <td>21.901588</td>\n",
       "    </tr>\n",
       "    <tr>\n",
       "      <th>2016-12-31</th>\n",
       "      <td>17.672565</td>\n",
       "      <td>2.682933</td>\n",
       "      <td>16.293741</td>\n",
       "    </tr>\n",
       "    <tr>\n",
       "      <th>2017-01-31</th>\n",
       "      <td>10.000000</td>\n",
       "      <td>-5.139363</td>\n",
       "      <td>15.828264</td>\n",
       "    </tr>\n",
       "    <tr>\n",
       "      <th>2017-02-28</th>\n",
       "      <td>NaN</td>\n",
       "      <td>NaN</td>\n",
       "      <td>NaN</td>\n",
       "    </tr>\n",
       "    <tr>\n",
       "      <th>2017-03-31</th>\n",
       "      <td>NaN</td>\n",
       "      <td>NaN</td>\n",
       "      <td>NaN</td>\n",
       "    </tr>\n",
       "    <tr>\n",
       "      <th>2017-04-30</th>\n",
       "      <td>NaN</td>\n",
       "      <td>NaN</td>\n",
       "      <td>NaN</td>\n",
       "    </tr>\n",
       "    <tr>\n",
       "      <th>2017-05-31</th>\n",
       "      <td>NaN</td>\n",
       "      <td>NaN</td>\n",
       "      <td>NaN</td>\n",
       "    </tr>\n",
       "    <tr>\n",
       "      <th>2017-06-30</th>\n",
       "      <td>NaN</td>\n",
       "      <td>NaN</td>\n",
       "      <td>NaN</td>\n",
       "    </tr>\n",
       "    <tr>\n",
       "      <th>2017-07-31</th>\n",
       "      <td>NaN</td>\n",
       "      <td>NaN</td>\n",
       "      <td>NaN</td>\n",
       "    </tr>\n",
       "    <tr>\n",
       "      <th>2017-08-31</th>\n",
       "      <td>NaN</td>\n",
       "      <td>NaN</td>\n",
       "      <td>NaN</td>\n",
       "    </tr>\n",
       "    <tr>\n",
       "      <th>2017-09-30</th>\n",
       "      <td>NaN</td>\n",
       "      <td>NaN</td>\n",
       "      <td>NaN</td>\n",
       "    </tr>\n",
       "    <tr>\n",
       "      <th>2017-10-31</th>\n",
       "      <td>NaN</td>\n",
       "      <td>NaN</td>\n",
       "      <td>NaN</td>\n",
       "    </tr>\n",
       "    <tr>\n",
       "      <th>2017-11-30</th>\n",
       "      <td>NaN</td>\n",
       "      <td>NaN</td>\n",
       "      <td>NaN</td>\n",
       "    </tr>\n",
       "    <tr>\n",
       "      <th>2017-12-31</th>\n",
       "      <td>NaN</td>\n",
       "      <td>NaN</td>\n",
       "      <td>NaN</td>\n",
       "    </tr>\n",
       "    <tr>\n",
       "      <th>2018-01-31</th>\n",
       "      <td>NaN</td>\n",
       "      <td>NaN</td>\n",
       "      <td>NaN</td>\n",
       "    </tr>\n",
       "    <tr>\n",
       "      <th>2018-02-28</th>\n",
       "      <td>NaN</td>\n",
       "      <td>NaN</td>\n",
       "      <td>NaN</td>\n",
       "    </tr>\n",
       "    <tr>\n",
       "      <th>2018-03-31</th>\n",
       "      <td>NaN</td>\n",
       "      <td>NaN</td>\n",
       "      <td>NaN</td>\n",
       "    </tr>\n",
       "    <tr>\n",
       "      <th>2018-04-30</th>\n",
       "      <td>NaN</td>\n",
       "      <td>NaN</td>\n",
       "      <td>NaN</td>\n",
       "    </tr>\n",
       "    <tr>\n",
       "      <th>2018-05-31</th>\n",
       "      <td>NaN</td>\n",
       "      <td>NaN</td>\n",
       "      <td>NaN</td>\n",
       "    </tr>\n",
       "    <tr>\n",
       "      <th>2018-06-30</th>\n",
       "      <td>NaN</td>\n",
       "      <td>NaN</td>\n",
       "      <td>NaN</td>\n",
       "    </tr>\n",
       "    <tr>\n",
       "      <th>2018-07-31</th>\n",
       "      <td>NaN</td>\n",
       "      <td>NaN</td>\n",
       "      <td>NaN</td>\n",
       "    </tr>\n",
       "    <tr>\n",
       "      <th>2018-08-31</th>\n",
       "      <td>NaN</td>\n",
       "      <td>NaN</td>\n",
       "      <td>NaN</td>\n",
       "    </tr>\n",
       "    <tr>\n",
       "      <th>2018-09-30</th>\n",
       "      <td>NaN</td>\n",
       "      <td>NaN</td>\n",
       "      <td>NaN</td>\n",
       "    </tr>\n",
       "    <tr>\n",
       "      <th>2018-10-31</th>\n",
       "      <td>NaN</td>\n",
       "      <td>NaN</td>\n",
       "      <td>NaN</td>\n",
       "    </tr>\n",
       "    <tr>\n",
       "      <th>2018-11-30</th>\n",
       "      <td>NaN</td>\n",
       "      <td>NaN</td>\n",
       "      <td>NaN</td>\n",
       "    </tr>\n",
       "    <tr>\n",
       "      <th>2018-12-31</th>\n",
       "      <td>NaN</td>\n",
       "      <td>NaN</td>\n",
       "      <td>NaN</td>\n",
       "    </tr>\n",
       "  </tbody>\n",
       "</table>\n",
       "</div>"
      ],
      "text/plain": [
       "             meantemp  meantemp_diffone  predicted\n",
       "2014-01-31  13.431836          1.357066        NaN\n",
       "2014-02-28  15.746811         -1.120748        NaN\n",
       "2014-03-31  21.593318         -1.220891        NaN\n",
       "2014-04-30  28.058333         -0.836786        NaN\n",
       "2014-05-31  31.405530         -2.371237        NaN\n",
       "2014-06-30  34.770833          2.289960        NaN\n",
       "2014-07-31  32.034163          1.370569        NaN\n",
       "2014-08-31  31.411968          1.864195        NaN\n",
       "2014-09-30  29.762500         -0.078095        NaN\n",
       "2014-10-31  26.496544          0.367358        NaN\n",
       "2014-11-30  20.104167          1.292460        NaN\n",
       "2014-12-31  14.823733         -0.355607        NaN\n",
       "2015-01-31  12.708525         -0.723310        NaN\n",
       "2015-02-28  18.791454          3.044643        NaN\n",
       "2015-03-31  21.547811         -0.045507        NaN\n",
       "2015-04-30  28.002976         -0.055357        NaN\n",
       "2015-05-31  33.352535          1.947005        NaN\n",
       "2015-06-30  32.737500         -2.033333        NaN\n",
       "2015-07-31  30.409562         -1.624601        NaN\n",
       "2015-08-31  30.330789         -1.081179        NaN\n",
       "2015-09-30  30.650000          0.887500        NaN\n",
       "2015-10-31  26.865207          0.368664        NaN\n",
       "2015-11-30  20.754167          0.650000        NaN\n",
       "2015-12-31  14.989631          0.165899        NaN\n",
       "2016-01-31  15.139363          2.430837        NaN\n",
       "2016-02-29  19.025676          0.234222        NaN\n",
       "2016-03-31  25.701075          4.153264        NaN\n",
       "2016-04-30  32.550029          4.547053        NaN\n",
       "2016-05-31  34.728726          1.376191        NaN\n",
       "2016-06-30  34.946836          2.209336        NaN\n",
       "2016-07-31  30.875806          0.466244        NaN\n",
       "2016-08-31  31.116578          0.785788        NaN\n",
       "2016-09-30  31.479768          0.829768  31.720546\n",
       "2016-10-31  28.961680          2.096473  28.103689\n",
       "2016-11-30  22.957378          2.203212  21.901588\n",
       "2016-12-31  17.672565          2.682933  16.293741\n",
       "2017-01-31  10.000000         -5.139363  15.828264\n",
       "2017-02-28        NaN               NaN        NaN\n",
       "2017-03-31        NaN               NaN        NaN\n",
       "2017-04-30        NaN               NaN        NaN\n",
       "2017-05-31        NaN               NaN        NaN\n",
       "2017-06-30        NaN               NaN        NaN\n",
       "2017-07-31        NaN               NaN        NaN\n",
       "2017-08-31        NaN               NaN        NaN\n",
       "2017-09-30        NaN               NaN        NaN\n",
       "2017-10-31        NaN               NaN        NaN\n",
       "2017-11-30        NaN               NaN        NaN\n",
       "2017-12-31        NaN               NaN        NaN\n",
       "2018-01-31        NaN               NaN        NaN\n",
       "2018-02-28        NaN               NaN        NaN\n",
       "2018-03-31        NaN               NaN        NaN\n",
       "2018-04-30        NaN               NaN        NaN\n",
       "2018-05-31        NaN               NaN        NaN\n",
       "2018-06-30        NaN               NaN        NaN\n",
       "2018-07-31        NaN               NaN        NaN\n",
       "2018-08-31        NaN               NaN        NaN\n",
       "2018-09-30        NaN               NaN        NaN\n",
       "2018-10-31        NaN               NaN        NaN\n",
       "2018-11-30        NaN               NaN        NaN\n",
       "2018-12-31        NaN               NaN        NaN"
      ]
     },
     "execution_count": 78,
     "metadata": {},
     "output_type": "execute_result"
    }
   ],
   "source": [
    "new_df"
   ]
  },
  {
   "cell_type": "code",
   "execution_count": 79,
   "metadata": {},
   "outputs": [
    {
     "data": {
      "text/plain": [
       "Timestamp('2017-01-31 00:00:00')"
      ]
     },
     "execution_count": 79,
     "metadata": {},
     "output_type": "execute_result"
    }
   ],
   "source": [
    "new_df.index[36]"
   ]
  },
  {
   "cell_type": "code",
   "execution_count": 80,
   "metadata": {},
   "outputs": [
    {
     "data": {
      "text/plain": [
       "<matplotlib.axes._subplots.AxesSubplot at 0x1f971a4f3d0>"
      ]
     },
     "execution_count": 80,
     "metadata": {},
     "output_type": "execute_result"
    },
    {
     "data": {
      "image/png": "[encoded data removed]",
      "text/plain": [
       "<Figure size 864x576 with 1 Axes>"
      ]
     },
     "metadata": {
      "needs_background": "light"
     },
     "output_type": "display_data"
    }
   ],
   "source": [
    "new_df['predicted'] = sarima_results2.predict(start = 36 , end = 70, dynamic= True)  \n",
    "new_df[['meantemp', 'predicted']].plot(figsize=(12, 8)) "
   ]
  },
  {
   "cell_type": "markdown",
   "metadata": {},
   "source": [
    "MAPE on the test data and decomposition. Remove log transformation\n",
    "https://medium.com/towards-artificial-intelligence/stock-price-change-forecasting-with-time-series-sarimax-4f5ca053d464\n",
    "    https://towardsdatascience.com/time-series-forecasting-with-a-sarima-model-db051b7ae459"
   ]
  }
 ],
 "metadata": {
  "kernelspec": {
   "display_name": "Python 3",
   "language": "python",
   "name": "python3"
  },
  "language_info": {
   "codemirror_mode": {
    "name": "ipython",
    "version": 3
   },
   "file_extension": ".py",
   "mimetype": "text/x-python",
   "name": "python",
   "nbconvert_exporter": "python",
   "pygments_lexer": "ipython3",
   "version": "3.8.3"
  }
 },
 "nbformat": 4,
 "nbformat_minor": 4
}
