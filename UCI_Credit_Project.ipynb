{
  "nbformat": 4,
  "nbformat_minor": 0,
  "metadata": {
    "kernelspec": {
      "display_name": "Python 3",
      "language": "python",
      "name": "python3"
    },
    "language_info": {
      "codemirror_mode": {
        "name": "ipython",
        "version": 3
      },
      "file_extension": ".py",
      "mimetype": "text/x-python",
      "name": "python",
      "nbconvert_exporter": "python",
      "pygments_lexer": "ipython3",
      "version": "3.7.3"
    },
    "colab": {
      "name": "UCI_Credit_Project.ipynb",
      "provenance": [],
      "collapsed_sections": [],
      "toc_visible": true
    }
  },
  "cells": [
    {
      "cell_type": "markdown",
      "metadata": {
        "id": "ou6rca89c8aw",
        "colab_type": "text"
      },
      "source": [
        "About Dataset\n",
        "\n",
        "This dataset contains information on default payments, demographic factors, credit data, history of payment, and bill statements of credit card clients in Taiwan from April 2005 to September 2005.\n",
        "Content\n",
        "\n",
        "There are 25 variables:\n",
        "\n",
        "    ID: ID of each client\n",
        "    LIMIT_BAL: Amount of given credit in NT dollars (includes individual and family/supplementary credit\n",
        "    SEX: Gender (1=male, 2=female)\n",
        "    EDUCATION: (1=graduate school, 2=university, 3=high school, 4=others, 5=unknown, 6=unknown)\n",
        "    MARRIAGE: Marital status (1=married, 2=single, 3=others)\n",
        "    AGE: Age in years\n",
        "    PAY_0: Repayment status in September, 2005 (-1=pay duly, 1=payment delay for one month, 2=payment delay for two months, ... 8=payment delay for eight months, 9=payment delay for nine months and above)\n",
        "    PAY_2: Repayment status in August, 2005 (scale same as above)\n",
        "    PAY_3: Repayment status in July, 2005 (scale same as above)\n",
        "    PAY_4: Repayment status in June, 2005 (scale same as above)\n",
        "    PAY_5: Repayment status in May, 2005 (scale same as above)\n",
        "    PAY_6: Repayment status in April, 2005 (scale same as above)\n",
        "    BILL_AMT1: Amount of bill statement in September, 2005 (NT dollar)\n",
        "    BILL_AMT2: Amount of bill statement in August, 2005 (NT dollar)\n",
        "    BILL_AMT3: Amount of bill statement in July, 2005 (NT dollar)\n",
        "    BILL_AMT4: Amount of bill statement in June, 2005 (NT dollar)\n",
        "    BILL_AMT5: Amount of bill statement in May, 2005 (NT dollar)\n",
        "    BILL_AMT6: Amount of bill statement in April, 2005 (NT dollar)\n",
        "    PAY_AMT1: Amount of previous payment in September, 2005 (NT dollar)\n",
        "    PAY_AMT2: Amount of previous payment in August, 2005 (NT dollar)\n",
        "    PAY_AMT3: Amount of previous payment in July, 2005 (NT dollar)\n",
        "    PAY_AMT4: Amount of previous payment in June, 2005 (NT dollar)\n",
        "    PAY_AMT5: Amount of previous payment in May, 2005 (NT dollar)\n",
        "    PAY_AMT6: Amount of previous payment in April, 2005 (NT dollar)\n",
        "    default.payment.next.month: Default payment (1=yes, 0=no)\n",
        "\n"
      ]
    },
    {
      "cell_type": "markdown",
      "metadata": {
        "id": "nxrjTEMwQHvx",
        "colab_type": "text"
      },
      "source": [
        "Objective: We predict the default or non- default class on the basis of the data "
      ]
    },
    {
      "cell_type": "code",
      "metadata": {
        "id": "nRRN8yEuc8a1",
        "colab_type": "code",
        "colab": {}
      },
      "source": [
        "# Importing the required packages\n",
        "import numpy as np \n",
        "import pandas as pd\n",
        "import matplotlib.pyplot as plt\n",
        "import seaborn as sns\n",
        "plt.style.use('fivethirtyeight')\n",
        "import warnings\n",
        "warnings.filterwarnings('ignore')\n",
        "%matplotlib inline"
      ],
      "execution_count": null,
      "outputs": []
    },
    {
      "cell_type": "code",
      "metadata": {
        "id": "pENfNXxKiOmZ",
        "colab_type": "code",
        "colab": {
          "resources": {
            "http://localhost:8080/nbextensions/google.colab/files.js": {
              "data": "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",
              "ok": true,
              "headers": [
                [
                  "content-type",
                  "application/javascript"
                ]
              ],
              "status": 200,
              "status_text": "OK"
            }
          },
          "base_uri": "https://localhost:8080/",
          "height": 75
        },
        "outputId": "de1f2264-b763-4441-b06e-8a0a54f2c5ba"
      },
      "source": [
        "from google.colab import files\n",
        "uploaded = files.upload()"
      ],
      "execution_count": null,
      "outputs": [
        {
          "output_type": "display_data",
          "data": {
            "text/html": [
              "\n",
              "     <input type=\"file\" id=\"files-b6a9de4b-d1b6-432a-b729-10e1f88b7421\" name=\"files[]\" multiple disabled\n",
              "        style=\"border:none\" />\n",
              "     <output id=\"result-b6a9de4b-d1b6-432a-b729-10e1f88b7421\">\n",
              "      Upload widget is only available when the cell has been executed in the\n",
              "      current browser session. Please rerun this cell to enable.\n",
              "      </output>\n",
              "      <script src=\"/nbextensions/google.colab/files.js\"></script> "
            ],
            "text/plain": [
              "<IPython.core.display.HTML object>"
            ]
          },
          "metadata": {
            "tags": []
          }
        },
        {
          "output_type": "stream",
          "text": [
            "Saving UCI_Credit_Card.csv to UCI_Credit_Card.csv\n"
          ],
          "name": "stdout"
        }
      ]
    },
    {
      "cell_type": "code",
      "metadata": {
        "id": "hCYKv78XkEY_",
        "colab_type": "code",
        "colab": {}
      },
      "source": [
        "import io\n",
        "data = pd.read_csv(io.BytesIO(uploaded['UCI_Credit_Card.csv']))# Dataset is now stored in a Pandas Dataframe\n",
        "\n"
      ],
      "execution_count": null,
      "outputs": []
    },
    {
      "cell_type": "markdown",
      "metadata": {
        "id": "eqtejGl0c8bT",
        "colab_type": "text"
      },
      "source": [
        "# Data Description"
      ]
    },
    {
      "cell_type": "code",
      "metadata": {
        "id": "5IxodO2Lc8bW",
        "colab_type": "code",
        "colab": {
          "base_uri": "https://localhost:8080/",
          "height": 226
        },
        "outputId": "74ebb118-4503-4011-f7d2-0ac9ade537af"
      },
      "source": [
        "data.head()"
      ],
      "execution_count": null,
      "outputs": [
        {
          "output_type": "execute_result",
          "data": {
            "text/html": [
              "<div>\n",
              "<style scoped>\n",
              "    .dataframe tbody tr th:only-of-type {\n",
              "        vertical-align: middle;\n",
              "    }\n",
              "\n",
              "    .dataframe tbody tr th {\n",
              "        vertical-align: top;\n",
              "    }\n",
              "\n",
              "    .dataframe thead th {\n",
              "        text-align: right;\n",
              "    }\n",
              "</style>\n",
              "<table border=\"1\" class=\"dataframe\">\n",
              "  <thead>\n",
              "    <tr style=\"text-align: right;\">\n",
              "      <th></th>\n",
              "      <th>ID</th>\n",
              "      <th>LIMIT_BAL</th>\n",
              "      <th>SEX</th>\n",
              "      <th>EDUCATION</th>\n",
              "      <th>MARRIAGE</th>\n",
              "      <th>AGE</th>\n",
              "      <th>PAY_0</th>\n",
              "      <th>PAY_2</th>\n",
              "      <th>PAY_3</th>\n",
              "      <th>PAY_4</th>\n",
              "      <th>PAY_5</th>\n",
              "      <th>PAY_6</th>\n",
              "      <th>BILL_AMT1</th>\n",
              "      <th>BILL_AMT2</th>\n",
              "      <th>BILL_AMT3</th>\n",
              "      <th>BILL_AMT4</th>\n",
              "      <th>BILL_AMT5</th>\n",
              "      <th>BILL_AMT6</th>\n",
              "      <th>PAY_AMT1</th>\n",
              "      <th>PAY_AMT2</th>\n",
              "      <th>PAY_AMT3</th>\n",
              "      <th>PAY_AMT4</th>\n",
              "      <th>PAY_AMT5</th>\n",
              "      <th>PAY_AMT6</th>\n",
              "      <th>default.payment.next.month</th>\n",
              "    </tr>\n",
              "  </thead>\n",
              "  <tbody>\n",
              "    <tr>\n",
              "      <th>0</th>\n",
              "      <td>1</td>\n",
              "      <td>20000.0</td>\n",
              "      <td>2</td>\n",
              "      <td>2</td>\n",
              "      <td>1</td>\n",
              "      <td>24</td>\n",
              "      <td>2</td>\n",
              "      <td>2</td>\n",
              "      <td>-1</td>\n",
              "      <td>-1</td>\n",
              "      <td>-2</td>\n",
              "      <td>-2</td>\n",
              "      <td>3913.0</td>\n",
              "      <td>3102.0</td>\n",
              "      <td>689.0</td>\n",
              "      <td>0.0</td>\n",
              "      <td>0.0</td>\n",
              "      <td>0.0</td>\n",
              "      <td>0.0</td>\n",
              "      <td>689.0</td>\n",
              "      <td>0.0</td>\n",
              "      <td>0.0</td>\n",
              "      <td>0.0</td>\n",
              "      <td>0.0</td>\n",
              "      <td>1</td>\n",
              "    </tr>\n",
              "    <tr>\n",
              "      <th>1</th>\n",
              "      <td>2</td>\n",
              "      <td>120000.0</td>\n",
              "      <td>2</td>\n",
              "      <td>2</td>\n",
              "      <td>2</td>\n",
              "      <td>26</td>\n",
              "      <td>-1</td>\n",
              "      <td>2</td>\n",
              "      <td>0</td>\n",
              "      <td>0</td>\n",
              "      <td>0</td>\n",
              "      <td>2</td>\n",
              "      <td>2682.0</td>\n",
              "      <td>1725.0</td>\n",
              "      <td>2682.0</td>\n",
              "      <td>3272.0</td>\n",
              "      <td>3455.0</td>\n",
              "      <td>3261.0</td>\n",
              "      <td>0.0</td>\n",
              "      <td>1000.0</td>\n",
              "      <td>1000.0</td>\n",
              "      <td>1000.0</td>\n",
              "      <td>0.0</td>\n",
              "      <td>2000.0</td>\n",
              "      <td>1</td>\n",
              "    </tr>\n",
              "    <tr>\n",
              "      <th>2</th>\n",
              "      <td>3</td>\n",
              "      <td>90000.0</td>\n",
              "      <td>2</td>\n",
              "      <td>2</td>\n",
              "      <td>2</td>\n",
              "      <td>34</td>\n",
              "      <td>0</td>\n",
              "      <td>0</td>\n",
              "      <td>0</td>\n",
              "      <td>0</td>\n",
              "      <td>0</td>\n",
              "      <td>0</td>\n",
              "      <td>29239.0</td>\n",
              "      <td>14027.0</td>\n",
              "      <td>13559.0</td>\n",
              "      <td>14331.0</td>\n",
              "      <td>14948.0</td>\n",
              "      <td>15549.0</td>\n",
              "      <td>1518.0</td>\n",
              "      <td>1500.0</td>\n",
              "      <td>1000.0</td>\n",
              "      <td>1000.0</td>\n",
              "      <td>1000.0</td>\n",
              "      <td>5000.0</td>\n",
              "      <td>0</td>\n",
              "    </tr>\n",
              "    <tr>\n",
              "      <th>3</th>\n",
              "      <td>4</td>\n",
              "      <td>50000.0</td>\n",
              "      <td>2</td>\n",
              "      <td>2</td>\n",
              "      <td>1</td>\n",
              "      <td>37</td>\n",
              "      <td>0</td>\n",
              "      <td>0</td>\n",
              "      <td>0</td>\n",
              "      <td>0</td>\n",
              "      <td>0</td>\n",
              "      <td>0</td>\n",
              "      <td>46990.0</td>\n",
              "      <td>48233.0</td>\n",
              "      <td>49291.0</td>\n",
              "      <td>28314.0</td>\n",
              "      <td>28959.0</td>\n",
              "      <td>29547.0</td>\n",
              "      <td>2000.0</td>\n",
              "      <td>2019.0</td>\n",
              "      <td>1200.0</td>\n",
              "      <td>1100.0</td>\n",
              "      <td>1069.0</td>\n",
              "      <td>1000.0</td>\n",
              "      <td>0</td>\n",
              "    </tr>\n",
              "    <tr>\n",
              "      <th>4</th>\n",
              "      <td>5</td>\n",
              "      <td>50000.0</td>\n",
              "      <td>1</td>\n",
              "      <td>2</td>\n",
              "      <td>1</td>\n",
              "      <td>57</td>\n",
              "      <td>-1</td>\n",
              "      <td>0</td>\n",
              "      <td>-1</td>\n",
              "      <td>0</td>\n",
              "      <td>0</td>\n",
              "      <td>0</td>\n",
              "      <td>8617.0</td>\n",
              "      <td>5670.0</td>\n",
              "      <td>35835.0</td>\n",
              "      <td>20940.0</td>\n",
              "      <td>19146.0</td>\n",
              "      <td>19131.0</td>\n",
              "      <td>2000.0</td>\n",
              "      <td>36681.0</td>\n",
              "      <td>10000.0</td>\n",
              "      <td>9000.0</td>\n",
              "      <td>689.0</td>\n",
              "      <td>679.0</td>\n",
              "      <td>0</td>\n",
              "    </tr>\n",
              "  </tbody>\n",
              "</table>\n",
              "</div>"
            ],
            "text/plain": [
              "   ID  LIMIT_BAL  SEX  ...  PAY_AMT5  PAY_AMT6  default.payment.next.month\n",
              "0   1    20000.0    2  ...       0.0       0.0                           1\n",
              "1   2   120000.0    2  ...       0.0    2000.0                           1\n",
              "2   3    90000.0    2  ...    1000.0    5000.0                           0\n",
              "3   4    50000.0    2  ...    1069.0    1000.0                           0\n",
              "4   5    50000.0    1  ...     689.0     679.0                           0\n",
              "\n",
              "[5 rows x 25 columns]"
            ]
          },
          "metadata": {
            "tags": []
          },
          "execution_count": 10
        }
      ]
    },
    {
      "cell_type": "code",
      "metadata": {
        "id": "OUJdS-k7c8bj",
        "colab_type": "code",
        "colab": {
          "base_uri": "https://localhost:8080/",
          "height": 127
        },
        "outputId": "c8577a30-dc25-4aa0-fa32-f74f3916431d"
      },
      "source": [
        "data.columns"
      ],
      "execution_count": null,
      "outputs": [
        {
          "output_type": "execute_result",
          "data": {
            "text/plain": [
              "Index(['ID', 'LIMIT_BAL', 'SEX', 'EDUCATION', 'MARRIAGE', 'AGE', 'PAY_0',\n",
              "       'PAY_2', 'PAY_3', 'PAY_4', 'PAY_5', 'PAY_6', 'BILL_AMT1', 'BILL_AMT2',\n",
              "       'BILL_AMT3', 'BILL_AMT4', 'BILL_AMT5', 'BILL_AMT6', 'PAY_AMT1',\n",
              "       'PAY_AMT2', 'PAY_AMT3', 'PAY_AMT4', 'PAY_AMT5', 'PAY_AMT6',\n",
              "       'default.payment.next.month'],\n",
              "      dtype='object')"
            ]
          },
          "metadata": {
            "tags": []
          },
          "execution_count": 11
        }
      ]
    },
    {
      "cell_type": "code",
      "metadata": {
        "id": "OjD_y_Sec8bt",
        "colab_type": "code",
        "colab": {
          "base_uri": "https://localhost:8080/",
          "height": 35
        },
        "outputId": "9782c3ae-3aa1-4366-c8ba-89cdf10b6540"
      },
      "source": [
        "data.shape # 30,000 rows and 25 columns"
      ],
      "execution_count": null,
      "outputs": [
        {
          "output_type": "execute_result",
          "data": {
            "text/plain": [
              "(30000, 25)"
            ]
          },
          "metadata": {
            "tags": []
          },
          "execution_count": 12
        }
      ]
    },
    {
      "cell_type": "code",
      "metadata": {
        "id": "rrU2RngEc8b4",
        "colab_type": "code",
        "colab": {
          "base_uri": "https://localhost:8080/",
          "height": 605
        },
        "outputId": "ebec8d81-d94a-4f4b-be3e-5d4ee4e940c4"
      },
      "source": [
        "data.info() # We have 13 float and 12 integer variables"
      ],
      "execution_count": null,
      "outputs": [
        {
          "output_type": "stream",
          "text": [
            "<class 'pandas.core.frame.DataFrame'>\n",
            "RangeIndex: 30000 entries, 0 to 29999\n",
            "Data columns (total 25 columns):\n",
            " #   Column                      Non-Null Count  Dtype  \n",
            "---  ------                      --------------  -----  \n",
            " 0   ID                          30000 non-null  int64  \n",
            " 1   LIMIT_BAL                   30000 non-null  float64\n",
            " 2   SEX                         30000 non-null  int64  \n",
            " 3   EDUCATION                   30000 non-null  int64  \n",
            " 4   MARRIAGE                    30000 non-null  int64  \n",
            " 5   AGE                         30000 non-null  int64  \n",
            " 6   PAY_0                       30000 non-null  int64  \n",
            " 7   PAY_2                       30000 non-null  int64  \n",
            " 8   PAY_3                       30000 non-null  int64  \n",
            " 9   PAY_4                       30000 non-null  int64  \n",
            " 10  PAY_5                       30000 non-null  int64  \n",
            " 11  PAY_6                       30000 non-null  int64  \n",
            " 12  BILL_AMT1                   30000 non-null  float64\n",
            " 13  BILL_AMT2                   30000 non-null  float64\n",
            " 14  BILL_AMT3                   30000 non-null  float64\n",
            " 15  BILL_AMT4                   30000 non-null  float64\n",
            " 16  BILL_AMT5                   30000 non-null  float64\n",
            " 17  BILL_AMT6                   30000 non-null  float64\n",
            " 18  PAY_AMT1                    30000 non-null  float64\n",
            " 19  PAY_AMT2                    30000 non-null  float64\n",
            " 20  PAY_AMT3                    30000 non-null  float64\n",
            " 21  PAY_AMT4                    30000 non-null  float64\n",
            " 22  PAY_AMT5                    30000 non-null  float64\n",
            " 23  PAY_AMT6                    30000 non-null  float64\n",
            " 24  default.payment.next.month  30000 non-null  int64  \n",
            "dtypes: float64(13), int64(12)\n",
            "memory usage: 5.7 MB\n"
          ],
          "name": "stdout"
        }
      ]
    },
    {
      "cell_type": "code",
      "metadata": {
        "id": "zOfvQDfpc8cC",
        "colab_type": "code",
        "colab": {
          "base_uri": "https://localhost:8080/",
          "height": 320
        },
        "outputId": "5fb7ca3b-8def-47fb-aa8f-09bb86b6fcf3"
      },
      "source": [
        "data.describe()"
      ],
      "execution_count": null,
      "outputs": [
        {
          "output_type": "execute_result",
          "data": {
            "text/html": [
              "<div>\n",
              "<style scoped>\n",
              "    .dataframe tbody tr th:only-of-type {\n",
              "        vertical-align: middle;\n",
              "    }\n",
              "\n",
              "    .dataframe tbody tr th {\n",
              "        vertical-align: top;\n",
              "    }\n",
              "\n",
              "    .dataframe thead th {\n",
              "        text-align: right;\n",
              "    }\n",
              "</style>\n",
              "<table border=\"1\" class=\"dataframe\">\n",
              "  <thead>\n",
              "    <tr style=\"text-align: right;\">\n",
              "      <th></th>\n",
              "      <th>ID</th>\n",
              "      <th>LIMIT_BAL</th>\n",
              "      <th>SEX</th>\n",
              "      <th>EDUCATION</th>\n",
              "      <th>MARRIAGE</th>\n",
              "      <th>AGE</th>\n",
              "      <th>PAY_0</th>\n",
              "      <th>PAY_2</th>\n",
              "      <th>PAY_3</th>\n",
              "      <th>PAY_4</th>\n",
              "      <th>PAY_5</th>\n",
              "      <th>PAY_6</th>\n",
              "      <th>BILL_AMT1</th>\n",
              "      <th>BILL_AMT2</th>\n",
              "      <th>BILL_AMT3</th>\n",
              "      <th>BILL_AMT4</th>\n",
              "      <th>BILL_AMT5</th>\n",
              "      <th>BILL_AMT6</th>\n",
              "      <th>PAY_AMT1</th>\n",
              "      <th>PAY_AMT2</th>\n",
              "      <th>PAY_AMT3</th>\n",
              "      <th>PAY_AMT4</th>\n",
              "      <th>PAY_AMT5</th>\n",
              "      <th>PAY_AMT6</th>\n",
              "      <th>default.payment.next.month</th>\n",
              "    </tr>\n",
              "  </thead>\n",
              "  <tbody>\n",
              "    <tr>\n",
              "      <th>count</th>\n",
              "      <td>30000.000000</td>\n",
              "      <td>30000.000000</td>\n",
              "      <td>30000.000000</td>\n",
              "      <td>30000.000000</td>\n",
              "      <td>30000.000000</td>\n",
              "      <td>30000.000000</td>\n",
              "      <td>30000.000000</td>\n",
              "      <td>30000.000000</td>\n",
              "      <td>30000.000000</td>\n",
              "      <td>30000.000000</td>\n",
              "      <td>30000.000000</td>\n",
              "      <td>30000.000000</td>\n",
              "      <td>30000.000000</td>\n",
              "      <td>30000.000000</td>\n",
              "      <td>3.000000e+04</td>\n",
              "      <td>30000.000000</td>\n",
              "      <td>30000.000000</td>\n",
              "      <td>30000.000000</td>\n",
              "      <td>30000.000000</td>\n",
              "      <td>3.000000e+04</td>\n",
              "      <td>30000.00000</td>\n",
              "      <td>30000.000000</td>\n",
              "      <td>30000.000000</td>\n",
              "      <td>30000.000000</td>\n",
              "      <td>30000.000000</td>\n",
              "    </tr>\n",
              "    <tr>\n",
              "      <th>mean</th>\n",
              "      <td>15000.500000</td>\n",
              "      <td>167484.322667</td>\n",
              "      <td>1.603733</td>\n",
              "      <td>1.853133</td>\n",
              "      <td>1.551867</td>\n",
              "      <td>35.485500</td>\n",
              "      <td>-0.016700</td>\n",
              "      <td>-0.133767</td>\n",
              "      <td>-0.166200</td>\n",
              "      <td>-0.220667</td>\n",
              "      <td>-0.266200</td>\n",
              "      <td>-0.291100</td>\n",
              "      <td>51223.330900</td>\n",
              "      <td>49179.075167</td>\n",
              "      <td>4.701315e+04</td>\n",
              "      <td>43262.948967</td>\n",
              "      <td>40311.400967</td>\n",
              "      <td>38871.760400</td>\n",
              "      <td>5663.580500</td>\n",
              "      <td>5.921163e+03</td>\n",
              "      <td>5225.68150</td>\n",
              "      <td>4826.076867</td>\n",
              "      <td>4799.387633</td>\n",
              "      <td>5215.502567</td>\n",
              "      <td>0.221200</td>\n",
              "    </tr>\n",
              "    <tr>\n",
              "      <th>std</th>\n",
              "      <td>8660.398374</td>\n",
              "      <td>129747.661567</td>\n",
              "      <td>0.489129</td>\n",
              "      <td>0.790349</td>\n",
              "      <td>0.521970</td>\n",
              "      <td>9.217904</td>\n",
              "      <td>1.123802</td>\n",
              "      <td>1.197186</td>\n",
              "      <td>1.196868</td>\n",
              "      <td>1.169139</td>\n",
              "      <td>1.133187</td>\n",
              "      <td>1.149988</td>\n",
              "      <td>73635.860576</td>\n",
              "      <td>71173.768783</td>\n",
              "      <td>6.934939e+04</td>\n",
              "      <td>64332.856134</td>\n",
              "      <td>60797.155770</td>\n",
              "      <td>59554.107537</td>\n",
              "      <td>16563.280354</td>\n",
              "      <td>2.304087e+04</td>\n",
              "      <td>17606.96147</td>\n",
              "      <td>15666.159744</td>\n",
              "      <td>15278.305679</td>\n",
              "      <td>17777.465775</td>\n",
              "      <td>0.415062</td>\n",
              "    </tr>\n",
              "    <tr>\n",
              "      <th>min</th>\n",
              "      <td>1.000000</td>\n",
              "      <td>10000.000000</td>\n",
              "      <td>1.000000</td>\n",
              "      <td>0.000000</td>\n",
              "      <td>0.000000</td>\n",
              "      <td>21.000000</td>\n",
              "      <td>-2.000000</td>\n",
              "      <td>-2.000000</td>\n",
              "      <td>-2.000000</td>\n",
              "      <td>-2.000000</td>\n",
              "      <td>-2.000000</td>\n",
              "      <td>-2.000000</td>\n",
              "      <td>-165580.000000</td>\n",
              "      <td>-69777.000000</td>\n",
              "      <td>-1.572640e+05</td>\n",
              "      <td>-170000.000000</td>\n",
              "      <td>-81334.000000</td>\n",
              "      <td>-339603.000000</td>\n",
              "      <td>0.000000</td>\n",
              "      <td>0.000000e+00</td>\n",
              "      <td>0.00000</td>\n",
              "      <td>0.000000</td>\n",
              "      <td>0.000000</td>\n",
              "      <td>0.000000</td>\n",
              "      <td>0.000000</td>\n",
              "    </tr>\n",
              "    <tr>\n",
              "      <th>25%</th>\n",
              "      <td>7500.750000</td>\n",
              "      <td>50000.000000</td>\n",
              "      <td>1.000000</td>\n",
              "      <td>1.000000</td>\n",
              "      <td>1.000000</td>\n",
              "      <td>28.000000</td>\n",
              "      <td>-1.000000</td>\n",
              "      <td>-1.000000</td>\n",
              "      <td>-1.000000</td>\n",
              "      <td>-1.000000</td>\n",
              "      <td>-1.000000</td>\n",
              "      <td>-1.000000</td>\n",
              "      <td>3558.750000</td>\n",
              "      <td>2984.750000</td>\n",
              "      <td>2.666250e+03</td>\n",
              "      <td>2326.750000</td>\n",
              "      <td>1763.000000</td>\n",
              "      <td>1256.000000</td>\n",
              "      <td>1000.000000</td>\n",
              "      <td>8.330000e+02</td>\n",
              "      <td>390.00000</td>\n",
              "      <td>296.000000</td>\n",
              "      <td>252.500000</td>\n",
              "      <td>117.750000</td>\n",
              "      <td>0.000000</td>\n",
              "    </tr>\n",
              "    <tr>\n",
              "      <th>50%</th>\n",
              "      <td>15000.500000</td>\n",
              "      <td>140000.000000</td>\n",
              "      <td>2.000000</td>\n",
              "      <td>2.000000</td>\n",
              "      <td>2.000000</td>\n",
              "      <td>34.000000</td>\n",
              "      <td>0.000000</td>\n",
              "      <td>0.000000</td>\n",
              "      <td>0.000000</td>\n",
              "      <td>0.000000</td>\n",
              "      <td>0.000000</td>\n",
              "      <td>0.000000</td>\n",
              "      <td>22381.500000</td>\n",
              "      <td>21200.000000</td>\n",
              "      <td>2.008850e+04</td>\n",
              "      <td>19052.000000</td>\n",
              "      <td>18104.500000</td>\n",
              "      <td>17071.000000</td>\n",
              "      <td>2100.000000</td>\n",
              "      <td>2.009000e+03</td>\n",
              "      <td>1800.00000</td>\n",
              "      <td>1500.000000</td>\n",
              "      <td>1500.000000</td>\n",
              "      <td>1500.000000</td>\n",
              "      <td>0.000000</td>\n",
              "    </tr>\n",
              "    <tr>\n",
              "      <th>75%</th>\n",
              "      <td>22500.250000</td>\n",
              "      <td>240000.000000</td>\n",
              "      <td>2.000000</td>\n",
              "      <td>2.000000</td>\n",
              "      <td>2.000000</td>\n",
              "      <td>41.000000</td>\n",
              "      <td>0.000000</td>\n",
              "      <td>0.000000</td>\n",
              "      <td>0.000000</td>\n",
              "      <td>0.000000</td>\n",
              "      <td>0.000000</td>\n",
              "      <td>0.000000</td>\n",
              "      <td>67091.000000</td>\n",
              "      <td>64006.250000</td>\n",
              "      <td>6.016475e+04</td>\n",
              "      <td>54506.000000</td>\n",
              "      <td>50190.500000</td>\n",
              "      <td>49198.250000</td>\n",
              "      <td>5006.000000</td>\n",
              "      <td>5.000000e+03</td>\n",
              "      <td>4505.00000</td>\n",
              "      <td>4013.250000</td>\n",
              "      <td>4031.500000</td>\n",
              "      <td>4000.000000</td>\n",
              "      <td>0.000000</td>\n",
              "    </tr>\n",
              "    <tr>\n",
              "      <th>max</th>\n",
              "      <td>30000.000000</td>\n",
              "      <td>1000000.000000</td>\n",
              "      <td>2.000000</td>\n",
              "      <td>6.000000</td>\n",
              "      <td>3.000000</td>\n",
              "      <td>79.000000</td>\n",
              "      <td>8.000000</td>\n",
              "      <td>8.000000</td>\n",
              "      <td>8.000000</td>\n",
              "      <td>8.000000</td>\n",
              "      <td>8.000000</td>\n",
              "      <td>8.000000</td>\n",
              "      <td>964511.000000</td>\n",
              "      <td>983931.000000</td>\n",
              "      <td>1.664089e+06</td>\n",
              "      <td>891586.000000</td>\n",
              "      <td>927171.000000</td>\n",
              "      <td>961664.000000</td>\n",
              "      <td>873552.000000</td>\n",
              "      <td>1.684259e+06</td>\n",
              "      <td>896040.00000</td>\n",
              "      <td>621000.000000</td>\n",
              "      <td>426529.000000</td>\n",
              "      <td>528666.000000</td>\n",
              "      <td>1.000000</td>\n",
              "    </tr>\n",
              "  </tbody>\n",
              "</table>\n",
              "</div>"
            ],
            "text/plain": [
              "                 ID       LIMIT_BAL  ...       PAY_AMT6  default.payment.next.month\n",
              "count  30000.000000    30000.000000  ...   30000.000000                30000.000000\n",
              "mean   15000.500000   167484.322667  ...    5215.502567                    0.221200\n",
              "std     8660.398374   129747.661567  ...   17777.465775                    0.415062\n",
              "min        1.000000    10000.000000  ...       0.000000                    0.000000\n",
              "25%     7500.750000    50000.000000  ...     117.750000                    0.000000\n",
              "50%    15000.500000   140000.000000  ...    1500.000000                    0.000000\n",
              "75%    22500.250000   240000.000000  ...    4000.000000                    0.000000\n",
              "max    30000.000000  1000000.000000  ...  528666.000000                    1.000000\n",
              "\n",
              "[8 rows x 25 columns]"
            ]
          },
          "metadata": {
            "tags": []
          },
          "execution_count": 14
        }
      ]
    },
    {
      "cell_type": "code",
      "metadata": {
        "id": "qI47D6WZc8cK",
        "colab_type": "code",
        "colab": {
          "base_uri": "https://localhost:8080/",
          "height": 495
        },
        "outputId": "75d992a8-b8dd-4fdf-c20b-80b342472064"
      },
      "source": [
        "data.isnull().sum() #checking for total null values - no null values found"
      ],
      "execution_count": null,
      "outputs": [
        {
          "output_type": "execute_result",
          "data": {
            "text/plain": [
              "ID                            0\n",
              "LIMIT_BAL                     0\n",
              "SEX                           0\n",
              "EDUCATION                     0\n",
              "MARRIAGE                      0\n",
              "AGE                           0\n",
              "PAY_0                         0\n",
              "PAY_2                         0\n",
              "PAY_3                         0\n",
              "PAY_4                         0\n",
              "PAY_5                         0\n",
              "PAY_6                         0\n",
              "BILL_AMT1                     0\n",
              "BILL_AMT2                     0\n",
              "BILL_AMT3                     0\n",
              "BILL_AMT4                     0\n",
              "BILL_AMT5                     0\n",
              "BILL_AMT6                     0\n",
              "PAY_AMT1                      0\n",
              "PAY_AMT2                      0\n",
              "PAY_AMT3                      0\n",
              "PAY_AMT4                      0\n",
              "PAY_AMT5                      0\n",
              "PAY_AMT6                      0\n",
              "default.payment.next.month    0\n",
              "dtype: int64"
            ]
          },
          "metadata": {
            "tags": []
          },
          "execution_count": 15
        }
      ]
    },
    {
      "cell_type": "code",
      "metadata": {
        "id": "fURojEpIc8cT",
        "colab_type": "code",
        "colab": {
          "base_uri": "https://localhost:8080/",
          "height": 72
        },
        "outputId": "9dd3bc4c-a2a3-4ca5-f391-da54ee38389b"
      },
      "source": [
        "data['default.payment.next.month'].value_counts()"
      ],
      "execution_count": null,
      "outputs": [
        {
          "output_type": "execute_result",
          "data": {
            "text/plain": [
              "0    23364\n",
              "1     6636\n",
              "Name: default.payment.next.month, dtype: int64"
            ]
          },
          "metadata": {
            "tags": []
          },
          "execution_count": 16
        }
      ]
    },
    {
      "cell_type": "markdown",
      "metadata": {
        "id": "tITu05RCc8cc",
        "colab_type": "text"
      },
      "source": [
        "# Analysing the features and data cleaning (where ever required)"
      ]
    },
    {
      "cell_type": "code",
      "metadata": {
        "id": "TojnLI3Ec8cd",
        "colab_type": "code",
        "colab": {
          "base_uri": "https://localhost:8080/",
          "height": 439
        },
        "outputId": "dd2a6552-a104-4296-f776-0723738e965c"
      },
      "source": [
        "#How many defaulted\n",
        "f,ax=plt.subplots(1,2,figsize=(18,8))\n",
        "data['default.payment.next.month'].value_counts().plot.pie(explode=[0,0.1],autopct='%1.1f%%',ax=ax[0],shadow=True)\n",
        "ax[0].set_title('default')\n",
        "ax[0].set_ylabel('')\n",
        "sns.countplot('default.payment.next.month',data=data,ax=ax[1])\n",
        "ax[1].set_title('default')\n",
        "plt.show()\n"
      ],
      "execution_count": null,
      "outputs": [
        {
          "output_type": "display_data",
          "data": {
            "image/png": "[encoded data removed]",
            "text/plain": [
              "<Figure size 1296x576 with 2 Axes>"
            ]
          },
          "metadata": {
            "tags": [],
            "needs_background": "light"
          }
        }
      ]
    },
    {
      "cell_type": "markdown",
      "metadata": {
        "id": "NIRT1k0Wc8cn",
        "colab_type": "text"
      },
      "source": [
        "Around 22% defaulted "
      ]
    },
    {
      "cell_type": "code",
      "metadata": {
        "id": "BkMd2pqIc8co",
        "colab_type": "code",
        "colab": {
          "base_uri": "https://localhost:8080/",
          "height": 127
        },
        "outputId": "50597b81-15a6-4319-b0a2-dc761d07a9dd"
      },
      "source": [
        "data.columns"
      ],
      "execution_count": null,
      "outputs": [
        {
          "output_type": "execute_result",
          "data": {
            "text/plain": [
              "Index(['ID', 'LIMIT_BAL', 'SEX', 'EDUCATION', 'MARRIAGE', 'AGE', 'PAY_0',\n",
              "       'PAY_2', 'PAY_3', 'PAY_4', 'PAY_5', 'PAY_6', 'BILL_AMT1', 'BILL_AMT2',\n",
              "       'BILL_AMT3', 'BILL_AMT4', 'BILL_AMT5', 'BILL_AMT6', 'PAY_AMT1',\n",
              "       'PAY_AMT2', 'PAY_AMT3', 'PAY_AMT4', 'PAY_AMT5', 'PAY_AMT6',\n",
              "       'default.payment.next.month'],\n",
              "      dtype='object')"
            ]
          },
          "metadata": {
            "tags": []
          },
          "execution_count": 18
        }
      ]
    },
    {
      "cell_type": "markdown",
      "metadata": {
        "id": "gPvK_2MTc8cx",
        "colab_type": "text"
      },
      "source": [
        "We have features : ID, LIMIT_BAL, SEX, EDUCATION, MARRIAGE, AGE, PAY_0, PAY_2, PAY_3, PAY_4, PAY_5, PAY_6, BILL_AMT1, \n",
        "                   BILL_AMT2,BILL_AMT3, BILL_AMT4, BILL_AMT5, BILL_AMT6, PAY_AMT1, PAY_AMT2, PAY_AMT3, PAY_AMT4, PAY_AMT5,\n",
        "                   PAY_AMT6\n",
        "Target variable as default.payment.next.month\n",
        "    "
      ]
    },
    {
      "cell_type": "code",
      "metadata": {
        "id": "qcXLIhKcc8cy",
        "colab_type": "code",
        "colab": {}
      },
      "source": [
        "data.drop('ID',1,inplace=True)\n"
      ],
      "execution_count": null,
      "outputs": []
    },
    {
      "cell_type": "code",
      "metadata": {
        "id": "SOXa9lzQc8c7",
        "colab_type": "code",
        "colab": {}
      },
      "source": [
        "data.rename(columns={'default.payment.next.month':'default_payment_next_month'},inplace=True)"
      ],
      "execution_count": null,
      "outputs": []
    },
    {
      "cell_type": "markdown",
      "metadata": {
        "id": "ecVXASnAc8dC",
        "colab_type": "text"
      },
      "source": [
        "Dropped column \"ID\" as it is not required further. Also, renamed 'default.payment.next.month' by 'default_payment_next_month' so that python does not get confused with period(.) "
      ]
    },
    {
      "cell_type": "markdown",
      "metadata": {
        "id": "WY_FNhWDc8dE",
        "colab_type": "text"
      },
      "source": [
        "The features in the data can be classified as Categorical, Ordinal and Continuous. \n",
        "Categorical Features - SEX\n",
        "Ordinal Features - EDUCATION, MARRIAGE, PAY_0 - 6\n",
        "Continuous Features - LIMIT_BAL, AGE, BILL_AMT1 - 6,PAY_AMT1 - 6"
      ]
    },
    {
      "cell_type": "markdown",
      "metadata": {
        "id": "h_mRukXGc8dG",
        "colab_type": "text"
      },
      "source": [
        "Sex -> Categorical"
      ]
    },
    {
      "cell_type": "code",
      "metadata": {
        "id": "VzBrtsryc8dI",
        "colab_type": "code",
        "colab": {
          "base_uri": "https://localhost:8080/",
          "height": 127
        },
        "outputId": "92d0df37-bdd3-4b67-a256-21377bf9e71e"
      },
      "source": [
        "data.groupby(['SEX','default_payment_next_month'])['default_payment_next_month'].count()"
      ],
      "execution_count": null,
      "outputs": [
        {
          "output_type": "execute_result",
          "data": {
            "text/plain": [
              "SEX  default_payment_next_month\n",
              "1    0                              9015\n",
              "     1                              2873\n",
              "2    0                             14349\n",
              "     1                              3763\n",
              "Name: default_payment_next_month, dtype: int64"
            ]
          },
          "metadata": {
            "tags": []
          },
          "execution_count": 21
        }
      ]
    },
    {
      "cell_type": "code",
      "metadata": {
        "id": "yR1C7sH7c8dQ",
        "colab_type": "code",
        "colab": {
          "base_uri": "https://localhost:8080/",
          "height": 513
        },
        "outputId": "40752abb-f5b1-4109-ea7b-e71ee2b9ec16"
      },
      "source": [
        "\n",
        "\n",
        "f,ax=plt.subplots(1,2,figsize=(10,8))\n",
        "data[['SEX','default_payment_next_month']].groupby(['SEX']).mean().plot.bar(ax=ax[0])\n",
        "ax[0].set_title('default vs SEX')\n",
        "sns.countplot('SEX',hue='default_payment_next_month',data=data,ax=ax[1])\n",
        "ax[1].set_title('SEX:default vs non-default')\n",
        "plt.show()\n",
        "\n"
      ],
      "execution_count": null,
      "outputs": [
        {
          "output_type": "display_data",
          "data": {
            "image/png": "[encoded data removed]",
            "text/plain": [
              "<Figure size 720x576 with 2 Axes>"
            ]
          },
          "metadata": {
            "tags": [],
            "needs_background": "light"
          }
        }
      ]
    },
    {
      "cell_type": "markdown",
      "metadata": {
        "id": "BShZZY4Oc8dX",
        "colab_type": "text"
      },
      "source": [
        "The default % for male clients is around (23-24)% and for females is around 21%. \n",
        "As per the data female clients are more than male ones."
      ]
    },
    {
      "cell_type": "markdown",
      "metadata": {
        "id": "1Zv7OHoec8dY",
        "colab_type": "text"
      },
      "source": [
        "EDUCATION -> ORDINAL"
      ]
    },
    {
      "cell_type": "code",
      "metadata": {
        "id": "2cojPu8bc8dZ",
        "colab_type": "code",
        "colab": {
          "base_uri": "https://localhost:8080/",
          "height": 233
        },
        "outputId": "3f1ec7f9-786e-4c76-f81f-bc0544cc0b2b"
      },
      "source": [
        "pd.crosstab(data.EDUCATION,data.default_payment_next_month,margins=True).style.background_gradient(cmap='summer_r')"
      ],
      "execution_count": null,
      "outputs": [
        {
          "output_type": "execute_result",
          "data": {
            "text/html": [
              "<style  type=\"text/css\" >\n",
              "    #T_0c58ea62_d62c_11ea_92f3_0242ac1c0002row0_col0 {\n",
              "            background-color:  #ffff66;\n",
              "            color:  #000000;\n",
              "        }    #T_0c58ea62_d62c_11ea_92f3_0242ac1c0002row0_col1 {\n",
              "            background-color:  #ffff66;\n",
              "            color:  #000000;\n",
              "        }    #T_0c58ea62_d62c_11ea_92f3_0242ac1c0002row0_col2 {\n",
              "            background-color:  #ffff66;\n",
              "            color:  #000000;\n",
              "        }    #T_0c58ea62_d62c_11ea_92f3_0242ac1c0002row1_col0 {\n",
              "            background-color:  #a2d066;\n",
              "            color:  #000000;\n",
              "        }    #T_0c58ea62_d62c_11ea_92f3_0242ac1c0002row1_col1 {\n",
              "            background-color:  #b1d866;\n",
              "            color:  #000000;\n",
              "        }    #T_0c58ea62_d62c_11ea_92f3_0242ac1c0002row1_col2 {\n",
              "            background-color:  #a5d266;\n",
              "            color:  #000000;\n",
              "        }    #T_0c58ea62_d62c_11ea_92f3_0242ac1c0002row2_col0 {\n",
              "            background-color:  #8ac466;\n",
              "            color:  #000000;\n",
              "        }    #T_0c58ea62_d62c_11ea_92f3_0242ac1c0002row2_col1 {\n",
              "            background-color:  #7fbf66;\n",
              "            color:  #000000;\n",
              "        }    #T_0c58ea62_d62c_11ea_92f3_0242ac1c0002row2_col2 {\n",
              "            background-color:  #88c366;\n",
              "            color:  #000000;\n",
              "        }    #T_0c58ea62_d62c_11ea_92f3_0242ac1c0002row3_col0 {\n",
              "            background-color:  #d7eb66;\n",
              "            color:  #000000;\n",
              "        }    #T_0c58ea62_d62c_11ea_92f3_0242ac1c0002row3_col1 {\n",
              "            background-color:  #d0e866;\n",
              "            color:  #000000;\n",
              "        }    #T_0c58ea62_d62c_11ea_92f3_0242ac1c0002row3_col2 {\n",
              "            background-color:  #d6eb66;\n",
              "            color:  #000000;\n",
              "        }    #T_0c58ea62_d62c_11ea_92f3_0242ac1c0002row4_col0 {\n",
              "            background-color:  #fefe66;\n",
              "            color:  #000000;\n",
              "        }    #T_0c58ea62_d62c_11ea_92f3_0242ac1c0002row4_col1 {\n",
              "            background-color:  #ffff66;\n",
              "            color:  #000000;\n",
              "        }    #T_0c58ea62_d62c_11ea_92f3_0242ac1c0002row4_col2 {\n",
              "            background-color:  #ffff66;\n",
              "            color:  #000000;\n",
              "        }    #T_0c58ea62_d62c_11ea_92f3_0242ac1c0002row5_col0 {\n",
              "            background-color:  #fdfe66;\n",
              "            color:  #000000;\n",
              "        }    #T_0c58ea62_d62c_11ea_92f3_0242ac1c0002row5_col1 {\n",
              "            background-color:  #ffff66;\n",
              "            color:  #000000;\n",
              "        }    #T_0c58ea62_d62c_11ea_92f3_0242ac1c0002row5_col2 {\n",
              "            background-color:  #fdfe66;\n",
              "            color:  #000000;\n",
              "        }    #T_0c58ea62_d62c_11ea_92f3_0242ac1c0002row6_col0 {\n",
              "            background-color:  #ffff66;\n",
              "            color:  #000000;\n",
              "        }    #T_0c58ea62_d62c_11ea_92f3_0242ac1c0002row6_col1 {\n",
              "            background-color:  #ffff66;\n",
              "            color:  #000000;\n",
              "        }    #T_0c58ea62_d62c_11ea_92f3_0242ac1c0002row6_col2 {\n",
              "            background-color:  #ffff66;\n",
              "            color:  #000000;\n",
              "        }    #T_0c58ea62_d62c_11ea_92f3_0242ac1c0002row7_col0 {\n",
              "            background-color:  #008066;\n",
              "            color:  #f1f1f1;\n",
              "        }    #T_0c58ea62_d62c_11ea_92f3_0242ac1c0002row7_col1 {\n",
              "            background-color:  #008066;\n",
              "            color:  #f1f1f1;\n",
              "        }    #T_0c58ea62_d62c_11ea_92f3_0242ac1c0002row7_col2 {\n",
              "            background-color:  #008066;\n",
              "            color:  #f1f1f1;\n",
              "        }</style><table id=\"T_0c58ea62_d62c_11ea_92f3_0242ac1c0002\" ><thead>    <tr>        <th class=\"index_name level0\" >default_payment_next_month</th>        <th class=\"col_heading level0 col0\" >0</th>        <th class=\"col_heading level0 col1\" >1</th>        <th class=\"col_heading level0 col2\" >All</th>    </tr>    <tr>        <th class=\"index_name level0\" >EDUCATION</th>        <th class=\"blank\" ></th>        <th class=\"blank\" ></th>        <th class=\"blank\" ></th>    </tr></thead><tbody>\n",
              "                <tr>\n",
              "                        <th id=\"T_0c58ea62_d62c_11ea_92f3_0242ac1c0002level0_row0\" class=\"row_heading level0 row0\" >0</th>\n",
              "                        <td id=\"T_0c58ea62_d62c_11ea_92f3_0242ac1c0002row0_col0\" class=\"data row0 col0\" >14</td>\n",
              "                        <td id=\"T_0c58ea62_d62c_11ea_92f3_0242ac1c0002row0_col1\" class=\"data row0 col1\" >0</td>\n",
              "                        <td id=\"T_0c58ea62_d62c_11ea_92f3_0242ac1c0002row0_col2\" class=\"data row0 col2\" >14</td>\n",
              "            </tr>\n",
              "            <tr>\n",
              "                        <th id=\"T_0c58ea62_d62c_11ea_92f3_0242ac1c0002level0_row1\" class=\"row_heading level0 row1\" >1</th>\n",
              "                        <td id=\"T_0c58ea62_d62c_11ea_92f3_0242ac1c0002row1_col0\" class=\"data row1 col0\" >8549</td>\n",
              "                        <td id=\"T_0c58ea62_d62c_11ea_92f3_0242ac1c0002row1_col1\" class=\"data row1 col1\" >2036</td>\n",
              "                        <td id=\"T_0c58ea62_d62c_11ea_92f3_0242ac1c0002row1_col2\" class=\"data row1 col2\" >10585</td>\n",
              "            </tr>\n",
              "            <tr>\n",
              "                        <th id=\"T_0c58ea62_d62c_11ea_92f3_0242ac1c0002level0_row2\" class=\"row_heading level0 row2\" >2</th>\n",
              "                        <td id=\"T_0c58ea62_d62c_11ea_92f3_0242ac1c0002row2_col0\" class=\"data row2 col0\" >10700</td>\n",
              "                        <td id=\"T_0c58ea62_d62c_11ea_92f3_0242ac1c0002row2_col1\" class=\"data row2 col1\" >3330</td>\n",
              "                        <td id=\"T_0c58ea62_d62c_11ea_92f3_0242ac1c0002row2_col2\" class=\"data row2 col2\" >14030</td>\n",
              "            </tr>\n",
              "            <tr>\n",
              "                        <th id=\"T_0c58ea62_d62c_11ea_92f3_0242ac1c0002level0_row3\" class=\"row_heading level0 row3\" >3</th>\n",
              "                        <td id=\"T_0c58ea62_d62c_11ea_92f3_0242ac1c0002row3_col0\" class=\"data row3 col0\" >3680</td>\n",
              "                        <td id=\"T_0c58ea62_d62c_11ea_92f3_0242ac1c0002row3_col1\" class=\"data row3 col1\" >1237</td>\n",
              "                        <td id=\"T_0c58ea62_d62c_11ea_92f3_0242ac1c0002row3_col2\" class=\"data row3 col2\" >4917</td>\n",
              "            </tr>\n",
              "            <tr>\n",
              "                        <th id=\"T_0c58ea62_d62c_11ea_92f3_0242ac1c0002level0_row4\" class=\"row_heading level0 row4\" >4</th>\n",
              "                        <td id=\"T_0c58ea62_d62c_11ea_92f3_0242ac1c0002row4_col0\" class=\"data row4 col0\" >116</td>\n",
              "                        <td id=\"T_0c58ea62_d62c_11ea_92f3_0242ac1c0002row4_col1\" class=\"data row4 col1\" >7</td>\n",
              "                        <td id=\"T_0c58ea62_d62c_11ea_92f3_0242ac1c0002row4_col2\" class=\"data row4 col2\" >123</td>\n",
              "            </tr>\n",
              "            <tr>\n",
              "                        <th id=\"T_0c58ea62_d62c_11ea_92f3_0242ac1c0002level0_row5\" class=\"row_heading level0 row5\" >5</th>\n",
              "                        <td id=\"T_0c58ea62_d62c_11ea_92f3_0242ac1c0002row5_col0\" class=\"data row5 col0\" >262</td>\n",
              "                        <td id=\"T_0c58ea62_d62c_11ea_92f3_0242ac1c0002row5_col1\" class=\"data row5 col1\" >18</td>\n",
              "                        <td id=\"T_0c58ea62_d62c_11ea_92f3_0242ac1c0002row5_col2\" class=\"data row5 col2\" >280</td>\n",
              "            </tr>\n",
              "            <tr>\n",
              "                        <th id=\"T_0c58ea62_d62c_11ea_92f3_0242ac1c0002level0_row6\" class=\"row_heading level0 row6\" >6</th>\n",
              "                        <td id=\"T_0c58ea62_d62c_11ea_92f3_0242ac1c0002row6_col0\" class=\"data row6 col0\" >43</td>\n",
              "                        <td id=\"T_0c58ea62_d62c_11ea_92f3_0242ac1c0002row6_col1\" class=\"data row6 col1\" >8</td>\n",
              "                        <td id=\"T_0c58ea62_d62c_11ea_92f3_0242ac1c0002row6_col2\" class=\"data row6 col2\" >51</td>\n",
              "            </tr>\n",
              "            <tr>\n",
              "                        <th id=\"T_0c58ea62_d62c_11ea_92f3_0242ac1c0002level0_row7\" class=\"row_heading level0 row7\" >All</th>\n",
              "                        <td id=\"T_0c58ea62_d62c_11ea_92f3_0242ac1c0002row7_col0\" class=\"data row7 col0\" >23364</td>\n",
              "                        <td id=\"T_0c58ea62_d62c_11ea_92f3_0242ac1c0002row7_col1\" class=\"data row7 col1\" >6636</td>\n",
              "                        <td id=\"T_0c58ea62_d62c_11ea_92f3_0242ac1c0002row7_col2\" class=\"data row7 col2\" >30000</td>\n",
              "            </tr>\n",
              "    </tbody></table>"
            ],
            "text/plain": [
              "<pandas.io.formats.style.Styler at 0x7f4c8b61eac8>"
            ]
          },
          "metadata": {
            "tags": []
          },
          "execution_count": 23
        }
      ]
    },
    {
      "cell_type": "code",
      "metadata": {
        "id": "jCDU3sm1c8dg",
        "colab_type": "code",
        "colab": {
          "base_uri": "https://localhost:8080/",
          "height": 407
        },
        "outputId": "b8c7de87-5a3c-4860-e110-50730d8c26d8"
      },
      "source": [
        "f,ax=plt.subplots(1,2,figsize=(18,8))\n",
        "data['EDUCATION'].value_counts().plot.bar(color=['#CD7F32','#FFDF00','#D3D3D3'],ax=ax[0])\n",
        "ax[0].set_title('Number Of clients in each category class of education')\n",
        "ax[0].set_ylabel('Count')\n",
        "sns.countplot('EDUCATION',hue='default_payment_next_month',data=data,ax=ax[1])\n",
        "ax[1].set_title('Education:Default vs Non-Default')\n",
        "plt.show()"
      ],
      "execution_count": null,
      "outputs": [
        {
          "output_type": "display_data",
          "data": {
            "image/png": "[encoded data removed]",
            "text/plain": [
              "<Figure size 1296x576 with 2 Axes>"
            ]
          },
          "metadata": {
            "tags": [],
            "needs_background": "light"
          }
        }
      ]
    },
    {
      "cell_type": "code",
      "metadata": {
        "id": "S4FrJbNMc8dn",
        "colab_type": "code",
        "colab": {
          "base_uri": "https://localhost:8080/",
          "height": 310
        },
        "outputId": "50eda5a3-2a01-48b8-994c-cb4e507fcfcd"
      },
      "source": [
        "sns.barplot(x=\"EDUCATION\",y=\"default_payment_next_month\",data=data,ci=None)\n",
        "plt.xticks(rotation=90)\n",
        "plt.title('average default% as per education class')"
      ],
      "execution_count": null,
      "outputs": [
        {
          "output_type": "execute_result",
          "data": {
            "text/plain": [
              "Text(0.5, 1.0, 'average default% as per education class')"
            ]
          },
          "metadata": {
            "tags": []
          },
          "execution_count": 25
        },
        {
          "output_type": "display_data",
          "data": {
            "image/png": "[encoded data removed]",
            "text/plain": [
              "<Figure size 432x288 with 1 Axes>"
            ]
          },
          "metadata": {
            "tags": [],
            "needs_background": "light"
          }
        }
      ]
    },
    {
      "cell_type": "markdown",
      "metadata": {
        "id": "FAZpb6xyc8dt",
        "colab_type": "text"
      },
      "source": [
        "category 3 has the highest default%. 0 has the least percentage but is not defined as per the data description. \n",
        "So we can say that clients who are educated till 'High School' are more likely to default.\n",
        "Let's dig in more of 'EDUCATION'."
      ]
    },
    {
      "cell_type": "markdown",
      "metadata": {
        "id": "AptXzUmbc8du",
        "colab_type": "text"
      },
      "source": [
        "Default as per SEX and EDUCATION"
      ]
    },
    {
      "cell_type": "code",
      "metadata": {
        "id": "VhveG6pGc8dx",
        "colab_type": "code",
        "colab": {
          "base_uri": "https://localhost:8080/",
          "height": 169
        },
        "outputId": "572e486a-6d44-4ae3-df18-3b8f737bb6bf"
      },
      "source": [
        "pd.crosstab([data.SEX,data.default_payment_next_month],data.EDUCATION,margins=True).style.background_gradient(cmap='summer_r')"
      ],
      "execution_count": null,
      "outputs": [
        {
          "output_type": "execute_result",
          "data": {
            "text/html": [
              "<style  type=\"text/css\" >\n",
              "    #T_18813b5a_d62c_11ea_92f3_0242ac1c0002row0_col0 {\n",
              "            background-color:  #6db666;\n",
              "            color:  #000000;\n",
              "        }    #T_18813b5a_d62c_11ea_92f3_0242ac1c0002row0_col1 {\n",
              "            background-color:  #bcde66;\n",
              "            color:  #000000;\n",
              "        }    #T_18813b5a_d62c_11ea_92f3_0242ac1c0002row0_col2 {\n",
              "            background-color:  #cce666;\n",
              "            color:  #000000;\n",
              "        }    #T_18813b5a_d62c_11ea_92f3_0242ac1c0002row0_col3 {\n",
              "            background-color:  #cbe566;\n",
              "            color:  #000000;\n",
              "        }    #T_18813b5a_d62c_11ea_92f3_0242ac1c0002row0_col4 {\n",
              "            background-color:  #b5da66;\n",
              "            color:  #000000;\n",
              "        }    #T_18813b5a_d62c_11ea_92f3_0242ac1c0002row0_col5 {\n",
              "            background-color:  #b2d866;\n",
              "            color:  #000000;\n",
              "        }    #T_18813b5a_d62c_11ea_92f3_0242ac1c0002row0_col6 {\n",
              "            background-color:  #a3d166;\n",
              "            color:  #000000;\n",
              "        }    #T_18813b5a_d62c_11ea_92f3_0242ac1c0002row0_col7 {\n",
              "            background-color:  #c6e266;\n",
              "            color:  #000000;\n",
              "        }    #T_18813b5a_d62c_11ea_92f3_0242ac1c0002row1_col0 {\n",
              "            background-color:  #ffff66;\n",
              "            color:  #000000;\n",
              "        }    #T_18813b5a_d62c_11ea_92f3_0242ac1c0002row1_col1 {\n",
              "            background-color:  #ffff66;\n",
              "            color:  #000000;\n",
              "        }    #T_18813b5a_d62c_11ea_92f3_0242ac1c0002row1_col2 {\n",
              "            background-color:  #ffff66;\n",
              "            color:  #000000;\n",
              "        }    #T_18813b5a_d62c_11ea_92f3_0242ac1c0002row1_col3 {\n",
              "            background-color:  #ffff66;\n",
              "            color:  #000000;\n",
              "        }    #T_18813b5a_d62c_11ea_92f3_0242ac1c0002row1_col4 {\n",
              "            background-color:  #fdfe66;\n",
              "            color:  #000000;\n",
              "        }    #T_18813b5a_d62c_11ea_92f3_0242ac1c0002row1_col5 {\n",
              "            background-color:  #ffff66;\n",
              "            color:  #000000;\n",
              "        }    #T_18813b5a_d62c_11ea_92f3_0242ac1c0002row1_col6 {\n",
              "            background-color:  #ffff66;\n",
              "            color:  #000000;\n",
              "        }    #T_18813b5a_d62c_11ea_92f3_0242ac1c0002row1_col7 {\n",
              "            background-color:  #ffff66;\n",
              "            color:  #000000;\n",
              "        }    #T_18813b5a_d62c_11ea_92f3_0242ac1c0002row2_col0 {\n",
              "            background-color:  #92c866;\n",
              "            color:  #000000;\n",
              "        }    #T_18813b5a_d62c_11ea_92f3_0242ac1c0002row2_col1 {\n",
              "            background-color:  #91c866;\n",
              "            color:  #000000;\n",
              "        }    #T_18813b5a_d62c_11ea_92f3_0242ac1c0002row2_col2 {\n",
              "            background-color:  #93c966;\n",
              "            color:  #000000;\n",
              "        }    #T_18813b5a_d62c_11ea_92f3_0242ac1c0002row2_col3 {\n",
              "            background-color:  #9dce66;\n",
              "            color:  #000000;\n",
              "        }    #T_18813b5a_d62c_11ea_92f3_0242ac1c0002row2_col4 {\n",
              "            background-color:  #5faf66;\n",
              "            color:  #000000;\n",
              "        }    #T_18813b5a_d62c_11ea_92f3_0242ac1c0002row2_col5 {\n",
              "            background-color:  #63b166;\n",
              "            color:  #000000;\n",
              "        }    #T_18813b5a_d62c_11ea_92f3_0242ac1c0002row2_col6 {\n",
              "            background-color:  #9dce66;\n",
              "            color:  #000000;\n",
              "        }    #T_18813b5a_d62c_11ea_92f3_0242ac1c0002row2_col7 {\n",
              "            background-color:  #93c966;\n",
              "            color:  #000000;\n",
              "        }    #T_18813b5a_d62c_11ea_92f3_0242ac1c0002row3_col0 {\n",
              "            background-color:  #ffff66;\n",
              "            color:  #000000;\n",
              "        }    #T_18813b5a_d62c_11ea_92f3_0242ac1c0002row3_col1 {\n",
              "            background-color:  #fafc66;\n",
              "            color:  #000000;\n",
              "        }    #T_18813b5a_d62c_11ea_92f3_0242ac1c0002row3_col2 {\n",
              "            background-color:  #f5fa66;\n",
              "            color:  #000000;\n",
              "        }    #T_18813b5a_d62c_11ea_92f3_0242ac1c0002row3_col3 {\n",
              "            background-color:  #f7fb66;\n",
              "            color:  #000000;\n",
              "        }    #T_18813b5a_d62c_11ea_92f3_0242ac1c0002row3_col4 {\n",
              "            background-color:  #ffff66;\n",
              "            color:  #000000;\n",
              "        }    #T_18813b5a_d62c_11ea_92f3_0242ac1c0002row3_col5 {\n",
              "            background-color:  #fafc66;\n",
              "            color:  #000000;\n",
              "        }    #T_18813b5a_d62c_11ea_92f3_0242ac1c0002row3_col6 {\n",
              "            background-color:  #ffff66;\n",
              "            color:  #000000;\n",
              "        }    #T_18813b5a_d62c_11ea_92f3_0242ac1c0002row3_col7 {\n",
              "            background-color:  #f7fb66;\n",
              "            color:  #000000;\n",
              "        }    #T_18813b5a_d62c_11ea_92f3_0242ac1c0002row4_col0 {\n",
              "            background-color:  #008066;\n",
              "            color:  #f1f1f1;\n",
              "        }    #T_18813b5a_d62c_11ea_92f3_0242ac1c0002row4_col1 {\n",
              "            background-color:  #008066;\n",
              "            color:  #f1f1f1;\n",
              "        }    #T_18813b5a_d62c_11ea_92f3_0242ac1c0002row4_col2 {\n",
              "            background-color:  #008066;\n",
              "            color:  #f1f1f1;\n",
              "        }    #T_18813b5a_d62c_11ea_92f3_0242ac1c0002row4_col3 {\n",
              "            background-color:  #008066;\n",
              "            color:  #f1f1f1;\n",
              "        }    #T_18813b5a_d62c_11ea_92f3_0242ac1c0002row4_col4 {\n",
              "            background-color:  #008066;\n",
              "            color:  #f1f1f1;\n",
              "        }    #T_18813b5a_d62c_11ea_92f3_0242ac1c0002row4_col5 {\n",
              "            background-color:  #008066;\n",
              "            color:  #f1f1f1;\n",
              "        }    #T_18813b5a_d62c_11ea_92f3_0242ac1c0002row4_col6 {\n",
              "            background-color:  #008066;\n",
              "            color:  #f1f1f1;\n",
              "        }    #T_18813b5a_d62c_11ea_92f3_0242ac1c0002row4_col7 {\n",
              "            background-color:  #008066;\n",
              "            color:  #f1f1f1;\n",
              "        }</style><table id=\"T_18813b5a_d62c_11ea_92f3_0242ac1c0002\" ><thead>    <tr>        <th class=\"blank\" ></th>        <th class=\"index_name level0\" >EDUCATION</th>        <th class=\"col_heading level0 col0\" >0</th>        <th class=\"col_heading level0 col1\" >1</th>        <th class=\"col_heading level0 col2\" >2</th>        <th class=\"col_heading level0 col3\" >3</th>        <th class=\"col_heading level0 col4\" >4</th>        <th class=\"col_heading level0 col5\" >5</th>        <th class=\"col_heading level0 col6\" >6</th>        <th class=\"col_heading level0 col7\" >All</th>    </tr>    <tr>        <th class=\"index_name level0\" >SEX</th>        <th class=\"index_name level1\" >default_payment_next_month</th>        <th class=\"blank\" ></th>        <th class=\"blank\" ></th>        <th class=\"blank\" ></th>        <th class=\"blank\" ></th>        <th class=\"blank\" ></th>        <th class=\"blank\" ></th>        <th class=\"blank\" ></th>        <th class=\"blank\" ></th>    </tr></thead><tbody>\n",
              "                <tr>\n",
              "                        <th id=\"T_18813b5a_d62c_11ea_92f3_0242ac1c0002level0_row0\" class=\"row_heading level0 row0\" rowspan=2>1</th>\n",
              "                        <th id=\"T_18813b5a_d62c_11ea_92f3_0242ac1c0002level1_row0\" class=\"row_heading level1 row0\" >0</th>\n",
              "                        <td id=\"T_18813b5a_d62c_11ea_92f3_0242ac1c0002row0_col0\" class=\"data row0 col0\" >8</td>\n",
              "                        <td id=\"T_18813b5a_d62c_11ea_92f3_0242ac1c0002row0_col1\" class=\"data row0 col1\" >3448</td>\n",
              "                        <td id=\"T_18813b5a_d62c_11ea_92f3_0242ac1c0002row0_col2\" class=\"data row0 col2\" >3966</td>\n",
              "                        <td id=\"T_18813b5a_d62c_11ea_92f3_0242ac1c0002row0_col3\" class=\"data row0 col3\" >1445</td>\n",
              "                        <td id=\"T_18813b5a_d62c_11ea_92f3_0242ac1c0002row0_col4\" class=\"data row0 col4\" >38</td>\n",
              "                        <td id=\"T_18813b5a_d62c_11ea_92f3_0242ac1c0002row0_col5\" class=\"data row0 col5\" >89</td>\n",
              "                        <td id=\"T_18813b5a_d62c_11ea_92f3_0242ac1c0002row0_col6\" class=\"data row0 col6\" >21</td>\n",
              "                        <td id=\"T_18813b5a_d62c_11ea_92f3_0242ac1c0002row0_col7\" class=\"data row0 col7\" >9015</td>\n",
              "            </tr>\n",
              "            <tr>\n",
              "                                <th id=\"T_18813b5a_d62c_11ea_92f3_0242ac1c0002level1_row1\" class=\"row_heading level1 row1\" >1</th>\n",
              "                        <td id=\"T_18813b5a_d62c_11ea_92f3_0242ac1c0002row1_col0\" class=\"data row1 col0\" >0</td>\n",
              "                        <td id=\"T_18813b5a_d62c_11ea_92f3_0242ac1c0002row1_col1\" class=\"data row1 col1\" >906</td>\n",
              "                        <td id=\"T_18813b5a_d62c_11ea_92f3_0242ac1c0002row1_col2\" class=\"data row1 col2\" >1408</td>\n",
              "                        <td id=\"T_18813b5a_d62c_11ea_92f3_0242ac1c0002row1_col3\" class=\"data row1 col3\" >545</td>\n",
              "                        <td id=\"T_18813b5a_d62c_11ea_92f3_0242ac1c0002row1_col4\" class=\"data row1 col4\" >4</td>\n",
              "                        <td id=\"T_18813b5a_d62c_11ea_92f3_0242ac1c0002row1_col5\" class=\"data row1 col5\" >6</td>\n",
              "                        <td id=\"T_18813b5a_d62c_11ea_92f3_0242ac1c0002row1_col6\" class=\"data row1 col6\" >4</td>\n",
              "                        <td id=\"T_18813b5a_d62c_11ea_92f3_0242ac1c0002row1_col7\" class=\"data row1 col7\" >2873</td>\n",
              "            </tr>\n",
              "            <tr>\n",
              "                        <th id=\"T_18813b5a_d62c_11ea_92f3_0242ac1c0002level0_row2\" class=\"row_heading level0 row2\" rowspan=2>2</th>\n",
              "                        <th id=\"T_18813b5a_d62c_11ea_92f3_0242ac1c0002level1_row2\" class=\"row_heading level1 row2\" >0</th>\n",
              "                        <td id=\"T_18813b5a_d62c_11ea_92f3_0242ac1c0002row2_col0\" class=\"data row2 col0\" >6</td>\n",
              "                        <td id=\"T_18813b5a_d62c_11ea_92f3_0242ac1c0002row2_col1\" class=\"data row2 col1\" >5101</td>\n",
              "                        <td id=\"T_18813b5a_d62c_11ea_92f3_0242ac1c0002row2_col2\" class=\"data row2 col2\" >6734</td>\n",
              "                        <td id=\"T_18813b5a_d62c_11ea_92f3_0242ac1c0002row2_col3\" class=\"data row2 col3\" >2235</td>\n",
              "                        <td id=\"T_18813b5a_d62c_11ea_92f3_0242ac1c0002row2_col4\" class=\"data row2 col4\" >78</td>\n",
              "                        <td id=\"T_18813b5a_d62c_11ea_92f3_0242ac1c0002row2_col5\" class=\"data row2 col5\" >173</td>\n",
              "                        <td id=\"T_18813b5a_d62c_11ea_92f3_0242ac1c0002row2_col6\" class=\"data row2 col6\" >22</td>\n",
              "                        <td id=\"T_18813b5a_d62c_11ea_92f3_0242ac1c0002row2_col7\" class=\"data row2 col7\" >14349</td>\n",
              "            </tr>\n",
              "            <tr>\n",
              "                                <th id=\"T_18813b5a_d62c_11ea_92f3_0242ac1c0002level1_row3\" class=\"row_heading level1 row3\" >1</th>\n",
              "                        <td id=\"T_18813b5a_d62c_11ea_92f3_0242ac1c0002row3_col0\" class=\"data row3 col0\" >0</td>\n",
              "                        <td id=\"T_18813b5a_d62c_11ea_92f3_0242ac1c0002row3_col1\" class=\"data row3 col1\" >1130</td>\n",
              "                        <td id=\"T_18813b5a_d62c_11ea_92f3_0242ac1c0002row3_col2\" class=\"data row3 col2\" >1922</td>\n",
              "                        <td id=\"T_18813b5a_d62c_11ea_92f3_0242ac1c0002row3_col3\" class=\"data row3 col3\" >692</td>\n",
              "                        <td id=\"T_18813b5a_d62c_11ea_92f3_0242ac1c0002row3_col4\" class=\"data row3 col4\" >3</td>\n",
              "                        <td id=\"T_18813b5a_d62c_11ea_92f3_0242ac1c0002row3_col5\" class=\"data row3 col5\" >12</td>\n",
              "                        <td id=\"T_18813b5a_d62c_11ea_92f3_0242ac1c0002row3_col6\" class=\"data row3 col6\" >4</td>\n",
              "                        <td id=\"T_18813b5a_d62c_11ea_92f3_0242ac1c0002row3_col7\" class=\"data row3 col7\" >3763</td>\n",
              "            </tr>\n",
              "            <tr>\n",
              "                        <th id=\"T_18813b5a_d62c_11ea_92f3_0242ac1c0002level0_row4\" class=\"row_heading level0 row4\" >All</th>\n",
              "                        <th id=\"T_18813b5a_d62c_11ea_92f3_0242ac1c0002level1_row4\" class=\"row_heading level1 row4\" ></th>\n",
              "                        <td id=\"T_18813b5a_d62c_11ea_92f3_0242ac1c0002row4_col0\" class=\"data row4 col0\" >14</td>\n",
              "                        <td id=\"T_18813b5a_d62c_11ea_92f3_0242ac1c0002row4_col1\" class=\"data row4 col1\" >10585</td>\n",
              "                        <td id=\"T_18813b5a_d62c_11ea_92f3_0242ac1c0002row4_col2\" class=\"data row4 col2\" >14030</td>\n",
              "                        <td id=\"T_18813b5a_d62c_11ea_92f3_0242ac1c0002row4_col3\" class=\"data row4 col3\" >4917</td>\n",
              "                        <td id=\"T_18813b5a_d62c_11ea_92f3_0242ac1c0002row4_col4\" class=\"data row4 col4\" >123</td>\n",
              "                        <td id=\"T_18813b5a_d62c_11ea_92f3_0242ac1c0002row4_col5\" class=\"data row4 col5\" >280</td>\n",
              "                        <td id=\"T_18813b5a_d62c_11ea_92f3_0242ac1c0002row4_col6\" class=\"data row4 col6\" >51</td>\n",
              "                        <td id=\"T_18813b5a_d62c_11ea_92f3_0242ac1c0002row4_col7\" class=\"data row4 col7\" >30000</td>\n",
              "            </tr>\n",
              "    </tbody></table>"
            ],
            "text/plain": [
              "<pandas.io.formats.style.Styler at 0x7f4c8abce080>"
            ]
          },
          "metadata": {
            "tags": []
          },
          "execution_count": 26
        }
      ]
    },
    {
      "cell_type": "code",
      "metadata": {
        "id": "S49LSc4Nc8d3",
        "colab_type": "code",
        "colab": {
          "base_uri": "https://localhost:8080/",
          "height": 369
        },
        "outputId": "ce80fa99-9a92-43a0-9d3e-9263aa6ebca3"
      },
      "source": [
        "sns.factorplot('EDUCATION','default_payment_next_month',hue='SEX',data=data)\n",
        "plt.show()"
      ],
      "execution_count": null,
      "outputs": [
        {
          "output_type": "display_data",
          "data": {
            "image/png": "[encoded data removed]",
            "text/plain": [
              "<Figure size 402.375x360 with 1 Axes>"
            ]
          },
          "metadata": {
            "tags": [],
            "needs_background": "light"
          }
        }
      ]
    },
    {
      "cell_type": "markdown",
      "metadata": {
        "id": "WKjmD3Gsc8d9",
        "colab_type": "text"
      },
      "source": [
        "Default seems to be the highest at category 3 for education both for male and female. For males it is slightly higher than the female by 2-3%. And it is least at category 4. Overall, we see that males default% is greater than that of female except at category 5 where it is almost equal."
      ]
    },
    {
      "cell_type": "markdown",
      "metadata": {
        "id": "hnj2ENJnc8d-",
        "colab_type": "text"
      },
      "source": [
        "Removing Category 0 seems like an error as it is not mentioned in the data description (it is very immaterial percentage and does not have any defaults) "
      ]
    },
    {
      "cell_type": "code",
      "metadata": {
        "id": "M7dRH1PPc8eA",
        "colab_type": "code",
        "colab": {}
      },
      "source": [
        "indices = data[data['EDUCATION'] == 0].index\n",
        "#indices\n",
        "data.drop(indices,axis=0,inplace=True)\n"
      ],
      "execution_count": null,
      "outputs": []
    },
    {
      "cell_type": "code",
      "metadata": {
        "id": "iOEbfv6Qc8eG",
        "colab_type": "code",
        "colab": {
          "base_uri": "https://localhost:8080/",
          "height": 35
        },
        "outputId": "065f9c8d-c8d7-4121-b3b3-01301fe01d01"
      },
      "source": [
        "data[data['EDUCATION']==0].values.any()"
      ],
      "execution_count": null,
      "outputs": [
        {
          "output_type": "execute_result",
          "data": {
            "text/plain": [
              "False"
            ]
          },
          "metadata": {
            "tags": []
          },
          "execution_count": 31
        }
      ]
    },
    {
      "cell_type": "code",
      "metadata": {
        "id": "_OW6SQTBc8eN",
        "colab_type": "code",
        "colab": {
          "base_uri": "https://localhost:8080/",
          "height": 146
        },
        "outputId": "8c7ce2bc-ba15-45bd-bb75-b38ba712085b"
      },
      "source": [
        "data['EDUCATION'].value_counts()"
      ],
      "execution_count": null,
      "outputs": [
        {
          "output_type": "execute_result",
          "data": {
            "text/plain": [
              "2    14030\n",
              "1    10585\n",
              "3     4917\n",
              "5      280\n",
              "4      123\n",
              "6       51\n",
              "Name: EDUCATION, dtype: int64"
            ]
          },
          "metadata": {
            "tags": []
          },
          "execution_count": 33
        }
      ]
    },
    {
      "cell_type": "markdown",
      "metadata": {
        "id": "Fz-llyl3c8eU",
        "colab_type": "text"
      },
      "source": [
        "I have removed category 0 for EDUCATION variable since it is not mentioned in the data description and it is very immaterial percentage and does not have any defaults."
      ]
    },
    {
      "cell_type": "markdown",
      "metadata": {
        "id": "lpe_5lfoc8eW",
        "colab_type": "text"
      },
      "source": [
        "MARRIAGE-> ORDINAL\n"
      ]
    },
    {
      "cell_type": "code",
      "metadata": {
        "id": "phagbHoKc8eX",
        "colab_type": "code",
        "colab": {
          "base_uri": "https://localhost:8080/",
          "height": 169
        },
        "outputId": "4735124d-c0db-43da-de10-aa516bc175da"
      },
      "source": [
        "pd.crosstab(data.MARRIAGE,data.default_payment_next_month,margins=True).style.background_gradient(cmap='summer_r')"
      ],
      "execution_count": null,
      "outputs": [
        {
          "output_type": "execute_result",
          "data": {
            "text/html": [
              "<style  type=\"text/css\" >\n",
              "    #T_42314e5e_d62c_11ea_92f3_0242ac1c0002row0_col0 {\n",
              "            background-color:  #ffff66;\n",
              "            color:  #000000;\n",
              "        }    #T_42314e5e_d62c_11ea_92f3_0242ac1c0002row0_col1 {\n",
              "            background-color:  #ffff66;\n",
              "            color:  #000000;\n",
              "        }    #T_42314e5e_d62c_11ea_92f3_0242ac1c0002row0_col2 {\n",
              "            background-color:  #ffff66;\n",
              "            color:  #000000;\n",
              "        }    #T_42314e5e_d62c_11ea_92f3_0242ac1c0002row1_col0 {\n",
              "            background-color:  #8dc666;\n",
              "            color:  #000000;\n",
              "        }    #T_42314e5e_d62c_11ea_92f3_0242ac1c0002row1_col1 {\n",
              "            background-color:  #84c266;\n",
              "            color:  #000000;\n",
              "        }    #T_42314e5e_d62c_11ea_92f3_0242ac1c0002row1_col2 {\n",
              "            background-color:  #8bc566;\n",
              "            color:  #000000;\n",
              "        }    #T_42314e5e_d62c_11ea_92f3_0242ac1c0002row2_col0 {\n",
              "            background-color:  #75ba66;\n",
              "            color:  #000000;\n",
              "        }    #T_42314e5e_d62c_11ea_92f3_0242ac1c0002row2_col1 {\n",
              "            background-color:  #7fbf66;\n",
              "            color:  #000000;\n",
              "        }    #T_42314e5e_d62c_11ea_92f3_0242ac1c0002row2_col2 {\n",
              "            background-color:  #78bc66;\n",
              "            color:  #000000;\n",
              "        }    #T_42314e5e_d62c_11ea_92f3_0242ac1c0002row3_col0 {\n",
              "            background-color:  #fdfe66;\n",
              "            color:  #000000;\n",
              "        }    #T_42314e5e_d62c_11ea_92f3_0242ac1c0002row3_col1 {\n",
              "            background-color:  #fcfe66;\n",
              "            color:  #000000;\n",
              "        }    #T_42314e5e_d62c_11ea_92f3_0242ac1c0002row3_col2 {\n",
              "            background-color:  #fdfe66;\n",
              "            color:  #000000;\n",
              "        }    #T_42314e5e_d62c_11ea_92f3_0242ac1c0002row4_col0 {\n",
              "            background-color:  #008066;\n",
              "            color:  #f1f1f1;\n",
              "        }    #T_42314e5e_d62c_11ea_92f3_0242ac1c0002row4_col1 {\n",
              "            background-color:  #008066;\n",
              "            color:  #f1f1f1;\n",
              "        }    #T_42314e5e_d62c_11ea_92f3_0242ac1c0002row4_col2 {\n",
              "            background-color:  #008066;\n",
              "            color:  #f1f1f1;\n",
              "        }</style><table id=\"T_42314e5e_d62c_11ea_92f3_0242ac1c0002\" ><thead>    <tr>        <th class=\"index_name level0\" >default_payment_next_month</th>        <th class=\"col_heading level0 col0\" >0</th>        <th class=\"col_heading level0 col1\" >1</th>        <th class=\"col_heading level0 col2\" >All</th>    </tr>    <tr>        <th class=\"index_name level0\" >MARRIAGE</th>        <th class=\"blank\" ></th>        <th class=\"blank\" ></th>        <th class=\"blank\" ></th>    </tr></thead><tbody>\n",
              "                <tr>\n",
              "                        <th id=\"T_42314e5e_d62c_11ea_92f3_0242ac1c0002level0_row0\" class=\"row_heading level0 row0\" >0</th>\n",
              "                        <td id=\"T_42314e5e_d62c_11ea_92f3_0242ac1c0002row0_col0\" class=\"data row0 col0\" >49</td>\n",
              "                        <td id=\"T_42314e5e_d62c_11ea_92f3_0242ac1c0002row0_col1\" class=\"data row0 col1\" >5</td>\n",
              "                        <td id=\"T_42314e5e_d62c_11ea_92f3_0242ac1c0002row0_col2\" class=\"data row0 col2\" >54</td>\n",
              "            </tr>\n",
              "            <tr>\n",
              "                        <th id=\"T_42314e5e_d62c_11ea_92f3_0242ac1c0002level0_row1\" class=\"row_heading level0 row1\" >1</th>\n",
              "                        <td id=\"T_42314e5e_d62c_11ea_92f3_0242ac1c0002row1_col0\" class=\"data row1 col0\" >10449</td>\n",
              "                        <td id=\"T_42314e5e_d62c_11ea_92f3_0242ac1c0002row1_col1\" class=\"data row1 col1\" >3206</td>\n",
              "                        <td id=\"T_42314e5e_d62c_11ea_92f3_0242ac1c0002row1_col2\" class=\"data row1 col2\" >13655</td>\n",
              "            </tr>\n",
              "            <tr>\n",
              "                        <th id=\"T_42314e5e_d62c_11ea_92f3_0242ac1c0002level0_row2\" class=\"row_heading level0 row2\" >2</th>\n",
              "                        <td id=\"T_42314e5e_d62c_11ea_92f3_0242ac1c0002row2_col0\" class=\"data row2 col0\" >12613</td>\n",
              "                        <td id=\"T_42314e5e_d62c_11ea_92f3_0242ac1c0002row2_col1\" class=\"data row2 col1\" >3341</td>\n",
              "                        <td id=\"T_42314e5e_d62c_11ea_92f3_0242ac1c0002row2_col2\" class=\"data row2 col2\" >15954</td>\n",
              "            </tr>\n",
              "            <tr>\n",
              "                        <th id=\"T_42314e5e_d62c_11ea_92f3_0242ac1c0002level0_row3\" class=\"row_heading level0 row3\" >3</th>\n",
              "                        <td id=\"T_42314e5e_d62c_11ea_92f3_0242ac1c0002row3_col0\" class=\"data row3 col0\" >239</td>\n",
              "                        <td id=\"T_42314e5e_d62c_11ea_92f3_0242ac1c0002row3_col1\" class=\"data row3 col1\" >84</td>\n",
              "                        <td id=\"T_42314e5e_d62c_11ea_92f3_0242ac1c0002row3_col2\" class=\"data row3 col2\" >323</td>\n",
              "            </tr>\n",
              "            <tr>\n",
              "                        <th id=\"T_42314e5e_d62c_11ea_92f3_0242ac1c0002level0_row4\" class=\"row_heading level0 row4\" >All</th>\n",
              "                        <td id=\"T_42314e5e_d62c_11ea_92f3_0242ac1c0002row4_col0\" class=\"data row4 col0\" >23350</td>\n",
              "                        <td id=\"T_42314e5e_d62c_11ea_92f3_0242ac1c0002row4_col1\" class=\"data row4 col1\" >6636</td>\n",
              "                        <td id=\"T_42314e5e_d62c_11ea_92f3_0242ac1c0002row4_col2\" class=\"data row4 col2\" >29986</td>\n",
              "            </tr>\n",
              "    </tbody></table>"
            ],
            "text/plain": [
              "<pandas.io.formats.style.Styler at 0x7f4c8832f470>"
            ]
          },
          "metadata": {
            "tags": []
          },
          "execution_count": 34
        }
      ]
    },
    {
      "cell_type": "code",
      "metadata": {
        "id": "qlEBvlejc8eh",
        "colab_type": "code",
        "colab": {
          "base_uri": "https://localhost:8080/",
          "height": 407
        },
        "outputId": "e9b374b5-5f8c-4cdb-c56d-ae6095825a54"
      },
      "source": [
        "\n",
        "\n",
        "f,ax=plt.subplots(1,2,figsize=(18,8))\n",
        "data['MARRIAGE'].value_counts().plot.bar(color=['#CD7F32','#FFDF00','#D3D3D3'],ax=ax[0])\n",
        "ax[0].set_title('Number Of Clients By MARRIAGE class')\n",
        "ax[0].set_ylabel('Count')\n",
        "sns.countplot('MARRIAGE',hue='default_payment_next_month',data=data,ax=ax[1])\n",
        "ax[1].set_title('MARRIAGE:default vs non-default')\n",
        "plt.show()\n",
        "\n"
      ],
      "execution_count": null,
      "outputs": [
        {
          "output_type": "display_data",
          "data": {
            "image/png": "[encoded data removed]",
            "text/plain": [
              "<Figure size 1296x576 with 2 Axes>"
            ]
          },
          "metadata": {
            "tags": [],
            "needs_background": "light"
          }
        }
      ]
    },
    {
      "cell_type": "code",
      "metadata": {
        "id": "LdzFmDo9c8eo",
        "colab_type": "code",
        "colab": {
          "base_uri": "https://localhost:8080/",
          "height": 310
        },
        "outputId": "31812a2a-3bf5-49ea-ef6b-d1711af4fab7"
      },
      "source": [
        "sns.barplot(x=\"MARRIAGE\",y=\"default_payment_next_month\",data=data,ci=None)\n",
        "plt.xticks(rotation=90)\n",
        "plt.title('average default% as per marriage class')"
      ],
      "execution_count": null,
      "outputs": [
        {
          "output_type": "execute_result",
          "data": {
            "text/plain": [
              "Text(0.5, 1.0, 'average default% as per marriage class')"
            ]
          },
          "metadata": {
            "tags": []
          },
          "execution_count": 36
        },
        {
          "output_type": "display_data",
          "data": {
            "image/png": "[encoded data removed]",
            "text/plain": [
              "<Figure size 432x288 with 1 Axes>"
            ]
          },
          "metadata": {
            "tags": [],
            "needs_background": "light"
          }
        }
      ]
    },
    {
      "cell_type": "markdown",
      "metadata": {
        "id": "R0OUIVhfc8eu",
        "colab_type": "text"
      },
      "source": [
        "Marriage Category 3 (\"other\") has the highest default percentage then comes category 1(\"married\") and 2(\"unmarried\"). Though category 3 is very immaterial part of the data but it might be useful in our evaluations since it has the highest percentage of default."
      ]
    },
    {
      "cell_type": "markdown",
      "metadata": {
        "id": "gPi_y7tDc8ev",
        "colab_type": "text"
      },
      "source": [
        "MARRIAGE and SEX"
      ]
    },
    {
      "cell_type": "code",
      "metadata": {
        "id": "NDkxm3HDc8ew",
        "colab_type": "code",
        "colab": {
          "base_uri": "https://localhost:8080/",
          "height": 169
        },
        "outputId": "7c9ac252-ee82-46dd-9b30-216d1ad705dc"
      },
      "source": [
        "pd.crosstab([data.SEX,data.default_payment_next_month],data.MARRIAGE,margins=True).style.background_gradient(cmap='summer_r')"
      ],
      "execution_count": null,
      "outputs": [
        {
          "output_type": "execute_result",
          "data": {
            "text/html": [
              "<style  type=\"text/css\" >\n",
              "    #T_4c865444_d62c_11ea_92f3_0242ac1c0002row0_col0 {\n",
              "            background-color:  #cee666;\n",
              "            color:  #000000;\n",
              "        }    #T_4c865444_d62c_11ea_92f3_0242ac1c0002row0_col1 {\n",
              "            background-color:  #cce666;\n",
              "            color:  #000000;\n",
              "        }    #T_4c865444_d62c_11ea_92f3_0242ac1c0002row0_col2 {\n",
              "            background-color:  #c0e066;\n",
              "            color:  #000000;\n",
              "        }    #T_4c865444_d62c_11ea_92f3_0242ac1c0002row0_col3 {\n",
              "            background-color:  #d1e866;\n",
              "            color:  #000000;\n",
              "        }    #T_4c865444_d62c_11ea_92f3_0242ac1c0002row0_col4 {\n",
              "            background-color:  #c6e266;\n",
              "            color:  #000000;\n",
              "        }    #T_4c865444_d62c_11ea_92f3_0242ac1c0002row1_col0 {\n",
              "            background-color:  #ffff66;\n",
              "            color:  #000000;\n",
              "        }    #T_4c865444_d62c_11ea_92f3_0242ac1c0002row1_col1 {\n",
              "            background-color:  #ffff66;\n",
              "            color:  #000000;\n",
              "        }    #T_4c865444_d62c_11ea_92f3_0242ac1c0002row1_col2 {\n",
              "            background-color:  #ffff66;\n",
              "            color:  #000000;\n",
              "        }    #T_4c865444_d62c_11ea_92f3_0242ac1c0002row1_col3 {\n",
              "            background-color:  #ffff66;\n",
              "            color:  #000000;\n",
              "        }    #T_4c865444_d62c_11ea_92f3_0242ac1c0002row1_col4 {\n",
              "            background-color:  #ffff66;\n",
              "            color:  #000000;\n",
              "        }    #T_4c865444_d62c_11ea_92f3_0242ac1c0002row2_col0 {\n",
              "            background-color:  #53a966;\n",
              "            color:  #000000;\n",
              "        }    #T_4c865444_d62c_11ea_92f3_0242ac1c0002row2_col1 {\n",
              "            background-color:  #92c866;\n",
              "            color:  #000000;\n",
              "        }    #T_4c865444_d62c_11ea_92f3_0242ac1c0002row2_col2 {\n",
              "            background-color:  #94ca66;\n",
              "            color:  #000000;\n",
              "        }    #T_4c865444_d62c_11ea_92f3_0242ac1c0002row2_col3 {\n",
              "            background-color:  #9ece66;\n",
              "            color:  #000000;\n",
              "        }    #T_4c865444_d62c_11ea_92f3_0242ac1c0002row2_col4 {\n",
              "            background-color:  #93c966;\n",
              "            color:  #000000;\n",
              "        }    #T_4c865444_d62c_11ea_92f3_0242ac1c0002row3_col0 {\n",
              "            background-color:  #fbfd66;\n",
              "            color:  #000000;\n",
              "        }    #T_4c865444_d62c_11ea_92f3_0242ac1c0002row3_col1 {\n",
              "            background-color:  #f5fa66;\n",
              "            color:  #000000;\n",
              "        }    #T_4c865444_d62c_11ea_92f3_0242ac1c0002row3_col2 {\n",
              "            background-color:  #f9fc66;\n",
              "            color:  #000000;\n",
              "        }    #T_4c865444_d62c_11ea_92f3_0242ac1c0002row3_col3 {\n",
              "            background-color:  #fcfe66;\n",
              "            color:  #000000;\n",
              "        }    #T_4c865444_d62c_11ea_92f3_0242ac1c0002row3_col4 {\n",
              "            background-color:  #f7fb66;\n",
              "            color:  #000000;\n",
              "        }    #T_4c865444_d62c_11ea_92f3_0242ac1c0002row4_col0 {\n",
              "            background-color:  #008066;\n",
              "            color:  #f1f1f1;\n",
              "        }    #T_4c865444_d62c_11ea_92f3_0242ac1c0002row4_col1 {\n",
              "            background-color:  #008066;\n",
              "            color:  #f1f1f1;\n",
              "        }    #T_4c865444_d62c_11ea_92f3_0242ac1c0002row4_col2 {\n",
              "            background-color:  #008066;\n",
              "            color:  #f1f1f1;\n",
              "        }    #T_4c865444_d62c_11ea_92f3_0242ac1c0002row4_col3 {\n",
              "            background-color:  #008066;\n",
              "            color:  #f1f1f1;\n",
              "        }    #T_4c865444_d62c_11ea_92f3_0242ac1c0002row4_col4 {\n",
              "            background-color:  #008066;\n",
              "            color:  #f1f1f1;\n",
              "        }</style><table id=\"T_4c865444_d62c_11ea_92f3_0242ac1c0002\" ><thead>    <tr>        <th class=\"blank\" ></th>        <th class=\"index_name level0\" >MARRIAGE</th>        <th class=\"col_heading level0 col0\" >0</th>        <th class=\"col_heading level0 col1\" >1</th>        <th class=\"col_heading level0 col2\" >2</th>        <th class=\"col_heading level0 col3\" >3</th>        <th class=\"col_heading level0 col4\" >All</th>    </tr>    <tr>        <th class=\"index_name level0\" >SEX</th>        <th class=\"index_name level1\" >default_payment_next_month</th>        <th class=\"blank\" ></th>        <th class=\"blank\" ></th>        <th class=\"blank\" ></th>        <th class=\"blank\" ></th>        <th class=\"blank\" ></th>    </tr></thead><tbody>\n",
              "                <tr>\n",
              "                        <th id=\"T_4c865444_d62c_11ea_92f3_0242ac1c0002level0_row0\" class=\"row_heading level0 row0\" rowspan=2>1</th>\n",
              "                        <th id=\"T_4c865444_d62c_11ea_92f3_0242ac1c0002level1_row0\" class=\"row_heading level1 row0\" >0</th>\n",
              "                        <td id=\"T_4c865444_d62c_11ea_92f3_0242ac1c0002row0_col0\" class=\"data row0 col0\" >12</td>\n",
              "                        <td id=\"T_4c865444_d62c_11ea_92f3_0242ac1c0002row0_col1\" class=\"data row0 col1\" >3842</td>\n",
              "                        <td id=\"T_4c865444_d62c_11ea_92f3_0242ac1c0002row0_col2\" class=\"data row0 col2\" >5062</td>\n",
              "                        <td id=\"T_4c865444_d62c_11ea_92f3_0242ac1c0002row0_col3\" class=\"data row0 col3\" >91</td>\n",
              "                        <td id=\"T_4c865444_d62c_11ea_92f3_0242ac1c0002row0_col4\" class=\"data row0 col4\" >9007</td>\n",
              "            </tr>\n",
              "            <tr>\n",
              "                                <th id=\"T_4c865444_d62c_11ea_92f3_0242ac1c0002level1_row1\" class=\"row_heading level1 row1\" >1</th>\n",
              "                        <td id=\"T_4c865444_d62c_11ea_92f3_0242ac1c0002row1_col0\" class=\"data row1 col0\" >2</td>\n",
              "                        <td id=\"T_4c865444_d62c_11ea_92f3_0242ac1c0002row1_col1\" class=\"data row1 col1\" >1346</td>\n",
              "                        <td id=\"T_4c865444_d62c_11ea_92f3_0242ac1c0002row1_col2\" class=\"data row1 col2\" >1485</td>\n",
              "                        <td id=\"T_4c865444_d62c_11ea_92f3_0242ac1c0002row1_col3\" class=\"data row1 col3\" >40</td>\n",
              "                        <td id=\"T_4c865444_d62c_11ea_92f3_0242ac1c0002row1_col4\" class=\"data row1 col4\" >2873</td>\n",
              "            </tr>\n",
              "            <tr>\n",
              "                        <th id=\"T_4c865444_d62c_11ea_92f3_0242ac1c0002level0_row2\" class=\"row_heading level0 row2\" rowspan=2>2</th>\n",
              "                        <th id=\"T_4c865444_d62c_11ea_92f3_0242ac1c0002level1_row2\" class=\"row_heading level1 row2\" >0</th>\n",
              "                        <td id=\"T_4c865444_d62c_11ea_92f3_0242ac1c0002row2_col0\" class=\"data row2 col0\" >37</td>\n",
              "                        <td id=\"T_4c865444_d62c_11ea_92f3_0242ac1c0002row2_col1\" class=\"data row2 col1\" >6607</td>\n",
              "                        <td id=\"T_4c865444_d62c_11ea_92f3_0242ac1c0002row2_col2\" class=\"data row2 col2\" >7551</td>\n",
              "                        <td id=\"T_4c865444_d62c_11ea_92f3_0242ac1c0002row2_col3\" class=\"data row2 col3\" >148</td>\n",
              "                        <td id=\"T_4c865444_d62c_11ea_92f3_0242ac1c0002row2_col4\" class=\"data row2 col4\" >14343</td>\n",
              "            </tr>\n",
              "            <tr>\n",
              "                                <th id=\"T_4c865444_d62c_11ea_92f3_0242ac1c0002level1_row3\" class=\"row_heading level1 row3\" >1</th>\n",
              "                        <td id=\"T_4c865444_d62c_11ea_92f3_0242ac1c0002row3_col0\" class=\"data row3 col0\" >3</td>\n",
              "                        <td id=\"T_4c865444_d62c_11ea_92f3_0242ac1c0002row3_col1\" class=\"data row3 col1\" >1860</td>\n",
              "                        <td id=\"T_4c865444_d62c_11ea_92f3_0242ac1c0002row3_col2\" class=\"data row3 col2\" >1856</td>\n",
              "                        <td id=\"T_4c865444_d62c_11ea_92f3_0242ac1c0002row3_col3\" class=\"data row3 col3\" >44</td>\n",
              "                        <td id=\"T_4c865444_d62c_11ea_92f3_0242ac1c0002row3_col4\" class=\"data row3 col4\" >3763</td>\n",
              "            </tr>\n",
              "            <tr>\n",
              "                        <th id=\"T_4c865444_d62c_11ea_92f3_0242ac1c0002level0_row4\" class=\"row_heading level0 row4\" >All</th>\n",
              "                        <th id=\"T_4c865444_d62c_11ea_92f3_0242ac1c0002level1_row4\" class=\"row_heading level1 row4\" ></th>\n",
              "                        <td id=\"T_4c865444_d62c_11ea_92f3_0242ac1c0002row4_col0\" class=\"data row4 col0\" >54</td>\n",
              "                        <td id=\"T_4c865444_d62c_11ea_92f3_0242ac1c0002row4_col1\" class=\"data row4 col1\" >13655</td>\n",
              "                        <td id=\"T_4c865444_d62c_11ea_92f3_0242ac1c0002row4_col2\" class=\"data row4 col2\" >15954</td>\n",
              "                        <td id=\"T_4c865444_d62c_11ea_92f3_0242ac1c0002row4_col3\" class=\"data row4 col3\" >323</td>\n",
              "                        <td id=\"T_4c865444_d62c_11ea_92f3_0242ac1c0002row4_col4\" class=\"data row4 col4\" >29986</td>\n",
              "            </tr>\n",
              "    </tbody></table>"
            ],
            "text/plain": [
              "<pandas.io.formats.style.Styler at 0x7f4c8ab3eb70>"
            ]
          },
          "metadata": {
            "tags": []
          },
          "execution_count": 37
        }
      ]
    },
    {
      "cell_type": "code",
      "metadata": {
        "id": "F_EKYRzNc8e5",
        "colab_type": "code",
        "colab": {
          "base_uri": "https://localhost:8080/",
          "height": 369
        },
        "outputId": "24580265-2a50-4f71-8c66-c190f8dc94b5"
      },
      "source": [
        "sns.factorplot('MARRIAGE','default_payment_next_month',hue='SEX',data=data)\n",
        "plt.show()"
      ],
      "execution_count": null,
      "outputs": [
        {
          "output_type": "display_data",
          "data": {
            "image/png": "[encoded data removed]",
            "text/plain": [
              "<Figure size 402.375x360 with 1 Axes>"
            ]
          },
          "metadata": {
            "tags": [],
            "needs_background": "light"
          }
        }
      ]
    },
    {
      "cell_type": "markdown",
      "metadata": {
        "id": "p_xeo8J4c8e9",
        "colab_type": "text"
      },
      "source": [
        "It is clear from above that male clients are more likely to default at any category for marriage. \n",
        "Category 0 is not mentioned in the data description and is very immaterial (only 55 observations - .2% of the data) and has a very low default percentage(5/54 = 9.26%). So, we will remove these rows."
      ]
    },
    {
      "cell_type": "code",
      "metadata": {
        "id": "IzgTCo8Oc8e_",
        "colab_type": "code",
        "colab": {}
      },
      "source": [
        "indices2 = data[data['MARRIAGE'] == 0].index\n",
        "indices2\n",
        "data.drop(indices2,axis=0,inplace=True)"
      ],
      "execution_count": null,
      "outputs": []
    },
    {
      "cell_type": "code",
      "metadata": {
        "id": "mnuGh0BTc8fE",
        "colab_type": "code",
        "colab": {
          "base_uri": "https://localhost:8080/",
          "height": 35
        },
        "outputId": "03132ff2-16f0-487a-a845-027a9f14fdcb"
      },
      "source": [
        "data[data['MARRIAGE']==0].values.any()"
      ],
      "execution_count": null,
      "outputs": [
        {
          "output_type": "execute_result",
          "data": {
            "text/plain": [
              "False"
            ]
          },
          "metadata": {
            "tags": []
          },
          "execution_count": 40
        }
      ]
    },
    {
      "cell_type": "code",
      "metadata": {
        "id": "Z4_AqwzSc8fJ",
        "colab_type": "code",
        "colab": {
          "base_uri": "https://localhost:8080/",
          "height": 90
        },
        "outputId": "77c37df1-54ce-4838-9096-eac2da69fd8d"
      },
      "source": [
        "data['MARRIAGE'].value_counts()"
      ],
      "execution_count": null,
      "outputs": [
        {
          "output_type": "execute_result",
          "data": {
            "text/plain": [
              "2    15954\n",
              "1    13655\n",
              "3      323\n",
              "Name: MARRIAGE, dtype: int64"
            ]
          },
          "metadata": {
            "tags": []
          },
          "execution_count": 41
        }
      ]
    },
    {
      "cell_type": "code",
      "metadata": {
        "id": "kPVdQUOtc8fQ",
        "colab_type": "code",
        "colab": {
          "base_uri": "https://localhost:8080/",
          "height": 35
        },
        "outputId": "c26850e6-14d3-4d07-d557-a2f0c0b43f57"
      },
      "source": [
        "data.shape "
      ],
      "execution_count": null,
      "outputs": [
        {
          "output_type": "execute_result",
          "data": {
            "text/plain": [
              "(29932, 24)"
            ]
          },
          "metadata": {
            "tags": []
          },
          "execution_count": 42
        }
      ]
    },
    {
      "cell_type": "markdown",
      "metadata": {
        "id": "46RLgt1Nc8fX",
        "colab_type": "text"
      },
      "source": [
        "Rows with category 0 of variable Marriage have been removed"
      ]
    },
    {
      "cell_type": "markdown",
      "metadata": {
        "id": "94Lt--hwc8fY",
        "colab_type": "text"
      },
      "source": [
        "PAY_ -> ORDINAL"
      ]
    },
    {
      "cell_type": "markdown",
      "metadata": {
        "id": "LFj8VnJTc8fZ",
        "colab_type": "text"
      },
      "source": [
        "CORRELATION MATRIX for PAY_(s)"
      ]
    },
    {
      "cell_type": "code",
      "metadata": {
        "id": "RCq2D47Nc8fZ",
        "colab_type": "code",
        "colab": {
          "base_uri": "https://localhost:8080/",
          "height": 513
        },
        "outputId": "7e664e87-3671-41ba-b985-ff031cc2314c"
      },
      "source": [
        "var = ['PAY_0','PAY_2', 'PAY_3', 'PAY_4', 'PAY_5', 'PAY_6']\n",
        "\n",
        "plt.figure(figsize = (8,8))\n",
        "plt.title('Repayment status (Apr-Sept) \\ncorrelation plot (Pearson)')\n",
        "corr = data[var].corr()\n",
        "sns.heatmap(corr,annot=True,cmap='RdYlGn',linewidths=0.2)\n",
        "\n",
        "plt.show()\n"
      ],
      "execution_count": null,
      "outputs": [
        {
          "output_type": "display_data",
          "data": {
            "image/png": "[encoded data removed]",
            "text/plain": [
              "<Figure size 576x576 with 2 Axes>"
            ]
          },
          "metadata": {
            "tags": [],
            "needs_background": "light"
          }
        }
      ]
    },
    {
      "cell_type": "markdown",
      "metadata": {
        "id": "i0fzIthDc8fe",
        "colab_type": "text"
      },
      "source": [
        "We see that as the current payment indicator which is PAY_0 has correlations decreasing when the time distance in terms of months keep increasing. But PAY_0 would be more relevant to default/non-default, so we only analyse this header."
      ]
    },
    {
      "cell_type": "markdown",
      "metadata": {
        "id": "lfm91YuSc8ff",
        "colab_type": "text"
      },
      "source": [
        "PAY_0 -> Ordinal"
      ]
    },
    {
      "cell_type": "code",
      "metadata": {
        "id": "GqgzQ60Tc8fg",
        "colab_type": "code",
        "colab": {
          "base_uri": "https://localhost:8080/",
          "height": 318
        },
        "outputId": "54c4a684-845c-4cca-ec16-34a2dd069d7e"
      },
      "source": [
        "pd.crosstab(data.PAY_0,data.default_payment_next_month,margins=True).style.background_gradient(cmap='summer_r')"
      ],
      "execution_count": null,
      "outputs": [
        {
          "output_type": "execute_result",
          "data": {
            "text/html": [
              "<style  type=\"text/css\" >\n",
              "    #T_61be5c62_d62c_11ea_92f3_0242ac1c0002row0_col0 {\n",
              "            background-color:  #e5f266;\n",
              "            color:  #000000;\n",
              "        }    #T_61be5c62_d62c_11ea_92f3_0242ac1c0002row0_col1 {\n",
              "            background-color:  #f2f866;\n",
              "            color:  #000000;\n",
              "        }    #T_61be5c62_d62c_11ea_92f3_0242ac1c0002row0_col2 {\n",
              "            background-color:  #e8f466;\n",
              "            color:  #000000;\n",
              "        }    #T_61be5c62_d62c_11ea_92f3_0242ac1c0002row1_col0 {\n",
              "            background-color:  #cce666;\n",
              "            color:  #000000;\n",
              "        }    #T_61be5c62_d62c_11ea_92f3_0242ac1c0002row1_col1 {\n",
              "            background-color:  #dbed66;\n",
              "            color:  #000000;\n",
              "        }    #T_61be5c62_d62c_11ea_92f3_0242ac1c0002row1_col2 {\n",
              "            background-color:  #cfe766;\n",
              "            color:  #000000;\n",
              "        }    #T_61be5c62_d62c_11ea_92f3_0242ac1c0002row2_col0 {\n",
              "            background-color:  #73b966;\n",
              "            color:  #000000;\n",
              "        }    #T_61be5c62_d62c_11ea_92f3_0242ac1c0002row2_col1 {\n",
              "            background-color:  #b7db66;\n",
              "            color:  #000000;\n",
              "        }    #T_61be5c62_d62c_11ea_92f3_0242ac1c0002row2_col2 {\n",
              "            background-color:  #82c066;\n",
              "            color:  #000000;\n",
              "        }    #T_61be5c62_d62c_11ea_92f3_0242ac1c0002row3_col0 {\n",
              "            background-color:  #e5f266;\n",
              "            color:  #000000;\n",
              "        }    #T_61be5c62_d62c_11ea_92f3_0242ac1c0002row3_col1 {\n",
              "            background-color:  #cfe766;\n",
              "            color:  #000000;\n",
              "        }    #T_61be5c62_d62c_11ea_92f3_0242ac1c0002row3_col2 {\n",
              "            background-color:  #e0f066;\n",
              "            color:  #000000;\n",
              "        }    #T_61be5c62_d62c_11ea_92f3_0242ac1c0002row4_col0 {\n",
              "            background-color:  #f7fb66;\n",
              "            color:  #000000;\n",
              "        }    #T_61be5c62_d62c_11ea_92f3_0242ac1c0002row4_col1 {\n",
              "            background-color:  #b9dc66;\n",
              "            color:  #000000;\n",
              "        }    #T_61be5c62_d62c_11ea_92f3_0242ac1c0002row4_col2 {\n",
              "            background-color:  #e9f466;\n",
              "            color:  #000000;\n",
              "        }    #T_61be5c62_d62c_11ea_92f3_0242ac1c0002row5_col0 {\n",
              "            background-color:  #ffff66;\n",
              "            color:  #000000;\n",
              "        }    #T_61be5c62_d62c_11ea_92f3_0242ac1c0002row5_col1 {\n",
              "            background-color:  #f6fa66;\n",
              "            color:  #000000;\n",
              "        }    #T_61be5c62_d62c_11ea_92f3_0242ac1c0002row5_col2 {\n",
              "            background-color:  #fdfe66;\n",
              "            color:  #000000;\n",
              "        }    #T_61be5c62_d62c_11ea_92f3_0242ac1c0002row6_col0 {\n",
              "            background-color:  #ffff66;\n",
              "            color:  #000000;\n",
              "        }    #T_61be5c62_d62c_11ea_92f3_0242ac1c0002row6_col1 {\n",
              "            background-color:  #fefe66;\n",
              "            color:  #000000;\n",
              "        }    #T_61be5c62_d62c_11ea_92f3_0242ac1c0002row6_col2 {\n",
              "            background-color:  #ffff66;\n",
              "            color:  #000000;\n",
              "        }    #T_61be5c62_d62c_11ea_92f3_0242ac1c0002row7_col0 {\n",
              "            background-color:  #ffff66;\n",
              "            color:  #000000;\n",
              "        }    #T_61be5c62_d62c_11ea_92f3_0242ac1c0002row7_col1 {\n",
              "            background-color:  #ffff66;\n",
              "            color:  #000000;\n",
              "        }    #T_61be5c62_d62c_11ea_92f3_0242ac1c0002row7_col2 {\n",
              "            background-color:  #ffff66;\n",
              "            color:  #000000;\n",
              "        }    #T_61be5c62_d62c_11ea_92f3_0242ac1c0002row8_col0 {\n",
              "            background-color:  #ffff66;\n",
              "            color:  #000000;\n",
              "        }    #T_61be5c62_d62c_11ea_92f3_0242ac1c0002row8_col1 {\n",
              "            background-color:  #ffff66;\n",
              "            color:  #000000;\n",
              "        }    #T_61be5c62_d62c_11ea_92f3_0242ac1c0002row8_col2 {\n",
              "            background-color:  #ffff66;\n",
              "            color:  #000000;\n",
              "        }    #T_61be5c62_d62c_11ea_92f3_0242ac1c0002row9_col0 {\n",
              "            background-color:  #ffff66;\n",
              "            color:  #000000;\n",
              "        }    #T_61be5c62_d62c_11ea_92f3_0242ac1c0002row9_col1 {\n",
              "            background-color:  #ffff66;\n",
              "            color:  #000000;\n",
              "        }    #T_61be5c62_d62c_11ea_92f3_0242ac1c0002row9_col2 {\n",
              "            background-color:  #ffff66;\n",
              "            color:  #000000;\n",
              "        }    #T_61be5c62_d62c_11ea_92f3_0242ac1c0002row10_col0 {\n",
              "            background-color:  #ffff66;\n",
              "            color:  #000000;\n",
              "        }    #T_61be5c62_d62c_11ea_92f3_0242ac1c0002row10_col1 {\n",
              "            background-color:  #ffff66;\n",
              "            color:  #000000;\n",
              "        }    #T_61be5c62_d62c_11ea_92f3_0242ac1c0002row10_col2 {\n",
              "            background-color:  #ffff66;\n",
              "            color:  #000000;\n",
              "        }    #T_61be5c62_d62c_11ea_92f3_0242ac1c0002row11_col0 {\n",
              "            background-color:  #008066;\n",
              "            color:  #f1f1f1;\n",
              "        }    #T_61be5c62_d62c_11ea_92f3_0242ac1c0002row11_col1 {\n",
              "            background-color:  #008066;\n",
              "            color:  #f1f1f1;\n",
              "        }    #T_61be5c62_d62c_11ea_92f3_0242ac1c0002row11_col2 {\n",
              "            background-color:  #008066;\n",
              "            color:  #f1f1f1;\n",
              "        }</style><table id=\"T_61be5c62_d62c_11ea_92f3_0242ac1c0002\" ><thead>    <tr>        <th class=\"index_name level0\" >default_payment_next_month</th>        <th class=\"col_heading level0 col0\" >0</th>        <th class=\"col_heading level0 col1\" >1</th>        <th class=\"col_heading level0 col2\" >All</th>    </tr>    <tr>        <th class=\"index_name level0\" >PAY_0</th>        <th class=\"blank\" ></th>        <th class=\"blank\" ></th>        <th class=\"blank\" ></th>    </tr></thead><tbody>\n",
              "                <tr>\n",
              "                        <th id=\"T_61be5c62_d62c_11ea_92f3_0242ac1c0002level0_row0\" class=\"row_heading level0 row0\" >-2</th>\n",
              "                        <td id=\"T_61be5c62_d62c_11ea_92f3_0242ac1c0002row0_col0\" class=\"data row0 col0\" >2385</td>\n",
              "                        <td id=\"T_61be5c62_d62c_11ea_92f3_0242ac1c0002row0_col1\" class=\"data row0 col1\" >364</td>\n",
              "                        <td id=\"T_61be5c62_d62c_11ea_92f3_0242ac1c0002row0_col2\" class=\"data row0 col2\" >2749</td>\n",
              "            </tr>\n",
              "            <tr>\n",
              "                        <th id=\"T_61be5c62_d62c_11ea_92f3_0242ac1c0002level0_row1\" class=\"row_heading level0 row1\" >-1</th>\n",
              "                        <td id=\"T_61be5c62_d62c_11ea_92f3_0242ac1c0002row1_col0\" class=\"data row1 col0\" >4713</td>\n",
              "                        <td id=\"T_61be5c62_d62c_11ea_92f3_0242ac1c0002row1_col1\" class=\"data row1 col1\" >954</td>\n",
              "                        <td id=\"T_61be5c62_d62c_11ea_92f3_0242ac1c0002row1_col2\" class=\"data row1 col2\" >5667</td>\n",
              "            </tr>\n",
              "            <tr>\n",
              "                        <th id=\"T_61be5c62_d62c_11ea_92f3_0242ac1c0002level0_row2\" class=\"row_heading level0 row2\" >0</th>\n",
              "                        <td id=\"T_61be5c62_d62c_11ea_92f3_0242ac1c0002row2_col0\" class=\"data row2 col0\" >12827</td>\n",
              "                        <td id=\"T_61be5c62_d62c_11ea_92f3_0242ac1c0002row2_col1\" class=\"data row2 col1\" >1886</td>\n",
              "                        <td id=\"T_61be5c62_d62c_11ea_92f3_0242ac1c0002row2_col2\" class=\"data row2 col2\" >14713</td>\n",
              "            </tr>\n",
              "            <tr>\n",
              "                        <th id=\"T_61be5c62_d62c_11ea_92f3_0242ac1c0002level0_row3\" class=\"row_heading level0 row3\" >1</th>\n",
              "                        <td id=\"T_61be5c62_d62c_11ea_92f3_0242ac1c0002row3_col0\" class=\"data row3 col0\" >2427</td>\n",
              "                        <td id=\"T_61be5c62_d62c_11ea_92f3_0242ac1c0002row3_col1\" class=\"data row3 col1\" >1251</td>\n",
              "                        <td id=\"T_61be5c62_d62c_11ea_92f3_0242ac1c0002row3_col2\" class=\"data row3 col2\" >3678</td>\n",
              "            </tr>\n",
              "            <tr>\n",
              "                        <th id=\"T_61be5c62_d62c_11ea_92f3_0242ac1c0002level0_row4\" class=\"row_heading level0 row4\" >2</th>\n",
              "                        <td id=\"T_61be5c62_d62c_11ea_92f3_0242ac1c0002row4_col0\" class=\"data row4 col0\" >820</td>\n",
              "                        <td id=\"T_61be5c62_d62c_11ea_92f3_0242ac1c0002row4_col1\" class=\"data row4 col1\" >1843</td>\n",
              "                        <td id=\"T_61be5c62_d62c_11ea_92f3_0242ac1c0002row4_col2\" class=\"data row4 col2\" >2663</td>\n",
              "            </tr>\n",
              "            <tr>\n",
              "                        <th id=\"T_61be5c62_d62c_11ea_92f3_0242ac1c0002level0_row5\" class=\"row_heading level0 row5\" >3</th>\n",
              "                        <td id=\"T_61be5c62_d62c_11ea_92f3_0242ac1c0002row5_col0\" class=\"data row5 col0\" >78</td>\n",
              "                        <td id=\"T_61be5c62_d62c_11ea_92f3_0242ac1c0002row5_col1\" class=\"data row5 col1\" >244</td>\n",
              "                        <td id=\"T_61be5c62_d62c_11ea_92f3_0242ac1c0002row5_col2\" class=\"data row5 col2\" >322</td>\n",
              "            </tr>\n",
              "            <tr>\n",
              "                        <th id=\"T_61be5c62_d62c_11ea_92f3_0242ac1c0002level0_row6\" class=\"row_heading level0 row6\" >4</th>\n",
              "                        <td id=\"T_61be5c62_d62c_11ea_92f3_0242ac1c0002row6_col0\" class=\"data row6 col0\" >24</td>\n",
              "                        <td id=\"T_61be5c62_d62c_11ea_92f3_0242ac1c0002row6_col1\" class=\"data row6 col1\" >52</td>\n",
              "                        <td id=\"T_61be5c62_d62c_11ea_92f3_0242ac1c0002row6_col2\" class=\"data row6 col2\" >76</td>\n",
              "            </tr>\n",
              "            <tr>\n",
              "                        <th id=\"T_61be5c62_d62c_11ea_92f3_0242ac1c0002level0_row7\" class=\"row_heading level0 row7\" >5</th>\n",
              "                        <td id=\"T_61be5c62_d62c_11ea_92f3_0242ac1c0002row7_col0\" class=\"data row7 col0\" >12</td>\n",
              "                        <td id=\"T_61be5c62_d62c_11ea_92f3_0242ac1c0002row7_col1\" class=\"data row7 col1\" >13</td>\n",
              "                        <td id=\"T_61be5c62_d62c_11ea_92f3_0242ac1c0002row7_col2\" class=\"data row7 col2\" >25</td>\n",
              "            </tr>\n",
              "            <tr>\n",
              "                        <th id=\"T_61be5c62_d62c_11ea_92f3_0242ac1c0002level0_row8\" class=\"row_heading level0 row8\" >6</th>\n",
              "                        <td id=\"T_61be5c62_d62c_11ea_92f3_0242ac1c0002row8_col0\" class=\"data row8 col0\" >5</td>\n",
              "                        <td id=\"T_61be5c62_d62c_11ea_92f3_0242ac1c0002row8_col1\" class=\"data row8 col1\" >6</td>\n",
              "                        <td id=\"T_61be5c62_d62c_11ea_92f3_0242ac1c0002row8_col2\" class=\"data row8 col2\" >11</td>\n",
              "            </tr>\n",
              "            <tr>\n",
              "                        <th id=\"T_61be5c62_d62c_11ea_92f3_0242ac1c0002level0_row9\" class=\"row_heading level0 row9\" >7</th>\n",
              "                        <td id=\"T_61be5c62_d62c_11ea_92f3_0242ac1c0002row9_col0\" class=\"data row9 col0\" >2</td>\n",
              "                        <td id=\"T_61be5c62_d62c_11ea_92f3_0242ac1c0002row9_col1\" class=\"data row9 col1\" >7</td>\n",
              "                        <td id=\"T_61be5c62_d62c_11ea_92f3_0242ac1c0002row9_col2\" class=\"data row9 col2\" >9</td>\n",
              "            </tr>\n",
              "            <tr>\n",
              "                        <th id=\"T_61be5c62_d62c_11ea_92f3_0242ac1c0002level0_row10\" class=\"row_heading level0 row10\" >8</th>\n",
              "                        <td id=\"T_61be5c62_d62c_11ea_92f3_0242ac1c0002row10_col0\" class=\"data row10 col0\" >8</td>\n",
              "                        <td id=\"T_61be5c62_d62c_11ea_92f3_0242ac1c0002row10_col1\" class=\"data row10 col1\" >11</td>\n",
              "                        <td id=\"T_61be5c62_d62c_11ea_92f3_0242ac1c0002row10_col2\" class=\"data row10 col2\" >19</td>\n",
              "            </tr>\n",
              "            <tr>\n",
              "                        <th id=\"T_61be5c62_d62c_11ea_92f3_0242ac1c0002level0_row11\" class=\"row_heading level0 row11\" >All</th>\n",
              "                        <td id=\"T_61be5c62_d62c_11ea_92f3_0242ac1c0002row11_col0\" class=\"data row11 col0\" >23301</td>\n",
              "                        <td id=\"T_61be5c62_d62c_11ea_92f3_0242ac1c0002row11_col1\" class=\"data row11 col1\" >6631</td>\n",
              "                        <td id=\"T_61be5c62_d62c_11ea_92f3_0242ac1c0002row11_col2\" class=\"data row11 col2\" >29932</td>\n",
              "            </tr>\n",
              "    </tbody></table>"
            ],
            "text/plain": [
              "<pandas.io.formats.style.Styler at 0x7f4c8abd5160>"
            ]
          },
          "metadata": {
            "tags": []
          },
          "execution_count": 44
        }
      ]
    },
    {
      "cell_type": "code",
      "metadata": {
        "id": "Zx8C-PDmc8fl",
        "colab_type": "code",
        "colab": {
          "base_uri": "https://localhost:8080/",
          "height": 407
        },
        "outputId": "7e171d00-94e2-4084-f482-35b885675814"
      },
      "source": [
        "f,ax=plt.subplots(1,2,figsize=(18,8))\n",
        "data['PAY_0'].value_counts().plot.bar(color=['#CD7F32','#FFDF00','#D3D3D3'],ax=ax[0])\n",
        "ax[0].set_title('Number Of Clients By PAY_0 class')\n",
        "ax[0].set_ylabel('Count')\n",
        "sns.countplot('PAY_0',hue='default_payment_next_month',data=data,ax=ax[1])\n",
        "ax[1].set_title('PAY_0:default vs non-default')\n",
        "plt.show()\n"
      ],
      "execution_count": null,
      "outputs": [
        {
          "output_type": "display_data",
          "data": {
            "image/png": "[encoded data removed]",
            "text/plain": [
              "<Figure size 1296x576 with 2 Axes>"
            ]
          },
          "metadata": {
            "tags": [],
            "needs_background": "light"
          }
        }
      ]
    },
    {
      "cell_type": "code",
      "metadata": {
        "id": "6Y29XNd3c8fp",
        "colab_type": "code",
        "colab": {
          "base_uri": "https://localhost:8080/",
          "height": 314
        },
        "outputId": "539c1405-18c4-48e9-d11d-833e4bbdadf9"
      },
      "source": [
        "sns.barplot(x=\"PAY_0\",y=\"default_payment_next_month\",data=data,ci=None)\n",
        "plt.xticks(rotation=90)\n",
        "plt.title('average default% as per PAY_0 class')\n"
      ],
      "execution_count": null,
      "outputs": [
        {
          "output_type": "execute_result",
          "data": {
            "text/plain": [
              "Text(0.5, 1.0, 'average default% as per PAY_0 class')"
            ]
          },
          "metadata": {
            "tags": []
          },
          "execution_count": 46
        },
        {
          "output_type": "display_data",
          "data": {
            "image/png": "[encoded data removed]",
            "text/plain": [
              "<Figure size 432x288 with 1 Axes>"
            ]
          },
          "metadata": {
            "tags": [],
            "needs_background": "light"
          }
        }
      ]
    },
    {
      "cell_type": "markdown",
      "metadata": {
        "id": "YWkF1sYCc8fv",
        "colab_type": "text"
      },
      "source": [
        "From the above crosstab we see that there categories 0 and -2 which are no classes as per definition. 0 being at a number 14.7k and 2.7k. 0 is material in the data(almost 50% of the data) so we can't remove these rows. It could be a possible category of payment - \"payment which has not been paid for less than a month\" and could be missed in the data description. Category -2 has default percentage similar to zero. So, we merge -2 category into 0 category.\n",
        "We see that maximum default % is at category 7, then 3, 2 , 4, 8, 6 and 5 in the sequence. But we expect that default % increases in order of these categories. It could be that some information regarding these indicators is missing and hence is the reason. ."
      ]
    },
    {
      "cell_type": "code",
      "metadata": {
        "id": "i7idUU_Zc8fw",
        "colab_type": "code",
        "colab": {}
      },
      "source": [
        "data['PAY_0'].replace(-2,0, inplace=True)"
      ],
      "execution_count": null,
      "outputs": []
    },
    {
      "cell_type": "code",
      "metadata": {
        "id": "73g3uaK8c8f0",
        "colab_type": "code",
        "colab": {
          "base_uri": "https://localhost:8080/",
          "height": 219
        },
        "outputId": "9799ab5c-4459-460d-8186-123c3537936a"
      },
      "source": [
        "data['PAY_0'].value_counts()"
      ],
      "execution_count": null,
      "outputs": [
        {
          "output_type": "execute_result",
          "data": {
            "text/plain": [
              " 0    17462\n",
              "-1     5667\n",
              " 1     3678\n",
              " 2     2663\n",
              " 3      322\n",
              " 4       76\n",
              " 5       25\n",
              " 8       19\n",
              " 6       11\n",
              " 7        9\n",
              "Name: PAY_0, dtype: int64"
            ]
          },
          "metadata": {
            "tags": []
          },
          "execution_count": 48
        }
      ]
    },
    {
      "cell_type": "markdown",
      "metadata": {
        "id": "TJV-1UvDc8f5",
        "colab_type": "text"
      },
      "source": [
        "We have succesfully replaced category -2 of PAY_0 with 0 category."
      ]
    },
    {
      "cell_type": "markdown",
      "metadata": {
        "id": "X78Qog3Lc8f5",
        "colab_type": "text"
      },
      "source": [
        "AGE-> Continuous"
      ]
    },
    {
      "cell_type": "code",
      "metadata": {
        "id": "ZBtbGaWjc8f7",
        "colab_type": "code",
        "colab": {
          "base_uri": "https://localhost:8080/",
          "height": 72
        },
        "outputId": "2dbfa02b-a2b7-46c5-8d64-fbad5c5b0105"
      },
      "source": [
        "print('Oldest Passenger was of:',data['AGE'].max(),'Years')\n",
        "print('Youngest Passenger was of:',data['AGE'].min(),'Years')\n",
        "print('Average Age on the ship:',data['AGE'].mean(),'Years')"
      ],
      "execution_count": null,
      "outputs": [
        {
          "output_type": "stream",
          "text": [
            "Oldest Passenger was of: 79 Years\n",
            "Youngest Passenger was of: 21 Years\n",
            "Average Age on the ship: 35.47972070025391 Years\n"
          ],
          "name": "stdout"
        }
      ]
    },
    {
      "cell_type": "markdown",
      "metadata": {
        "id": "KUyWyPCec8gA",
        "colab_type": "text"
      },
      "source": [
        "'SEX', 'EDUCATION', 'MARRIAGE', 'PAY_0' are all categorical variables. And we will be combining these variables along with Age to dig in more"
      ]
    },
    {
      "cell_type": "code",
      "metadata": {
        "id": "na_CaHojc8gB",
        "colab_type": "code",
        "colab": {
          "base_uri": "https://localhost:8080/",
          "height": 297
        },
        "outputId": "93682f4d-9672-48df-9893-0dafa11ef4da"
      },
      "source": [
        "sns.boxplot(y=\"AGE\",x = \"default_payment_next_month\",whis=3, data = data)"
      ],
      "execution_count": null,
      "outputs": [
        {
          "output_type": "execute_result",
          "data": {
            "text/plain": [
              "<matplotlib.axes._subplots.AxesSubplot at 0x7f4c8b5f49b0>"
            ]
          },
          "metadata": {
            "tags": []
          },
          "execution_count": 50
        },
        {
          "output_type": "display_data",
          "data": {
            "image/png": "[encoded data removed]",
            "text/plain": [
              "<Figure size 432x288 with 1 Axes>"
            ]
          },
          "metadata": {
            "tags": [],
            "needs_background": "light"
          }
        }
      ]
    },
    {
      "cell_type": "markdown",
      "metadata": {
        "id": "n5sl_4NAc8gH",
        "colab_type": "text"
      },
      "source": [
        "Most of the default cases lie between the age 30."
      ]
    },
    {
      "cell_type": "markdown",
      "metadata": {
        "id": "iFSntNUoc8gI",
        "colab_type": "text"
      },
      "source": [
        "LIMIT_BAL -> CONTINIOUS"
      ]
    },
    {
      "cell_type": "code",
      "metadata": {
        "id": "2x2n1cSXc8gJ",
        "colab_type": "code",
        "colab": {
          "base_uri": "https://localhost:8080/",
          "height": 72
        },
        "outputId": "2454657a-fe75-49dd-ce0b-28286ca453f4"
      },
      "source": [
        "print('Maximum Limit Balance was:',data['LIMIT_BAL'].max())\n",
        "print('Minimum Limit Balance was:',data['LIMIT_BAL'].min())\n",
        "print('Average Limit Balance was:',data['LIMIT_BAL'].mean())\n"
      ],
      "execution_count": null,
      "outputs": [
        {
          "output_type": "stream",
          "text": [
            "Maximum Limit Balance was: 1000000.0\n",
            "Minimum Limit Balance was: 10000.0\n",
            "Average Limit Balance was: 167523.37565147667\n"
          ],
          "name": "stdout"
        }
      ]
    },
    {
      "cell_type": "code",
      "metadata": {
        "id": "PNc5EW0Uc8gO",
        "colab_type": "code",
        "colab": {
          "base_uri": "https://localhost:8080/",
          "height": 308
        },
        "outputId": "117a48c4-da29-4c7e-c506-c4f9ad4cd1f1"
      },
      "source": [
        "sns.boxplot(y=\"LIMIT_BAL\", x= \"default_payment_next_month\", hue = \"SEX\",whis=3, data = data)\n"
      ],
      "execution_count": null,
      "outputs": [
        {
          "output_type": "execute_result",
          "data": {
            "text/plain": [
              "<matplotlib.axes._subplots.AxesSubplot at 0x7f4c8b6b3fd0>"
            ]
          },
          "metadata": {
            "tags": []
          },
          "execution_count": 52
        },
        {
          "output_type": "display_data",
          "data": {
            "image/png": "[encoded data removed]",
            "text/plain": [
              "<Figure size 432x288 with 1 Axes>"
            ]
          },
          "metadata": {
            "tags": [],
            "needs_background": "light"
          }
        }
      ]
    },
    {
      "cell_type": "markdown",
      "metadata": {
        "id": "D19fkYndc8gS",
        "colab_type": "text"
      },
      "source": [
        "Credit limit is a little higher for females in the case of defaults."
      ]
    },
    {
      "cell_type": "code",
      "metadata": {
        "id": "qa6nMcj3c8gT",
        "colab_type": "code",
        "colab": {
          "base_uri": "https://localhost:8080/",
          "height": 296
        },
        "outputId": "d1de2377-0a40-4c1a-c87c-6d1a94f8b40a"
      },
      "source": [
        "sns.distplot(data[data['default_payment_next_month']==1]['LIMIT_BAL'],color='red')\n",
        "sns.distplot(data[data['default_payment_next_month']==0]['LIMIT_BAL'],color='green')\n",
        "plt.title('Amount of credit limit  - grouped by default or non-default (Density Plot)')\n",
        "plt.show()"
      ],
      "execution_count": null,
      "outputs": [
        {
          "output_type": "display_data",
          "data": {
            "image/png": "[encoded data removed]",
            "text/plain": [
              "<Figure size 432x288 with 1 Axes>"
            ]
          },
          "metadata": {
            "tags": [],
            "needs_background": "light"
          }
        }
      ]
    },
    {
      "cell_type": "markdown",
      "metadata": {
        "id": "fPeT_7f2c8gY",
        "colab_type": "text"
      },
      "source": [
        "Credit limit is 0-100,000 for most of the defaults. Modal value for the same is around 50,000."
      ]
    },
    {
      "cell_type": "markdown",
      "metadata": {
        "id": "IEOzi6Gec8gb",
        "colab_type": "text"
      },
      "source": [
        "BILL_AMT(s)-> CONTINUOUS"
      ]
    },
    {
      "cell_type": "code",
      "metadata": {
        "id": "kX2WOYxhc8gc",
        "colab_type": "code",
        "colab": {
          "base_uri": "https://localhost:8080/",
          "height": 513
        },
        "outputId": "84580f5c-a442-41e6-bc32-3fff07f66a99"
      },
      "source": [
        "var2 = ['BILL_AMT1','BILL_AMT2', 'BILL_AMT3', 'BILL_AMT4', 'BILL_AMT5', 'BILL_AMT6']\n",
        "\n",
        "plt.figure(figsize = (8,8))\n",
        "plt.title('Amount of bill statement (Apr-Sept) \\ncorrelation plot (Pearson)')\n",
        "corr2 = data[var2].corr()\n",
        "sns.heatmap(corr2,annot=True,cmap='RdYlGn',linewidths=0.2)\n",
        "plt.show()\n"
      ],
      "execution_count": null,
      "outputs": [
        {
          "output_type": "display_data",
          "data": {
            "image/png": "[encoded data removed]",
            "text/plain": [
              "<Figure size 576x576 with 2 Axes>"
            ]
          },
          "metadata": {
            "tags": [],
            "needs_background": "light"
          }
        }
      ]
    },
    {
      "cell_type": "markdown",
      "metadata": {
        "id": "QEQXPg9Ac8gh",
        "colab_type": "text"
      },
      "source": [
        "BILL_AMT(s) are highly correlated with each other. BILL_AMT1 is most relevant since it is the latest. "
      ]
    },
    {
      "cell_type": "markdown",
      "metadata": {
        "id": "22rUL9i0c8gi",
        "colab_type": "text"
      },
      "source": [
        "BILL_AMT1 "
      ]
    },
    {
      "cell_type": "code",
      "metadata": {
        "id": "b7TAcjAWc8gj",
        "colab_type": "code",
        "colab": {
          "base_uri": "https://localhost:8080/",
          "height": 72
        },
        "outputId": "d5392383-c6e5-4979-8cdd-3b256404ed2c"
      },
      "source": [
        "print('Maximum at Bill Amount 1 is:',data['BILL_AMT1'].max())\n",
        "print('Minimum at Bill Amount 1 is:',data['BILL_AMT1'].min())\n",
        "print('Average at Bill Amount 1 is:',data['BILL_AMT1'].mean())\n"
      ],
      "execution_count": null,
      "outputs": [
        {
          "output_type": "stream",
          "text": [
            "Maximum at Bill Amount 1 is: 964511.0\n",
            "Minimum at Bill Amount 1 is: -165580.0\n",
            "Average at Bill Amount 1 is: 51297.38610851263\n"
          ],
          "name": "stdout"
        }
      ]
    },
    {
      "cell_type": "code",
      "metadata": {
        "id": "SYXTNe13c8gp",
        "colab_type": "code",
        "colab": {
          "base_uri": "https://localhost:8080/",
          "height": 297
        },
        "outputId": "1bf8366e-c695-41d1-896d-1a1252ed3e4c"
      },
      "source": [
        "sns.barplot(x=\"default_payment_next_month\",y=\"BILL_AMT1\",data = data,ci=None)\n"
      ],
      "execution_count": null,
      "outputs": [
        {
          "output_type": "execute_result",
          "data": {
            "text/plain": [
              "<matplotlib.axes._subplots.AxesSubplot at 0x7f4c8b174a20>"
            ]
          },
          "metadata": {
            "tags": []
          },
          "execution_count": 59
        },
        {
          "output_type": "display_data",
          "data": {
            "image/png": "[encoded data removed]",
            "text/plain": [
              "<Figure size 432x288 with 1 Axes>"
            ]
          },
          "metadata": {
            "tags": [],
            "needs_background": "light"
          }
        }
      ]
    },
    {
      "cell_type": "markdown",
      "metadata": {
        "id": "-5-8swUwc8gt",
        "colab_type": "text"
      },
      "source": [
        "Average latest bill amount for default is little less than 50,000"
      ]
    },
    {
      "cell_type": "code",
      "metadata": {
        "id": "Ee6YIbVoc8gv",
        "colab_type": "code",
        "colab": {
          "base_uri": "https://localhost:8080/",
          "height": 297
        },
        "outputId": "4a00996b-4155-45ba-9916-355d140e6851"
      },
      "source": [
        "sns.barplot(x=\"default_payment_next_month\",y=\"BILL_AMT1\",hue = \"SEX\",data = data,ci=None)\n"
      ],
      "execution_count": null,
      "outputs": [
        {
          "output_type": "execute_result",
          "data": {
            "text/plain": [
              "<matplotlib.axes._subplots.AxesSubplot at 0x7f4c86e39908>"
            ]
          },
          "metadata": {
            "tags": []
          },
          "execution_count": 60
        },
        {
          "output_type": "display_data",
          "data": {
            "image/png": "[encoded data removed]",
            "text/plain": [
              "<Figure size 432x288 with 1 Axes>"
            ]
          },
          "metadata": {
            "tags": [],
            "needs_background": "light"
          }
        }
      ]
    },
    {
      "cell_type": "markdown",
      "metadata": {
        "id": "yoKPO36tc8hC",
        "colab_type": "text"
      },
      "source": [
        "The above plot shows average bill_amount1 for defaultees split between males and females "
      ]
    },
    {
      "cell_type": "code",
      "metadata": {
        "id": "7t8vka-yc8hE",
        "colab_type": "code",
        "colab": {
          "base_uri": "https://localhost:8080/",
          "height": 54
        },
        "outputId": "e9e40e84-55e7-42a9-d0d8-ea7d815387c2"
      },
      "source": [
        "data[((data['default_payment_next_month'] == 1) & (data['BILL_AMT1'] == 0))]['BILL_AMT1'].value_counts()\n"
      ],
      "execution_count": null,
      "outputs": [
        {
          "output_type": "execute_result",
          "data": {
            "text/plain": [
              "0.0    534\n",
              "Name: BILL_AMT1, dtype: int64"
            ]
          },
          "metadata": {
            "tags": []
          },
          "execution_count": 61
        }
      ]
    },
    {
      "cell_type": "code",
      "metadata": {
        "id": "gy9dH3aoc8hI",
        "colab_type": "code",
        "colab": {
          "base_uri": "https://localhost:8080/",
          "height": 35
        },
        "outputId": "23d43918-42c0-4945-f92d-769fb4fd0d3f"
      },
      "source": [
        "data[(data['default_payment_next_month'] == 1) & (data['BILL_AMT1'] < 0)]['BILL_AMT1'].nunique()\n"
      ],
      "execution_count": null,
      "outputs": [
        {
          "output_type": "execute_result",
          "data": {
            "text/plain": [
              "76"
            ]
          },
          "metadata": {
            "tags": []
          },
          "execution_count": 62
        }
      ]
    },
    {
      "cell_type": "markdown",
      "metadata": {
        "id": "pWDFqVuwc8hO",
        "colab_type": "text"
      },
      "source": [
        "Some defaulted people had Bill-amount in September 2005 equal to and less than zero which seems like a contradiction to default (as they should have some bill amount to default)"
      ]
    },
    {
      "cell_type": "markdown",
      "metadata": {
        "id": "WhM8oc27c8hP",
        "colab_type": "text"
      },
      "source": [
        "CORRELATION for 'PAY_AMT1','PAY_AMT2', 'PAY_AMT3', 'PAY_AMT4', 'PAY_AMT5' , 'PAY_AMT6' and default"
      ]
    },
    {
      "cell_type": "code",
      "metadata": {
        "id": "9KdY_biQc8hP",
        "colab_type": "code",
        "colab": {
          "base_uri": "https://localhost:8080/",
          "height": 513
        },
        "outputId": "1ccbf454-6a67-458a-ba8b-a628ed7f2302"
      },
      "source": [
        "var3 = ['PAY_AMT1','PAY_AMT2', 'PAY_AMT3', 'PAY_AMT4','PAY_AMT5', 'PAY_AMT6']\n",
        "\n",
        "plt.figure(figsize = (8,8))\n",
        "plt.title('Payment made last month on bill (Apr-Sept) \\ncorrelation plot (Pearson)')\n",
        "corr3 = data[var3].corr()\n",
        "sns.heatmap(corr3,annot=True,cmap='RdYlGn',linewidths=0.2)\n",
        "plt.show()\n"
      ],
      "execution_count": null,
      "outputs": [
        {
          "output_type": "display_data",
          "data": {
            "image/png": "[encoded data removed]",
            "text/plain": [
              "<Figure size 576x576 with 2 Axes>"
            ]
          },
          "metadata": {
            "tags": [],
            "needs_background": "light"
          }
        }
      ]
    },
    {
      "cell_type": "markdown",
      "metadata": {
        "id": "1C-C37_Cc8hU",
        "colab_type": "text"
      },
      "source": [
        "PAY_AMT(s) have a very low correlatiion and also the latest is the most relevant. So we only analyse the latest."
      ]
    },
    {
      "cell_type": "markdown",
      "metadata": {
        "id": "vjYuwNQpc8hV",
        "colab_type": "text"
      },
      "source": [
        "PAY_AMT1-> CONTINOUS"
      ]
    },
    {
      "cell_type": "code",
      "metadata": {
        "id": "7e2-P-FOc8hW",
        "colab_type": "code",
        "colab": {
          "base_uri": "https://localhost:8080/",
          "height": 297
        },
        "outputId": "207e1d76-dc19-44f9-9c28-332a2c2c8d89"
      },
      "source": [
        "sns.barplot(x = \"default_payment_next_month\", y = \"PAY_AMT1\", data = data, ci=None)\n"
      ],
      "execution_count": null,
      "outputs": [
        {
          "output_type": "execute_result",
          "data": {
            "text/plain": [
              "<matplotlib.axes._subplots.AxesSubplot at 0x7f4c8abdb240>"
            ]
          },
          "metadata": {
            "tags": []
          },
          "execution_count": 64
        },
        {
          "output_type": "display_data",
          "data": {
            "image/png": "[encoded data removed]",
            "text/plain": [
              "<Figure size 432x288 with 1 Axes>"
            ]
          },
          "metadata": {
            "tags": [],
            "needs_background": "light"
          }
        }
      ]
    },
    {
      "cell_type": "markdown",
      "metadata": {
        "id": "bfLvbWb8c8hZ",
        "colab_type": "text"
      },
      "source": [
        "As per the above plot the defaulters have made a previuos payment on the latest bill of an average of 3,500"
      ]
    },
    {
      "cell_type": "code",
      "metadata": {
        "id": "z_AY6coec8ha",
        "colab_type": "code",
        "colab": {
          "base_uri": "https://localhost:8080/",
          "height": 622
        },
        "outputId": "548b1b40-64cb-4c83-c849-1b7d96bb4507"
      },
      "source": [
        "var4 = ['AGE','BILL_AMT1', 'PAY_AMT1', 'LIMIT_BAL','default_payment_next_month']\n",
        "plt.figure(figsize = (8,8))\n",
        "corr4 = data[var4].corr()\n",
        "sns.heatmap(corr4,annot=True,cmap='RdYlGn',linewidths=0.2)\n",
        "plt.show()"
      ],
      "execution_count": null,
      "outputs": [
        {
          "output_type": "display_data",
          "data": {
            "image/png": "[encoded data removed]",
            "text/plain": [
              "<Figure size 576x576 with 2 Axes>"
            ]
          },
          "metadata": {
            "tags": [],
            "needs_background": "light"
          }
        }
      ]
    },
    {
      "cell_type": "markdown",
      "metadata": {
        "id": "4GYdjDIrc8he",
        "colab_type": "text"
      },
      "source": [
        "As per the above correlation matrix there is not much of correlation b/w the mentioned variables and also the dependent variable."
      ]
    },
    {
      "cell_type": "markdown",
      "metadata": {
        "id": "yj3VXkHec8hf",
        "colab_type": "text"
      },
      "source": [
        "# Models "
      ]
    },
    {
      "cell_type": "markdown",
      "metadata": {
        "id": "YA5zZH6gc8hg",
        "colab_type": "text"
      },
      "source": [
        "Splitting the data and stratifying the data for model use"
      ]
    },
    {
      "cell_type": "code",
      "metadata": {
        "id": "DbDSssLcc8hg",
        "colab_type": "code",
        "colab": {}
      },
      "source": [
        "from sklearn.model_selection import train_test_split\n",
        "G = data.drop(['default_payment_next_month'],1)\n",
        "h = data['default_payment_next_month']\n",
        "G = np.array(G)\n",
        "h = np.array(h)\n",
        "G_train, G_test, h_train, h_test = train_test_split(G, h, test_size= 0.3, stratify = data['default_payment_next_month'])\n"
      ],
      "execution_count": null,
      "outputs": []
    },
    {
      "cell_type": "code",
      "metadata": {
        "id": "w4eDfSRvc8hl",
        "colab_type": "code",
        "colab": {
          "base_uri": "https://localhost:8080/",
          "height": 72
        },
        "outputId": "2dde7c9f-adc3-413d-e43f-954bc66e6f4a"
      },
      "source": [
        "pd.Series(h_train).value_counts()"
      ],
      "execution_count": null,
      "outputs": [
        {
          "output_type": "execute_result",
          "data": {
            "text/plain": [
              "0    16310\n",
              "1     4642\n",
              "dtype: int64"
            ]
          },
          "metadata": {
            "tags": []
          },
          "execution_count": 67
        }
      ]
    },
    {
      "cell_type": "code",
      "metadata": {
        "id": "LzToom3Rc8hp",
        "colab_type": "code",
        "colab": {
          "base_uri": "https://localhost:8080/",
          "height": 72
        },
        "outputId": "9eafde3f-0b73-4a64-ec12-321e0e52e481"
      },
      "source": [
        "pd.Series(h_test).value_counts()\n"
      ],
      "execution_count": null,
      "outputs": [
        {
          "output_type": "execute_result",
          "data": {
            "text/plain": [
              "0    6991\n",
              "1    1989\n",
              "dtype: int64"
            ]
          },
          "metadata": {
            "tags": []
          },
          "execution_count": 68
        }
      ]
    },
    {
      "cell_type": "markdown",
      "metadata": {
        "id": "8bz_VGHtc8ht",
        "colab_type": "text"
      },
      "source": [
        "Scaling done below to Standardise the data"
      ]
    },
    {
      "cell_type": "code",
      "metadata": {
        "id": "q-uE2I-Lc8hu",
        "colab_type": "code",
        "colab": {}
      },
      "source": [
        "from sklearn.preprocessing import StandardScaler\n",
        "sc = StandardScaler()\n",
        "G_train = pd.DataFrame(sc.fit_transform(G_train))\n",
        "G_test = pd.DataFrame(sc.transform(G_test))\n"
      ],
      "execution_count": null,
      "outputs": []
    },
    {
      "cell_type": "code",
      "metadata": {
        "id": "f6jlDndVc8hy",
        "colab_type": "code",
        "colab": {}
      },
      "source": [
        "G_train.head()"
      ],
      "execution_count": null,
      "outputs": []
    },
    {
      "cell_type": "code",
      "metadata": {
        "id": "ioNR-1lKc8h1",
        "colab_type": "code",
        "colab": {
          "base_uri": "https://localhost:8080/",
          "height": 35
        },
        "outputId": "772c4df8-38e1-4a3a-c01a-0b3daa7be171"
      },
      "source": [
        "# Logistic Regression\n",
        "from sklearn.linear_model import LogisticRegression\n",
        "from sklearn.metrics import accuracy_score\n",
        "model = LogisticRegression()\n",
        "model.fit(G_train, h_train) \n",
        "h_pred = model.predict(G_test)\n",
        "acc = accuracy_score(h_test, h_pred)\n",
        "print('Logistic Regression_Accuracy_Score:', acc * 100)"
      ],
      "execution_count": null,
      "outputs": [
        {
          "output_type": "stream",
          "text": [
            "Logistic Regression_Accuracy_Score: 81.70378619153675\n"
          ],
          "name": "stdout"
        }
      ]
    },
    {
      "cell_type": "code",
      "metadata": {
        "id": "oLtRIr4Wc8h6",
        "colab_type": "code",
        "colab": {}
      },
      "source": [
        "# Importing the libraries required for ROC curve\n",
        "from sklearn.metrics import roc_curve\n",
        "from sklearn.metrics import roc_auc_score\n"
      ],
      "execution_count": null,
      "outputs": []
    },
    {
      "cell_type": "markdown",
      "metadata": {
        "id": "MvE0ulPPc8h-",
        "colab_type": "text"
      },
      "source": [
        "For ROC curve we assume no skill model to be ns and lr to be logistic regression. "
      ]
    },
    {
      "cell_type": "code",
      "metadata": {
        "id": "SuF9oTyFc8h-",
        "colab_type": "code",
        "colab": {}
      },
      "source": [
        "# No skill probability \n",
        "ns_probs = [0 for _ in range(len(h_test))] "
      ],
      "execution_count": null,
      "outputs": []
    },
    {
      "cell_type": "code",
      "metadata": {
        "id": "sHpVx-Ync8iD",
        "colab_type": "code",
        "colab": {}
      },
      "source": [
        "# Probabilities for logistic regression\n",
        "lr_probs = model.predict_proba(G_test)"
      ],
      "execution_count": null,
      "outputs": []
    },
    {
      "cell_type": "code",
      "metadata": {
        "id": "OF8JAGb4c8iN",
        "colab_type": "code",
        "colab": {}
      },
      "source": [
        "lr_probs = lr_probs[:, 1]"
      ],
      "execution_count": null,
      "outputs": []
    },
    {
      "cell_type": "code",
      "metadata": {
        "id": "FILLj94Ac8iQ",
        "colab_type": "code",
        "colab": {}
      },
      "source": [
        "ns_auc = roc_auc_score(h_test, ns_probs)\n",
        "lr_auc = roc_auc_score(h_test, lr_probs)"
      ],
      "execution_count": null,
      "outputs": []
    },
    {
      "cell_type": "code",
      "metadata": {
        "id": "bqJK6lDFc8iU",
        "colab_type": "code",
        "colab": {
          "base_uri": "https://localhost:8080/",
          "height": 54
        },
        "outputId": "9a59e863-9aa0-4cf1-fdc2-ed45401bc0ff"
      },
      "source": [
        "print('No Skill: ROC AUC=%.3f' % (ns_auc))\n",
        "print('Logistic: ROC AUC=%.3f' % (lr_auc))"
      ],
      "execution_count": null,
      "outputs": [
        {
          "output_type": "stream",
          "text": [
            "No Skill: ROC AUC=0.500\n",
            "Logistic: ROC AUC=0.728\n"
          ],
          "name": "stdout"
        }
      ]
    },
    {
      "cell_type": "code",
      "metadata": {
        "id": "VP4-oeN_c8iZ",
        "colab_type": "code",
        "colab": {}
      },
      "source": [
        "# Calculation of False Positive Rate and True Positive Rate for No Skill Model and Logistic Regression\n",
        "ns_fpr, ns_tpr, _ = roc_curve(h_test, ns_probs)\n",
        "lr_fpr, lr_tpr, _ = roc_curve(h_test, lr_probs)"
      ],
      "execution_count": null,
      "outputs": []
    },
    {
      "cell_type": "code",
      "metadata": {
        "id": "I5eSrIkOc8ic",
        "colab_type": "code",
        "colab": {
          "base_uri": "https://localhost:8080/",
          "height": 279
        },
        "outputId": "03dc4834-9116-4cab-8a0f-cc818496f42e"
      },
      "source": [
        "# Plotting the ROC\n",
        "plt.plot(ns_fpr, ns_tpr, linestyle='--', label='No Skill')\n",
        "plt.plot(lr_fpr, lr_tpr, marker='.', label='Logistic')\n",
        "plt.xlabel('False Positive Rate')\n",
        "plt.ylabel('True Positive Rate')\n",
        "plt.legend()\n",
        "plt.show()"
      ],
      "execution_count": null,
      "outputs": [
        {
          "output_type": "display_data",
          "data": {
            "image/png": "[encoded data removed]",
            "text/plain": [
              "<Figure size 432x288 with 1 Axes>"
            ]
          },
          "metadata": {
            "tags": [],
            "needs_background": "light"
          }
        }
      ]
    },
    {
      "cell_type": "code",
      "metadata": {
        "id": "Jx2Yys6uc8ig",
        "colab_type": "code",
        "colab": {
          "base_uri": "https://localhost:8080/",
          "height": 35
        },
        "outputId": "413277ab-79f4-47e5-bbbb-34939334430e"
      },
      "source": [
        "#SVC\n",
        "from sklearn.svm import SVC\n",
        "from sklearn.metrics import accuracy_score\n",
        "classifier_SVC = SVC(kernel = 'linear', random_state = 42,probability = True,cache_size=700)\n",
        "classifier_SVC.fit(G_train, h_train)\n",
        "\n",
        "h_pred_SVC = classifier_SVC.predict(G_test)\n",
        "acc = accuracy_score(h_test, h_pred_SVC)\n",
        "print('SVM:', acc * 100) \n"
      ],
      "execution_count": null,
      "outputs": [
        {
          "output_type": "stream",
          "text": [
            "SVM: 81.57015590200446\n"
          ],
          "name": "stdout"
        }
      ]
    },
    {
      "cell_type": "code",
      "metadata": {
        "id": "FnBh2QEEc8ik",
        "colab_type": "code",
        "colab": {
          "base_uri": "https://localhost:8080/",
          "height": 54
        },
        "outputId": "fa324e01-8687-4249-bfb7-a1a064abd6b6"
      },
      "source": [
        "# No skill probability - should be same for all models \n",
        "ns_probs_SVC = [0 for _ in range(len(h_test))]\n",
        "\n",
        "# Probabilities for SVM\n",
        "SVC_probs = classifier_SVC.predict_proba(G_test)\n",
        "\n",
        "SVC_probs = SVC_probs[:, 1]\n",
        "\n",
        "ns_auc_SVC = roc_auc_score(h_test, ns_probs_SVC)\n",
        "SVC_auc = roc_auc_score(h_test, SVC_probs)\n",
        "\n",
        "print('No Skill: ROC AUC=%.3f' % (ns_auc_SVC))\n",
        "print('SVC: ROC AUC=%.3f' % (SVC_auc))\n"
      ],
      "execution_count": null,
      "outputs": [
        {
          "output_type": "stream",
          "text": [
            "No Skill: ROC AUC=0.500\n",
            "SVC: ROC AUC=0.703\n"
          ],
          "name": "stdout"
        }
      ]
    },
    {
      "cell_type": "code",
      "metadata": {
        "id": "S0Oqq8Jhc8in",
        "colab_type": "code",
        "colab": {}
      },
      "source": [
        "#Calculation of False Positive Rate and True Positive Rate for No Skill Model and SVM\n",
        "\n",
        "ns_fpr_SVC, ns_tpr_SVC, _SVC = roc_curve(h_test, ns_probs_SVC)\n",
        "SVC_fpr, SVC_tpr, _SVC = roc_curve(h_test, SVC_probs)"
      ],
      "execution_count": null,
      "outputs": []
    },
    {
      "cell_type": "code",
      "metadata": {
        "id": "wbC5-bOwc8ir",
        "colab_type": "code",
        "colab": {
          "base_uri": "https://localhost:8080/",
          "height": 279
        },
        "outputId": "850aae59-377a-42de-d10a-50068d21aa9e"
      },
      "source": [
        "# Plotting the ROC\n",
        "plt.plot(ns_fpr_SVC, ns_tpr_SVC, linestyle='--', label='No Skill')\n",
        "plt.plot(SVC_fpr, SVC_tpr, marker='.', label='SVC')\n",
        "plt.xlabel('False Positive Rate')\n",
        "plt.ylabel('True Positive Rate')\n",
        "plt.legend()\n",
        "plt.show()"
      ],
      "execution_count": null,
      "outputs": [
        {
          "output_type": "display_data",
          "data": {
            "image/png": "[encoded data removed]",
            "text/plain": [
              "<Figure size 432x288 with 1 Axes>"
            ]
          },
          "metadata": {
            "tags": [],
            "needs_background": "light"
          }
        }
      ]
    },
    {
      "cell_type": "code",
      "metadata": {
        "id": "ncrenUZKXFVt",
        "colab_type": "code",
        "colab": {
          "base_uri": "https://localhost:8080/",
          "height": 35
        },
        "outputId": "e2d8e9a1-ea85-4c2f-fc50-25b2b4b85f78"
      },
      "source": [
        "from sklearn.svm import SVC\n",
        "from sklearn.metrics import accuracy_score\n",
        "classifier_SVC = SVC(kernel = 'rbf', random_state = 42,probability = True,C=.4,gamma=.05)\n",
        "classifier_SVC.fit(G_train, h_train)\n",
        "\n",
        "h_pred_SVC = classifier_SVC.predict(G_test)\n",
        "acc = accuracy_score(h_test, h_pred_SVC)\n",
        "print('SVM:', acc * 100) \n"
      ],
      "execution_count": null,
      "outputs": [
        {
          "output_type": "stream",
          "text": [
            "SVM: 82.21603563474387\n"
          ],
          "name": "stdout"
        }
      ]
    },
    {
      "cell_type": "markdown",
      "metadata": {
        "id": "SlCgNOJBhgUX",
        "colab_type": "text"
      },
      "source": [
        "Accuracy not getting better using rbf kernel. Use lesser gamma = .1"
      ]
    },
    {
      "cell_type": "code",
      "metadata": {
        "id": "8IXBrLFNZ11H",
        "colab_type": "code",
        "colab": {}
      },
      "source": [
        "# No skill probability - should be same for all models \n",
        "ns_probs_SVC = [0 for _ in range(len(h_test))]\n"
      ],
      "execution_count": null,
      "outputs": []
    },
    {
      "cell_type": "code",
      "metadata": {
        "id": "egx2TKo0Z7xd",
        "colab_type": "code",
        "colab": {}
      },
      "source": [
        "# Probabilities for SVM\n",
        "SVC_probs = classifier_SVC.predict_proba(G_test)\n"
      ],
      "execution_count": null,
      "outputs": []
    },
    {
      "cell_type": "code",
      "metadata": {
        "id": "CVpH6EEQaBSN",
        "colab_type": "code",
        "colab": {}
      },
      "source": [
        "SVC_probs = SVC_probs[:, 1]"
      ],
      "execution_count": null,
      "outputs": []
    },
    {
      "cell_type": "code",
      "metadata": {
        "id": "zPNwQCNBaG7W",
        "colab_type": "code",
        "colab": {}
      },
      "source": [
        "ns_auc_SVC = roc_auc_score(h_test, ns_probs_SVC)\n",
        "SVC_auc = roc_auc_score(h_test, SVC_probs)\n"
      ],
      "execution_count": null,
      "outputs": []
    },
    {
      "cell_type": "code",
      "metadata": {
        "id": "1rd-B-ZXaKQl",
        "colab_type": "code",
        "colab": {
          "base_uri": "https://localhost:8080/",
          "height": 54
        },
        "outputId": "5aa4177b-1f8a-49f7-9832-e5398031335e"
      },
      "source": [
        "print('No Skill: ROC AUC=%.3f' % (ns_auc_SVC))\n",
        "print('SVC: ROC AUC=%.3f' % (SVC_auc))\n"
      ],
      "execution_count": null,
      "outputs": [
        {
          "output_type": "stream",
          "text": [
            "No Skill: ROC AUC=0.500\n",
            "SVC: ROC AUC=0.734\n"
          ],
          "name": "stdout"
        }
      ]
    },
    {
      "cell_type": "markdown",
      "metadata": {
        "id": "SMPKuMurPLYR",
        "colab_type": "text"
      },
      "source": [
        "We saw that the SVC model with rbf kernel has the greatest AUC. So, we choose this model for our prediction."
      ]
    }
  ]
}